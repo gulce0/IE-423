{
  "cells": [
    {
      "cell_type": "markdown",
      "metadata": {
        "id": "view-in-github",
        "colab_type": "text"
      },
      "source": [
        "<a href=\"https://colab.research.google.com/github/gulce0/IE-423/blob/main/Task8_Gulce.ipynb\" target=\"_parent\"><img src=\"https://colab.research.google.com/assets/colab-badge.svg\" alt=\"Open In Colab\"/></a>"
      ]
    },
    {
      "cell_type": "markdown",
      "metadata": {
        "id": "7vEXYAW0yV_T"
      },
      "source": [
        "# Initialize"
      ]
    },
    {
      "cell_type": "code",
      "execution_count": null,
      "metadata": {
        "id": "2WJLZrQWyLbN"
      },
      "outputs": [],
      "source": [
        "import pandas as pd\n",
        "import numpy as np\n",
        "import matplotlib.pyplot as plt\n",
        "import seaborn as sns"
      ]
    },
    {
      "cell_type": "markdown",
      "metadata": {
        "id": "DfcKq1ys0wyB"
      },
      "source": []
    },
    {
      "cell_type": "code",
      "execution_count": null,
      "metadata": {
        "colab": {
          "base_uri": "https://localhost:8080/"
        },
        "id": "S651rJ62yTog",
        "outputId": "62f9bd1a-556d-48e1-b023-964e4a4b6edc"
      },
      "outputs": [
        {
          "output_type": "stream",
          "name": "stdout",
          "text": [
            "Mounted at /content/drive\n"
          ]
        }
      ],
      "source": [
        "from google.colab import drive\n",
        "drive.mount('/content/drive')"
      ]
    },
    {
      "cell_type": "code",
      "execution_count": null,
      "metadata": {
        "id": "qSaHJEec0LYs"
      },
      "outputs": [],
      "source": [
        "# joke metadata\n",
        "dfJk = pd.read_csv('/content/drive/MyDrive/Colab Notebooks/data/jokes/JokeText.csv')\n",
        "\n",
        "# user ratings for each joke\n",
        "dfJkRts = pd.read_csv('/content/drive/MyDrive/Colab Notebooks/data/jokes/UserRatings1.csv')"
      ]
    },
    {
      "cell_type": "markdown",
      "metadata": {
        "id": "QD924Re20vKp"
      },
      "source": [
        "## Build Recommendations"
      ]
    },
    {
      "cell_type": "markdown",
      "metadata": {
        "id": "6FzvxG_i03Uu"
      },
      "source": [
        "### 1. Content Based Filtering"
      ]
    },
    {
      "cell_type": "markdown",
      "metadata": {
        "id": "lXXoXUlO1ACO"
      },
      "source": [
        "#### Prepare data"
      ]
    },
    {
      "cell_type": "code",
      "execution_count": null,
      "metadata": {
        "colab": {
          "base_uri": "https://localhost:8080/",
          "height": 204
        },
        "id": "mctWP2a30xx1",
        "outputId": "f687f811-629b-43fa-e8cc-7ca68d57c6b5"
      },
      "outputs": [
        {
          "output_type": "execute_result",
          "data": {
            "text/plain": [
              "   JokeId                                           JokeText\n",
              "0       0  A man visits the doctor. The doctor says \"I ha...\n",
              "1       1  This couple had an excellent relationship goin...\n",
              "2       2  Q. What's 200 feet long and has 4 teeth? \\n\\nA...\n",
              "3       3  Q. What's the difference between a man and a t...\n",
              "4       4  Q.\\tWhat's O. J. Simpson's Internet address? \\..."
            ],
            "text/html": [
              "\n",
              "  <div id=\"df-1fd8f1d4-4615-4a2d-82b5-77915586aa22\" class=\"colab-df-container\">\n",
              "    <div>\n",
              "<style scoped>\n",
              "    .dataframe tbody tr th:only-of-type {\n",
              "        vertical-align: middle;\n",
              "    }\n",
              "\n",
              "    .dataframe tbody tr th {\n",
              "        vertical-align: top;\n",
              "    }\n",
              "\n",
              "    .dataframe thead th {\n",
              "        text-align: right;\n",
              "    }\n",
              "</style>\n",
              "<table border=\"1\" class=\"dataframe\">\n",
              "  <thead>\n",
              "    <tr style=\"text-align: right;\">\n",
              "      <th></th>\n",
              "      <th>JokeId</th>\n",
              "      <th>JokeText</th>\n",
              "    </tr>\n",
              "  </thead>\n",
              "  <tbody>\n",
              "    <tr>\n",
              "      <th>0</th>\n",
              "      <td>0</td>\n",
              "      <td>A man visits the doctor. The doctor says \"I ha...</td>\n",
              "    </tr>\n",
              "    <tr>\n",
              "      <th>1</th>\n",
              "      <td>1</td>\n",
              "      <td>This couple had an excellent relationship goin...</td>\n",
              "    </tr>\n",
              "    <tr>\n",
              "      <th>2</th>\n",
              "      <td>2</td>\n",
              "      <td>Q. What's 200 feet long and has 4 teeth? \\n\\nA...</td>\n",
              "    </tr>\n",
              "    <tr>\n",
              "      <th>3</th>\n",
              "      <td>3</td>\n",
              "      <td>Q. What's the difference between a man and a t...</td>\n",
              "    </tr>\n",
              "    <tr>\n",
              "      <th>4</th>\n",
              "      <td>4</td>\n",
              "      <td>Q.\\tWhat's O. J. Simpson's Internet address? \\...</td>\n",
              "    </tr>\n",
              "  </tbody>\n",
              "</table>\n",
              "</div>\n",
              "    <div class=\"colab-df-buttons\">\n",
              "\n",
              "  <div class=\"colab-df-container\">\n",
              "    <button class=\"colab-df-convert\" onclick=\"convertToInteractive('df-1fd8f1d4-4615-4a2d-82b5-77915586aa22')\"\n",
              "            title=\"Convert this dataframe to an interactive table.\"\n",
              "            style=\"display:none;\">\n",
              "\n",
              "  <svg xmlns=\"http://www.w3.org/2000/svg\" height=\"24px\" viewBox=\"0 -960 960 960\">\n",
              "    <path d=\"M120-120v-720h720v720H120Zm60-500h600v-160H180v160Zm220 220h160v-160H400v160Zm0 220h160v-160H400v160ZM180-400h160v-160H180v160Zm440 0h160v-160H620v160ZM180-180h160v-160H180v160Zm440 0h160v-160H620v160Z\"/>\n",
              "  </svg>\n",
              "    </button>\n",
              "\n",
              "  <style>\n",
              "    .colab-df-container {\n",
              "      display:flex;\n",
              "      gap: 12px;\n",
              "    }\n",
              "\n",
              "    .colab-df-convert {\n",
              "      background-color: #E8F0FE;\n",
              "      border: none;\n",
              "      border-radius: 50%;\n",
              "      cursor: pointer;\n",
              "      display: none;\n",
              "      fill: #1967D2;\n",
              "      height: 32px;\n",
              "      padding: 0 0 0 0;\n",
              "      width: 32px;\n",
              "    }\n",
              "\n",
              "    .colab-df-convert:hover {\n",
              "      background-color: #E2EBFA;\n",
              "      box-shadow: 0px 1px 2px rgba(60, 64, 67, 0.3), 0px 1px 3px 1px rgba(60, 64, 67, 0.15);\n",
              "      fill: #174EA6;\n",
              "    }\n",
              "\n",
              "    .colab-df-buttons div {\n",
              "      margin-bottom: 4px;\n",
              "    }\n",
              "\n",
              "    [theme=dark] .colab-df-convert {\n",
              "      background-color: #3B4455;\n",
              "      fill: #D2E3FC;\n",
              "    }\n",
              "\n",
              "    [theme=dark] .colab-df-convert:hover {\n",
              "      background-color: #434B5C;\n",
              "      box-shadow: 0px 1px 3px 1px rgba(0, 0, 0, 0.15);\n",
              "      filter: drop-shadow(0px 1px 2px rgba(0, 0, 0, 0.3));\n",
              "      fill: #FFFFFF;\n",
              "    }\n",
              "  </style>\n",
              "\n",
              "    <script>\n",
              "      const buttonEl =\n",
              "        document.querySelector('#df-1fd8f1d4-4615-4a2d-82b5-77915586aa22 button.colab-df-convert');\n",
              "      buttonEl.style.display =\n",
              "        google.colab.kernel.accessAllowed ? 'block' : 'none';\n",
              "\n",
              "      async function convertToInteractive(key) {\n",
              "        const element = document.querySelector('#df-1fd8f1d4-4615-4a2d-82b5-77915586aa22');\n",
              "        const dataTable =\n",
              "          await google.colab.kernel.invokeFunction('convertToInteractive',\n",
              "                                                    [key], {});\n",
              "        if (!dataTable) return;\n",
              "\n",
              "        const docLinkHtml = 'Like what you see? Visit the ' +\n",
              "          '<a target=\"_blank\" href=https://colab.research.google.com/notebooks/data_table.ipynb>data table notebook</a>'\n",
              "          + ' to learn more about interactive tables.';\n",
              "        element.innerHTML = '';\n",
              "        dataTable['output_type'] = 'display_data';\n",
              "        await google.colab.output.renderOutput(dataTable, element);\n",
              "        const docLink = document.createElement('div');\n",
              "        docLink.innerHTML = docLinkHtml;\n",
              "        element.appendChild(docLink);\n",
              "      }\n",
              "    </script>\n",
              "  </div>\n",
              "\n",
              "\n",
              "<div id=\"df-4c3684b6-27bc-4e65-ac17-41fa50b20879\">\n",
              "  <button class=\"colab-df-quickchart\" onclick=\"quickchart('df-4c3684b6-27bc-4e65-ac17-41fa50b20879')\"\n",
              "            title=\"Suggest charts\"\n",
              "            style=\"display:none;\">\n",
              "\n",
              "<svg xmlns=\"http://www.w3.org/2000/svg\" height=\"24px\"viewBox=\"0 0 24 24\"\n",
              "     width=\"24px\">\n",
              "    <g>\n",
              "        <path d=\"M19 3H5c-1.1 0-2 .9-2 2v14c0 1.1.9 2 2 2h14c1.1 0 2-.9 2-2V5c0-1.1-.9-2-2-2zM9 17H7v-7h2v7zm4 0h-2V7h2v10zm4 0h-2v-4h2v4z\"/>\n",
              "    </g>\n",
              "</svg>\n",
              "  </button>\n",
              "\n",
              "<style>\n",
              "  .colab-df-quickchart {\n",
              "      --bg-color: #E8F0FE;\n",
              "      --fill-color: #1967D2;\n",
              "      --hover-bg-color: #E2EBFA;\n",
              "      --hover-fill-color: #174EA6;\n",
              "      --disabled-fill-color: #AAA;\n",
              "      --disabled-bg-color: #DDD;\n",
              "  }\n",
              "\n",
              "  [theme=dark] .colab-df-quickchart {\n",
              "      --bg-color: #3B4455;\n",
              "      --fill-color: #D2E3FC;\n",
              "      --hover-bg-color: #434B5C;\n",
              "      --hover-fill-color: #FFFFFF;\n",
              "      --disabled-bg-color: #3B4455;\n",
              "      --disabled-fill-color: #666;\n",
              "  }\n",
              "\n",
              "  .colab-df-quickchart {\n",
              "    background-color: var(--bg-color);\n",
              "    border: none;\n",
              "    border-radius: 50%;\n",
              "    cursor: pointer;\n",
              "    display: none;\n",
              "    fill: var(--fill-color);\n",
              "    height: 32px;\n",
              "    padding: 0;\n",
              "    width: 32px;\n",
              "  }\n",
              "\n",
              "  .colab-df-quickchart:hover {\n",
              "    background-color: var(--hover-bg-color);\n",
              "    box-shadow: 0 1px 2px rgba(60, 64, 67, 0.3), 0 1px 3px 1px rgba(60, 64, 67, 0.15);\n",
              "    fill: var(--button-hover-fill-color);\n",
              "  }\n",
              "\n",
              "  .colab-df-quickchart-complete:disabled,\n",
              "  .colab-df-quickchart-complete:disabled:hover {\n",
              "    background-color: var(--disabled-bg-color);\n",
              "    fill: var(--disabled-fill-color);\n",
              "    box-shadow: none;\n",
              "  }\n",
              "\n",
              "  .colab-df-spinner {\n",
              "    border: 2px solid var(--fill-color);\n",
              "    border-color: transparent;\n",
              "    border-bottom-color: var(--fill-color);\n",
              "    animation:\n",
              "      spin 1s steps(1) infinite;\n",
              "  }\n",
              "\n",
              "  @keyframes spin {\n",
              "    0% {\n",
              "      border-color: transparent;\n",
              "      border-bottom-color: var(--fill-color);\n",
              "      border-left-color: var(--fill-color);\n",
              "    }\n",
              "    20% {\n",
              "      border-color: transparent;\n",
              "      border-left-color: var(--fill-color);\n",
              "      border-top-color: var(--fill-color);\n",
              "    }\n",
              "    30% {\n",
              "      border-color: transparent;\n",
              "      border-left-color: var(--fill-color);\n",
              "      border-top-color: var(--fill-color);\n",
              "      border-right-color: var(--fill-color);\n",
              "    }\n",
              "    40% {\n",
              "      border-color: transparent;\n",
              "      border-right-color: var(--fill-color);\n",
              "      border-top-color: var(--fill-color);\n",
              "    }\n",
              "    60% {\n",
              "      border-color: transparent;\n",
              "      border-right-color: var(--fill-color);\n",
              "    }\n",
              "    80% {\n",
              "      border-color: transparent;\n",
              "      border-right-color: var(--fill-color);\n",
              "      border-bottom-color: var(--fill-color);\n",
              "    }\n",
              "    90% {\n",
              "      border-color: transparent;\n",
              "      border-bottom-color: var(--fill-color);\n",
              "    }\n",
              "  }\n",
              "</style>\n",
              "\n",
              "  <script>\n",
              "    async function quickchart(key) {\n",
              "      const quickchartButtonEl =\n",
              "        document.querySelector('#' + key + ' button');\n",
              "      quickchartButtonEl.disabled = true;  // To prevent multiple clicks.\n",
              "      quickchartButtonEl.classList.add('colab-df-spinner');\n",
              "      try {\n",
              "        const charts = await google.colab.kernel.invokeFunction(\n",
              "            'suggestCharts', [key], {});\n",
              "      } catch (error) {\n",
              "        console.error('Error during call to suggestCharts:', error);\n",
              "      }\n",
              "      quickchartButtonEl.classList.remove('colab-df-spinner');\n",
              "      quickchartButtonEl.classList.add('colab-df-quickchart-complete');\n",
              "    }\n",
              "    (() => {\n",
              "      let quickchartButtonEl =\n",
              "        document.querySelector('#df-4c3684b6-27bc-4e65-ac17-41fa50b20879 button');\n",
              "      quickchartButtonEl.style.display =\n",
              "        google.colab.kernel.accessAllowed ? 'block' : 'none';\n",
              "    })();\n",
              "  </script>\n",
              "</div>\n",
              "\n",
              "    </div>\n",
              "  </div>\n"
            ],
            "application/vnd.google.colaboratory.intrinsic+json": {
              "type": "dataframe",
              "variable_name": "dfJk",
              "summary": "{\n  \"name\": \"dfJk\",\n  \"rows\": 100,\n  \"fields\": [\n    {\n      \"column\": \"JokeId\",\n      \"properties\": {\n        \"dtype\": \"number\",\n        \"std\": 29,\n        \"min\": 0,\n        \"max\": 99,\n        \"num_unique_values\": 100,\n        \"samples\": [\n          83,\n          53,\n          70\n        ],\n        \"semantic_type\": \"\",\n        \"description\": \"\"\n      }\n    },\n    {\n      \"column\": \"JokeText\",\n      \"properties\": {\n        \"dtype\": \"string\",\n        \"num_unique_values\": 100,\n        \"samples\": [\n          \"Q: What is the difference between Mechanical Engineers and Civil \\nEngineers?\\n \\nA: Mechanical Engineers build weapons, Civil Engineers build targets.\\n\",\n          \"The Pope dies and, naturally, goes to heaven. He's met by the reception\\ncommittee, and after a whirlwind tour he is told that he can enjoy any\\nof the myriad of recreations available.\\nHe decides that he wants to read all of the ancient original text of the\\nHoly Scriptures, so he spends the next eon or so learning languages.\\nAfter becoming a linguistic master, he sits down in the library and\\nbegins to pour over every version of the Bible, working back from most\\nrecent \\\"Easy Reading\\\" to the original script.\\nAll of a sudden there is a scream in the library. The Angels come\\nrunning in only to find the Pope huddled in his chair, crying to himself\\nand muttering, \\\"An 'R'! The scribes left out the 'R'.\\\" \\nA particularly concerned Angel takes him aside, offering comfort, asks\\nhim what the problem is and what does he mean. \\nAfter collecting his\\nwits, the Pope sobs again, \\\"It's the letter 'R'. They left out the 'R'.\\nThe word was supposed to be CELEBRATE!\\\"\\n\",\n          \"At a recent Sacramento PC Users Group meeting,\\na company was demonstrating its latest speech-\\nrecognition software.   A representative from the\\ncompany was just about ready to start the\\ndemonstration and asked everyone in the room\\nto quiet down.\\n\\nJust then someone in the back of the room yelled,\\n\\\"Format C: Return.\\\"\\n\\nSomeone else chimed in:\\n\\\"Yes, Return\\\"\\n\\nUnfortunately, the software worked.\\n\\n\"\n        ],\n        \"semantic_type\": \"\",\n        \"description\": \"\"\n      }\n    }\n  ]\n}"
            }
          },
          "metadata": {},
          "execution_count": 4
        }
      ],
      "source": [
        "dfJk.head()"
      ]
    },
    {
      "cell_type": "code",
      "execution_count": null,
      "metadata": {
        "colab": {
          "base_uri": "https://localhost:8080/"
        },
        "id": "QP9cr65o1Jaa",
        "outputId": "875f2c84-711f-4882-8fa7-0292a9945f12"
      },
      "outputs": [
        {
          "output_type": "execute_result",
          "data": {
            "text/plain": [
              "(100, 2)"
            ]
          },
          "metadata": {},
          "execution_count": 5
        }
      ],
      "source": [
        "dfJk.shape"
      ]
    },
    {
      "cell_type": "code",
      "execution_count": null,
      "metadata": {
        "colab": {
          "base_uri": "https://localhost:8080/"
        },
        "id": "U4iPTCFF1LmP",
        "outputId": "577f9c44-dd3f-4631-a66b-dcc428bf1752"
      },
      "outputs": [
        {
          "output_type": "execute_result",
          "data": {
            "text/plain": [
              "(100, 2)"
            ]
          },
          "metadata": {},
          "execution_count": 6
        }
      ],
      "source": [
        "# Remove duplicates\n",
        "dfJk.drop_duplicates(subset ='JokeText', keep = 'first', inplace = True)\n",
        "dfJk.shape"
      ]
    },
    {
      "cell_type": "markdown",
      "metadata": {
        "id": "h0JLs4No19tU"
      },
      "source": [
        "#### *Build Model*"
      ]
    },
    {
      "cell_type": "code",
      "execution_count": null,
      "metadata": {
        "colab": {
          "base_uri": "https://localhost:8080/"
        },
        "id": "WRE6gBDo1lD0",
        "outputId": "8dbe1123-5011-4ab9-86c7-d29a16067aef"
      },
      "outputs": [
        {
          "output_type": "stream",
          "name": "stdout",
          "text": [
            "(100, 1378)\n"
          ]
        }
      ],
      "source": [
        "from sklearn.feature_extraction.text import TfidfVectorizer\n",
        "from sklearn.metrics.pairwise import linear_kernel\n",
        "\n",
        "# Prepare the TF-IDF matrix for the jokes\n",
        "tfidf = TfidfVectorizer(stop_words='english')\n",
        "tfidf_matrix = tfidf.fit_transform(dfJk['JokeText'])\n",
        "print(tfidf_matrix.shape)"
      ]
    },
    {
      "cell_type": "markdown",
      "metadata": {
        "id": "eM4z-LQM9Ivy"
      },
      "source": [
        "We use the TF-IDF (Term Frequency-Inverse Document Frequency) vectorizer to convert the text of the jokes into numerical vectors. These vectors represent the importance of each word in the jokes. We print the shape of the TF-IDF matrix, showing the number of jokes and the number of features (words or phrases)."
      ]
    },
    {
      "cell_type": "code",
      "execution_count": null,
      "metadata": {
        "id": "R6dR_tJ27P2K"
      },
      "outputs": [],
      "source": [
        "# Compute the cosine similarity matrix\n",
        "cosine_sim = linear_kernel(tfidf_matrix, tfidf_matrix)"
      ]
    },
    {
      "cell_type": "markdown",
      "metadata": {
        "id": "4GB_CF7Q9iQN"
      },
      "source": [
        "Cosine similarity measures the cosine of the angle between two vectors, giving a similarity score between 0 and 1."
      ]
    },
    {
      "cell_type": "code",
      "execution_count": null,
      "metadata": {
        "id": "6LVcZErQ7XKo"
      },
      "outputs": [],
      "source": [
        "# Function to get joke recommendations based on content\n",
        "def get_content_based_recommendations(joke_id, cosine_sim=cosine_sim):\n",
        "    # Get the index of the joke\n",
        "    idx = joke_id - 1  # Assuming joke_id starts from 1\n",
        "\n",
        "    # Get the pairwise similarity scores of all jokes with the selected joke\n",
        "    sim_scores = list(enumerate(cosine_sim[idx]))\n",
        "\n",
        "    # Sort the jokes based on the similarity scores\n",
        "    sim_scores = sorted(sim_scores, key=lambda x: x[1], reverse=True)\n",
        "\n",
        "    # Get the scores of the 10 most similar jokes\n",
        "    sim_scores = sim_scores[1:11]\n",
        "\n",
        "    # Get the joke indices\n",
        "    joke_indices = [i[0] for i in sim_scores]\n",
        "\n",
        "    # Return the top 10 most similar jokes\n",
        "    return dfJk.iloc[joke_indices]\n"
      ]
    },
    {
      "cell_type": "markdown",
      "metadata": {
        "id": "hNra5iTd9nUI"
      },
      "source": [
        "We define a function to get content-based recommendations for a given joke ID. This function uses the cosine similarity matrix to find the most similar jokes."
      ]
    },
    {
      "cell_type": "code",
      "execution_count": null,
      "metadata": {
        "colab": {
          "base_uri": "https://localhost:8080/"
        },
        "id": "u2pBlQlp7erj",
        "outputId": "12b9b80c-af13-40ab-dcaf-2ac60a5ab598"
      },
      "outputs": [
        {
          "output_type": "stream",
          "name": "stdout",
          "text": [
            "    JokeId                                           JokeText\n",
            "86      86  A man, recently completing a routine physical ...\n",
            "67      67  A man piloting a hot air balloon discovers he ...\n",
            "87      87  A Czechoslovakian man felt his eyesight was gr...\n",
            "75      75  There once was a man and a woman that both  go...\n",
            "31      31  A man arrives at the gates of heaven. St. Pete...\n",
            "38      38  What is the difference between men and women:\\...\n",
            "55      55  A man and Cindy Crawford get stranded on a des...\n",
            "80      80  An Asian man goes into a New York CityBank to ...\n",
            "32      32  What do you call an American in the finals of ...\n",
            "3        3  Q. What's the difference between a man and a t...\n"
          ]
        }
      ],
      "source": [
        "# Example: Get content-based recommendations for joke with ID 1\n",
        "content_recommendations = get_content_based_recommendations(1)\n",
        "print(content_recommendations)"
      ]
    },
    {
      "cell_type": "markdown",
      "metadata": {
        "id": "70taOy129vCG"
      },
      "source": [
        "This calls the get_content_based_recommendations function with joke_id 1 and prints the top 10 recommended jokes based on their content similarity."
      ]
    },
    {
      "cell_type": "markdown",
      "metadata": {
        "id": "8JaBeLFl-WpD"
      },
      "source": [
        "*The current content-based filtering model uses the description (in this case, the joke text) to make recommendations based on the textual content. To include the joke name (or title) in the recommendations, we can combine the joke name with the joke description into a single text field and then use this combined field for generating the TF-IDF matrix.*"
      ]
    },
    {
      "cell_type": "code",
      "execution_count": null,
      "metadata": {
        "id": "8YLNr_7H-bfe"
      },
      "outputs": [],
      "source": [
        "\n",
        "# Fill NaN values in the joketext column with empty strings\n",
        "dfJk['JokeText'] = dfJk['JokeText'].fillna('')\n",
        "\n",
        "# Combine the joke id and joketext into a new 'combined' column\n",
        "dfJk['combined'] = dfJk['JokeId'].astype(str) + \" \" + dfJk['JokeText']"
      ]
    },
    {
      "cell_type": "code",
      "execution_count": null,
      "metadata": {
        "colab": {
          "base_uri": "https://localhost:8080/"
        },
        "id": "QpihNlpG_T7o",
        "outputId": "ac11d117-edec-4431-c7c0-444c61dcbfd7"
      },
      "outputs": [
        {
          "output_type": "stream",
          "name": "stdout",
          "text": [
            "(100, 1444)\n"
          ]
        }
      ],
      "source": [
        "# Prepare the TF-IDF matrix for the combined text\n",
        "tfidf = TfidfVectorizer(stop_words='english')\n",
        "tfidf_matrix = tfidf.fit_transform(dfJk['combined'])\n",
        "print(tfidf_matrix.shape)\n"
      ]
    },
    {
      "cell_type": "code",
      "execution_count": null,
      "metadata": {
        "id": "7jXnn0U4_Yyh"
      },
      "outputs": [],
      "source": [
        "# Compute the cosine similarity matrix\n",
        "cosine_sim = linear_kernel(tfidf_matrix, tfidf_matrix)"
      ]
    },
    {
      "cell_type": "code",
      "execution_count": null,
      "metadata": {
        "id": "u0BmmetN_cWH"
      },
      "outputs": [],
      "source": [
        "# Function to get joke recommendations based on content\n",
        "def get_content_based_recommendations(joke_id, cosine_sim=cosine_sim):\n",
        "    # Get the index of the joke\n",
        "    idx = joke_id - 1  # Assuming joke_id starts from 1\n",
        "\n",
        "    # Get the pairwise similarity scores of all jokes with the selected joke\n",
        "    sim_scores = list(enumerate(cosine_sim[idx]))\n",
        "\n",
        "    # Sort the jokes based on the similarity scores\n",
        "    sim_scores = sorted(sim_scores, key=lambda x: x[1], reverse=True)\n",
        "\n",
        "    # Get the scores of the 10 most similar jokes\n",
        "    sim_scores = sim_scores[1:11]\n",
        "\n",
        "    # Get the joke indices\n",
        "    joke_indices = [i[0] for i in sim_scores]\n",
        "\n",
        "    # Return the top 10 most similar jokes\n",
        "    return dfJk.iloc[joke_indices]"
      ]
    },
    {
      "cell_type": "code",
      "execution_count": null,
      "metadata": {
        "colab": {
          "base_uri": "https://localhost:8080/"
        },
        "id": "aEOBTOY5_h_R",
        "outputId": "19a869ce-3a41-4098-ca31-d1298d5be8d3"
      },
      "outputs": [
        {
          "output_type": "stream",
          "name": "stdout",
          "text": [
            "    JokeId                                           JokeText  \\\n",
            "86      86  A man, recently completing a routine physical ...   \n",
            "67      67  A man piloting a hot air balloon discovers he ...   \n",
            "87      87  A Czechoslovakian man felt his eyesight was gr...   \n",
            "75      75  There once was a man and a woman that both  go...   \n",
            "31      31  A man arrives at the gates of heaven. St. Pete...   \n",
            "38      38  What is the difference between men and women:\\...   \n",
            "55      55  A man and Cindy Crawford get stranded on a des...   \n",
            "80      80  An Asian man goes into a New York CityBank to ...   \n",
            "32      32  What do you call an American in the finals of ...   \n",
            "3        3  Q. What's the difference between a man and a t...   \n",
            "\n",
            "                                             combined  \n",
            "86  86 A man, recently completing a routine physic...  \n",
            "67  67 A man piloting a hot air balloon discovers ...  \n",
            "87  87 A Czechoslovakian man felt his eyesight was...  \n",
            "75  75 There once was a man and a woman that both ...  \n",
            "31  31 A man arrives at the gates of heaven. St. P...  \n",
            "38  38 What is the difference between men and wome...  \n",
            "55  55 A man and Cindy Crawford get stranded on a ...  \n",
            "80  80 An Asian man goes into a New York CityBank ...  \n",
            "32  32 What do you call an American in the finals ...  \n",
            "3   3 Q. What's the difference between a man and a...  \n"
          ]
        }
      ],
      "source": [
        "# Example: Get content-based recommendations for joke with ID 1\n",
        "content_recommendations = get_content_based_recommendations(1)\n",
        "print(content_recommendations)\n"
      ]
    },
    {
      "cell_type": "markdown",
      "metadata": {
        "id": "DNHS0WlF_uTO"
      },
      "source": [
        "This approach ensures that the recommendations take into account both the joke ID and its text, providing more relevant suggestions."
      ]
    },
    {
      "cell_type": "markdown",
      "metadata": {
        "id": "LbUpnA0C_0Ia"
      },
      "source": [
        "### 2. Bundling Recommendation"
      ]
    },
    {
      "cell_type": "code",
      "execution_count": null,
      "metadata": {
        "colab": {
          "base_uri": "https://localhost:8080/",
          "height": 408
        },
        "id": "EAEaqHlIAJ1l",
        "outputId": "dccd448f-c033-40bd-962a-d33208c1585a"
      },
      "outputs": [
        {
          "output_type": "execute_result",
          "data": {
            "text/plain": [
              "   JokeId  User1  User2  User3  User4  User5  User6  User7  User8  User9  ...  \\\n",
              "0       0   5.10  -8.79  -3.50   7.14  -8.79   9.22  -4.03   3.11  -3.64  ...   \n",
              "1       1   4.90  -0.87  -2.91  -3.88  -0.58   9.37  -1.55   0.92  -3.35  ...   \n",
              "2       2   1.75   1.99  -2.18  -3.06  -0.58  -3.93  -3.64   7.52  -6.46  ...   \n",
              "3       3  -4.17  -4.61  -0.10   0.05   8.98   9.27  -6.99   0.49  -3.40  ...   \n",
              "4       4   5.15   5.39   7.52   6.26   7.67   3.45   5.44  -0.58   1.26  ...   \n",
              "5       5   1.75  -0.78   1.26   6.65   8.25  -8.11  -6.75   2.14   0.34  ...   \n",
              "6       6   4.76   1.60  -5.39  -7.52   4.08   4.42  -0.15  -0.24  -3.01  ...   \n",
              "7       7   3.30   1.07   1.50   7.28   2.52   2.72  -5.87   8.06  -6.65  ...   \n",
              "8       8  -2.57  -8.69  -8.40  -5.15  -9.66   9.08  -3.54   2.82  -3.40  ...   \n",
              "9       9  -1.41  -4.66   4.37  -7.14   2.48   9.13  -5.19   7.52   1.36  ...   \n",
              "\n",
              "   User36701  User36702  User36703  User36704  User36705  User36706  \\\n",
              "0        NaN        NaN        NaN        NaN        NaN        NaN   \n",
              "1        NaN        NaN        NaN      -5.63        NaN      -6.07   \n",
              "2        NaN        NaN        NaN        NaN        NaN       4.08   \n",
              "3        NaN        NaN        NaN        NaN        NaN        NaN   \n",
              "4       2.28      -0.49       5.10      -0.29      -3.54      -1.36   \n",
              "5        NaN      -3.40      -0.92      -4.27        NaN      -2.57   \n",
              "6      -9.95      -4.42       0.97      -3.54       6.36       3.01   \n",
              "7       4.32      -1.07       0.49      -2.14       2.57      -5.73   \n",
              "8        NaN        NaN        NaN        NaN        NaN        NaN   \n",
              "9      -8.40      -6.26      -1.17       0.44       7.52       8.59   \n",
              "\n",
              "   User36707  User36708  User36709  User36710  \n",
              "0        NaN        NaN       2.91        NaN  \n",
              "1        NaN      -1.60      -4.56        NaN  \n",
              "2        NaN        NaN       8.98        NaN  \n",
              "3        NaN        NaN        NaN        NaN  \n",
              "4       7.48      -5.78       0.73       2.62  \n",
              "5       9.32       7.96      -9.13       3.30  \n",
              "6       3.74       5.19      -9.42       0.53  \n",
              "7      -2.33       2.67       8.69      -2.62  \n",
              "8        NaN        NaN        NaN        NaN  \n",
              "9       8.88       6.07       8.35       3.06  \n",
              "\n",
              "[10 rows x 36711 columns]"
            ],
            "text/html": [
              "\n",
              "  <div id=\"df-367886c1-f804-41f8-9235-6167dc7a21df\" class=\"colab-df-container\">\n",
              "    <div>\n",
              "<style scoped>\n",
              "    .dataframe tbody tr th:only-of-type {\n",
              "        vertical-align: middle;\n",
              "    }\n",
              "\n",
              "    .dataframe tbody tr th {\n",
              "        vertical-align: top;\n",
              "    }\n",
              "\n",
              "    .dataframe thead th {\n",
              "        text-align: right;\n",
              "    }\n",
              "</style>\n",
              "<table border=\"1\" class=\"dataframe\">\n",
              "  <thead>\n",
              "    <tr style=\"text-align: right;\">\n",
              "      <th></th>\n",
              "      <th>JokeId</th>\n",
              "      <th>User1</th>\n",
              "      <th>User2</th>\n",
              "      <th>User3</th>\n",
              "      <th>User4</th>\n",
              "      <th>User5</th>\n",
              "      <th>User6</th>\n",
              "      <th>User7</th>\n",
              "      <th>User8</th>\n",
              "      <th>User9</th>\n",
              "      <th>...</th>\n",
              "      <th>User36701</th>\n",
              "      <th>User36702</th>\n",
              "      <th>User36703</th>\n",
              "      <th>User36704</th>\n",
              "      <th>User36705</th>\n",
              "      <th>User36706</th>\n",
              "      <th>User36707</th>\n",
              "      <th>User36708</th>\n",
              "      <th>User36709</th>\n",
              "      <th>User36710</th>\n",
              "    </tr>\n",
              "  </thead>\n",
              "  <tbody>\n",
              "    <tr>\n",
              "      <th>0</th>\n",
              "      <td>0</td>\n",
              "      <td>5.10</td>\n",
              "      <td>-8.79</td>\n",
              "      <td>-3.50</td>\n",
              "      <td>7.14</td>\n",
              "      <td>-8.79</td>\n",
              "      <td>9.22</td>\n",
              "      <td>-4.03</td>\n",
              "      <td>3.11</td>\n",
              "      <td>-3.64</td>\n",
              "      <td>...</td>\n",
              "      <td>NaN</td>\n",
              "      <td>NaN</td>\n",
              "      <td>NaN</td>\n",
              "      <td>NaN</td>\n",
              "      <td>NaN</td>\n",
              "      <td>NaN</td>\n",
              "      <td>NaN</td>\n",
              "      <td>NaN</td>\n",
              "      <td>2.91</td>\n",
              "      <td>NaN</td>\n",
              "    </tr>\n",
              "    <tr>\n",
              "      <th>1</th>\n",
              "      <td>1</td>\n",
              "      <td>4.90</td>\n",
              "      <td>-0.87</td>\n",
              "      <td>-2.91</td>\n",
              "      <td>-3.88</td>\n",
              "      <td>-0.58</td>\n",
              "      <td>9.37</td>\n",
              "      <td>-1.55</td>\n",
              "      <td>0.92</td>\n",
              "      <td>-3.35</td>\n",
              "      <td>...</td>\n",
              "      <td>NaN</td>\n",
              "      <td>NaN</td>\n",
              "      <td>NaN</td>\n",
              "      <td>-5.63</td>\n",
              "      <td>NaN</td>\n",
              "      <td>-6.07</td>\n",
              "      <td>NaN</td>\n",
              "      <td>-1.60</td>\n",
              "      <td>-4.56</td>\n",
              "      <td>NaN</td>\n",
              "    </tr>\n",
              "    <tr>\n",
              "      <th>2</th>\n",
              "      <td>2</td>\n",
              "      <td>1.75</td>\n",
              "      <td>1.99</td>\n",
              "      <td>-2.18</td>\n",
              "      <td>-3.06</td>\n",
              "      <td>-0.58</td>\n",
              "      <td>-3.93</td>\n",
              "      <td>-3.64</td>\n",
              "      <td>7.52</td>\n",
              "      <td>-6.46</td>\n",
              "      <td>...</td>\n",
              "      <td>NaN</td>\n",
              "      <td>NaN</td>\n",
              "      <td>NaN</td>\n",
              "      <td>NaN</td>\n",
              "      <td>NaN</td>\n",
              "      <td>4.08</td>\n",
              "      <td>NaN</td>\n",
              "      <td>NaN</td>\n",
              "      <td>8.98</td>\n",
              "      <td>NaN</td>\n",
              "    </tr>\n",
              "    <tr>\n",
              "      <th>3</th>\n",
              "      <td>3</td>\n",
              "      <td>-4.17</td>\n",
              "      <td>-4.61</td>\n",
              "      <td>-0.10</td>\n",
              "      <td>0.05</td>\n",
              "      <td>8.98</td>\n",
              "      <td>9.27</td>\n",
              "      <td>-6.99</td>\n",
              "      <td>0.49</td>\n",
              "      <td>-3.40</td>\n",
              "      <td>...</td>\n",
              "      <td>NaN</td>\n",
              "      <td>NaN</td>\n",
              "      <td>NaN</td>\n",
              "      <td>NaN</td>\n",
              "      <td>NaN</td>\n",
              "      <td>NaN</td>\n",
              "      <td>NaN</td>\n",
              "      <td>NaN</td>\n",
              "      <td>NaN</td>\n",
              "      <td>NaN</td>\n",
              "    </tr>\n",
              "    <tr>\n",
              "      <th>4</th>\n",
              "      <td>4</td>\n",
              "      <td>5.15</td>\n",
              "      <td>5.39</td>\n",
              "      <td>7.52</td>\n",
              "      <td>6.26</td>\n",
              "      <td>7.67</td>\n",
              "      <td>3.45</td>\n",
              "      <td>5.44</td>\n",
              "      <td>-0.58</td>\n",
              "      <td>1.26</td>\n",
              "      <td>...</td>\n",
              "      <td>2.28</td>\n",
              "      <td>-0.49</td>\n",
              "      <td>5.10</td>\n",
              "      <td>-0.29</td>\n",
              "      <td>-3.54</td>\n",
              "      <td>-1.36</td>\n",
              "      <td>7.48</td>\n",
              "      <td>-5.78</td>\n",
              "      <td>0.73</td>\n",
              "      <td>2.62</td>\n",
              "    </tr>\n",
              "    <tr>\n",
              "      <th>5</th>\n",
              "      <td>5</td>\n",
              "      <td>1.75</td>\n",
              "      <td>-0.78</td>\n",
              "      <td>1.26</td>\n",
              "      <td>6.65</td>\n",
              "      <td>8.25</td>\n",
              "      <td>-8.11</td>\n",
              "      <td>-6.75</td>\n",
              "      <td>2.14</td>\n",
              "      <td>0.34</td>\n",
              "      <td>...</td>\n",
              "      <td>NaN</td>\n",
              "      <td>-3.40</td>\n",
              "      <td>-0.92</td>\n",
              "      <td>-4.27</td>\n",
              "      <td>NaN</td>\n",
              "      <td>-2.57</td>\n",
              "      <td>9.32</td>\n",
              "      <td>7.96</td>\n",
              "      <td>-9.13</td>\n",
              "      <td>3.30</td>\n",
              "    </tr>\n",
              "    <tr>\n",
              "      <th>6</th>\n",
              "      <td>6</td>\n",
              "      <td>4.76</td>\n",
              "      <td>1.60</td>\n",
              "      <td>-5.39</td>\n",
              "      <td>-7.52</td>\n",
              "      <td>4.08</td>\n",
              "      <td>4.42</td>\n",
              "      <td>-0.15</td>\n",
              "      <td>-0.24</td>\n",
              "      <td>-3.01</td>\n",
              "      <td>...</td>\n",
              "      <td>-9.95</td>\n",
              "      <td>-4.42</td>\n",
              "      <td>0.97</td>\n",
              "      <td>-3.54</td>\n",
              "      <td>6.36</td>\n",
              "      <td>3.01</td>\n",
              "      <td>3.74</td>\n",
              "      <td>5.19</td>\n",
              "      <td>-9.42</td>\n",
              "      <td>0.53</td>\n",
              "    </tr>\n",
              "    <tr>\n",
              "      <th>7</th>\n",
              "      <td>7</td>\n",
              "      <td>3.30</td>\n",
              "      <td>1.07</td>\n",
              "      <td>1.50</td>\n",
              "      <td>7.28</td>\n",
              "      <td>2.52</td>\n",
              "      <td>2.72</td>\n",
              "      <td>-5.87</td>\n",
              "      <td>8.06</td>\n",
              "      <td>-6.65</td>\n",
              "      <td>...</td>\n",
              "      <td>4.32</td>\n",
              "      <td>-1.07</td>\n",
              "      <td>0.49</td>\n",
              "      <td>-2.14</td>\n",
              "      <td>2.57</td>\n",
              "      <td>-5.73</td>\n",
              "      <td>-2.33</td>\n",
              "      <td>2.67</td>\n",
              "      <td>8.69</td>\n",
              "      <td>-2.62</td>\n",
              "    </tr>\n",
              "    <tr>\n",
              "      <th>8</th>\n",
              "      <td>8</td>\n",
              "      <td>-2.57</td>\n",
              "      <td>-8.69</td>\n",
              "      <td>-8.40</td>\n",
              "      <td>-5.15</td>\n",
              "      <td>-9.66</td>\n",
              "      <td>9.08</td>\n",
              "      <td>-3.54</td>\n",
              "      <td>2.82</td>\n",
              "      <td>-3.40</td>\n",
              "      <td>...</td>\n",
              "      <td>NaN</td>\n",
              "      <td>NaN</td>\n",
              "      <td>NaN</td>\n",
              "      <td>NaN</td>\n",
              "      <td>NaN</td>\n",
              "      <td>NaN</td>\n",
              "      <td>NaN</td>\n",
              "      <td>NaN</td>\n",
              "      <td>NaN</td>\n",
              "      <td>NaN</td>\n",
              "    </tr>\n",
              "    <tr>\n",
              "      <th>9</th>\n",
              "      <td>9</td>\n",
              "      <td>-1.41</td>\n",
              "      <td>-4.66</td>\n",
              "      <td>4.37</td>\n",
              "      <td>-7.14</td>\n",
              "      <td>2.48</td>\n",
              "      <td>9.13</td>\n",
              "      <td>-5.19</td>\n",
              "      <td>7.52</td>\n",
              "      <td>1.36</td>\n",
              "      <td>...</td>\n",
              "      <td>-8.40</td>\n",
              "      <td>-6.26</td>\n",
              "      <td>-1.17</td>\n",
              "      <td>0.44</td>\n",
              "      <td>7.52</td>\n",
              "      <td>8.59</td>\n",
              "      <td>8.88</td>\n",
              "      <td>6.07</td>\n",
              "      <td>8.35</td>\n",
              "      <td>3.06</td>\n",
              "    </tr>\n",
              "  </tbody>\n",
              "</table>\n",
              "<p>10 rows × 36711 columns</p>\n",
              "</div>\n",
              "    <div class=\"colab-df-buttons\">\n",
              "\n",
              "  <div class=\"colab-df-container\">\n",
              "    <button class=\"colab-df-convert\" onclick=\"convertToInteractive('df-367886c1-f804-41f8-9235-6167dc7a21df')\"\n",
              "            title=\"Convert this dataframe to an interactive table.\"\n",
              "            style=\"display:none;\">\n",
              "\n",
              "  <svg xmlns=\"http://www.w3.org/2000/svg\" height=\"24px\" viewBox=\"0 -960 960 960\">\n",
              "    <path d=\"M120-120v-720h720v720H120Zm60-500h600v-160H180v160Zm220 220h160v-160H400v160Zm0 220h160v-160H400v160ZM180-400h160v-160H180v160Zm440 0h160v-160H620v160ZM180-180h160v-160H180v160Zm440 0h160v-160H620v160Z\"/>\n",
              "  </svg>\n",
              "    </button>\n",
              "\n",
              "  <style>\n",
              "    .colab-df-container {\n",
              "      display:flex;\n",
              "      gap: 12px;\n",
              "    }\n",
              "\n",
              "    .colab-df-convert {\n",
              "      background-color: #E8F0FE;\n",
              "      border: none;\n",
              "      border-radius: 50%;\n",
              "      cursor: pointer;\n",
              "      display: none;\n",
              "      fill: #1967D2;\n",
              "      height: 32px;\n",
              "      padding: 0 0 0 0;\n",
              "      width: 32px;\n",
              "    }\n",
              "\n",
              "    .colab-df-convert:hover {\n",
              "      background-color: #E2EBFA;\n",
              "      box-shadow: 0px 1px 2px rgba(60, 64, 67, 0.3), 0px 1px 3px 1px rgba(60, 64, 67, 0.15);\n",
              "      fill: #174EA6;\n",
              "    }\n",
              "\n",
              "    .colab-df-buttons div {\n",
              "      margin-bottom: 4px;\n",
              "    }\n",
              "\n",
              "    [theme=dark] .colab-df-convert {\n",
              "      background-color: #3B4455;\n",
              "      fill: #D2E3FC;\n",
              "    }\n",
              "\n",
              "    [theme=dark] .colab-df-convert:hover {\n",
              "      background-color: #434B5C;\n",
              "      box-shadow: 0px 1px 3px 1px rgba(0, 0, 0, 0.15);\n",
              "      filter: drop-shadow(0px 1px 2px rgba(0, 0, 0, 0.3));\n",
              "      fill: #FFFFFF;\n",
              "    }\n",
              "  </style>\n",
              "\n",
              "    <script>\n",
              "      const buttonEl =\n",
              "        document.querySelector('#df-367886c1-f804-41f8-9235-6167dc7a21df button.colab-df-convert');\n",
              "      buttonEl.style.display =\n",
              "        google.colab.kernel.accessAllowed ? 'block' : 'none';\n",
              "\n",
              "      async function convertToInteractive(key) {\n",
              "        const element = document.querySelector('#df-367886c1-f804-41f8-9235-6167dc7a21df');\n",
              "        const dataTable =\n",
              "          await google.colab.kernel.invokeFunction('convertToInteractive',\n",
              "                                                    [key], {});\n",
              "        if (!dataTable) return;\n",
              "\n",
              "        const docLinkHtml = 'Like what you see? Visit the ' +\n",
              "          '<a target=\"_blank\" href=https://colab.research.google.com/notebooks/data_table.ipynb>data table notebook</a>'\n",
              "          + ' to learn more about interactive tables.';\n",
              "        element.innerHTML = '';\n",
              "        dataTable['output_type'] = 'display_data';\n",
              "        await google.colab.output.renderOutput(dataTable, element);\n",
              "        const docLink = document.createElement('div');\n",
              "        docLink.innerHTML = docLinkHtml;\n",
              "        element.appendChild(docLink);\n",
              "      }\n",
              "    </script>\n",
              "  </div>\n",
              "\n",
              "\n",
              "<div id=\"df-72142cf9-b7ba-440e-b84f-2a74a24a600a\">\n",
              "  <button class=\"colab-df-quickchart\" onclick=\"quickchart('df-72142cf9-b7ba-440e-b84f-2a74a24a600a')\"\n",
              "            title=\"Suggest charts\"\n",
              "            style=\"display:none;\">\n",
              "\n",
              "<svg xmlns=\"http://www.w3.org/2000/svg\" height=\"24px\"viewBox=\"0 0 24 24\"\n",
              "     width=\"24px\">\n",
              "    <g>\n",
              "        <path d=\"M19 3H5c-1.1 0-2 .9-2 2v14c0 1.1.9 2 2 2h14c1.1 0 2-.9 2-2V5c0-1.1-.9-2-2-2zM9 17H7v-7h2v7zm4 0h-2V7h2v10zm4 0h-2v-4h2v4z\"/>\n",
              "    </g>\n",
              "</svg>\n",
              "  </button>\n",
              "\n",
              "<style>\n",
              "  .colab-df-quickchart {\n",
              "      --bg-color: #E8F0FE;\n",
              "      --fill-color: #1967D2;\n",
              "      --hover-bg-color: #E2EBFA;\n",
              "      --hover-fill-color: #174EA6;\n",
              "      --disabled-fill-color: #AAA;\n",
              "      --disabled-bg-color: #DDD;\n",
              "  }\n",
              "\n",
              "  [theme=dark] .colab-df-quickchart {\n",
              "      --bg-color: #3B4455;\n",
              "      --fill-color: #D2E3FC;\n",
              "      --hover-bg-color: #434B5C;\n",
              "      --hover-fill-color: #FFFFFF;\n",
              "      --disabled-bg-color: #3B4455;\n",
              "      --disabled-fill-color: #666;\n",
              "  }\n",
              "\n",
              "  .colab-df-quickchart {\n",
              "    background-color: var(--bg-color);\n",
              "    border: none;\n",
              "    border-radius: 50%;\n",
              "    cursor: pointer;\n",
              "    display: none;\n",
              "    fill: var(--fill-color);\n",
              "    height: 32px;\n",
              "    padding: 0;\n",
              "    width: 32px;\n",
              "  }\n",
              "\n",
              "  .colab-df-quickchart:hover {\n",
              "    background-color: var(--hover-bg-color);\n",
              "    box-shadow: 0 1px 2px rgba(60, 64, 67, 0.3), 0 1px 3px 1px rgba(60, 64, 67, 0.15);\n",
              "    fill: var(--button-hover-fill-color);\n",
              "  }\n",
              "\n",
              "  .colab-df-quickchart-complete:disabled,\n",
              "  .colab-df-quickchart-complete:disabled:hover {\n",
              "    background-color: var(--disabled-bg-color);\n",
              "    fill: var(--disabled-fill-color);\n",
              "    box-shadow: none;\n",
              "  }\n",
              "\n",
              "  .colab-df-spinner {\n",
              "    border: 2px solid var(--fill-color);\n",
              "    border-color: transparent;\n",
              "    border-bottom-color: var(--fill-color);\n",
              "    animation:\n",
              "      spin 1s steps(1) infinite;\n",
              "  }\n",
              "\n",
              "  @keyframes spin {\n",
              "    0% {\n",
              "      border-color: transparent;\n",
              "      border-bottom-color: var(--fill-color);\n",
              "      border-left-color: var(--fill-color);\n",
              "    }\n",
              "    20% {\n",
              "      border-color: transparent;\n",
              "      border-left-color: var(--fill-color);\n",
              "      border-top-color: var(--fill-color);\n",
              "    }\n",
              "    30% {\n",
              "      border-color: transparent;\n",
              "      border-left-color: var(--fill-color);\n",
              "      border-top-color: var(--fill-color);\n",
              "      border-right-color: var(--fill-color);\n",
              "    }\n",
              "    40% {\n",
              "      border-color: transparent;\n",
              "      border-right-color: var(--fill-color);\n",
              "      border-top-color: var(--fill-color);\n",
              "    }\n",
              "    60% {\n",
              "      border-color: transparent;\n",
              "      border-right-color: var(--fill-color);\n",
              "    }\n",
              "    80% {\n",
              "      border-color: transparent;\n",
              "      border-right-color: var(--fill-color);\n",
              "      border-bottom-color: var(--fill-color);\n",
              "    }\n",
              "    90% {\n",
              "      border-color: transparent;\n",
              "      border-bottom-color: var(--fill-color);\n",
              "    }\n",
              "  }\n",
              "</style>\n",
              "\n",
              "  <script>\n",
              "    async function quickchart(key) {\n",
              "      const quickchartButtonEl =\n",
              "        document.querySelector('#' + key + ' button');\n",
              "      quickchartButtonEl.disabled = true;  // To prevent multiple clicks.\n",
              "      quickchartButtonEl.classList.add('colab-df-spinner');\n",
              "      try {\n",
              "        const charts = await google.colab.kernel.invokeFunction(\n",
              "            'suggestCharts', [key], {});\n",
              "      } catch (error) {\n",
              "        console.error('Error during call to suggestCharts:', error);\n",
              "      }\n",
              "      quickchartButtonEl.classList.remove('colab-df-spinner');\n",
              "      quickchartButtonEl.classList.add('colab-df-quickchart-complete');\n",
              "    }\n",
              "    (() => {\n",
              "      let quickchartButtonEl =\n",
              "        document.querySelector('#df-72142cf9-b7ba-440e-b84f-2a74a24a600a button');\n",
              "      quickchartButtonEl.style.display =\n",
              "        google.colab.kernel.accessAllowed ? 'block' : 'none';\n",
              "    })();\n",
              "  </script>\n",
              "</div>\n",
              "\n",
              "    </div>\n",
              "  </div>\n"
            ],
            "application/vnd.google.colaboratory.intrinsic+json": {
              "type": "dataframe",
              "variable_name": "dfJkRts"
            }
          },
          "metadata": {},
          "execution_count": 16
        }
      ],
      "source": [
        "dfJkRts.head(10)"
      ]
    },
    {
      "cell_type": "code",
      "execution_count": null,
      "metadata": {
        "colab": {
          "base_uri": "https://localhost:8080/"
        },
        "id": "zWOThXr3FFXs",
        "outputId": "09866508-1c04-4d6e-9255-9d2c9e50a480"
      },
      "outputs": [
        {
          "output_type": "stream",
          "name": "stderr",
          "text": [
            "/usr/local/lib/python3.10/dist-packages/sklearn/cluster/_kmeans.py:1416: FutureWarning: The default value of `n_init` will change from 10 to 'auto' in 1.4. Set the value of `n_init` explicitly to suppress the warning\n",
            "  super()._check_params_vs_input(X, default_n_init=10)\n"
          ]
        }
      ],
      "source": [
        "from sklearn.cluster import KMeans\n",
        "\n",
        "# Perform KMeans clustering\n",
        "num_clusters = 5  # You can change the number of clusters\n",
        "kmeans = KMeans(n_clusters=num_clusters, random_state=42)\n",
        "kmeans.fit(tfidf_matrix)\n",
        "\n",
        "# Assign jokes to clusters\n",
        "dfJk['Cluster'] = kmeans.labels_"
      ]
    },
    {
      "cell_type": "code",
      "execution_count": null,
      "metadata": {
        "id": "imxUbU4UFLhX"
      },
      "outputs": [],
      "source": [
        "# Function to get jokes in the same cluster\n",
        "def get_bundle_recommendations(joke_id):\n",
        "  # Get the cluster of the joke\n",
        "  cluster_id = dfJk.loc[dfJk['JokeId'] == joke_id, 'Cluster'].values[0]\n",
        "\n",
        "  # Get jokes in the same cluster\n",
        "  cluster_jokes = dfJk[dfJk['Cluster'] == cluster_id]\n",
        "\n",
        "  # Return the jokes in the same cluster\n",
        "  return cluster_jokes"
      ]
    },
    {
      "cell_type": "code",
      "execution_count": null,
      "metadata": {
        "colab": {
          "base_uri": "https://localhost:8080/"
        },
        "id": "5qIU-JacFVs5",
        "outputId": "79e9ad93-352c-4825-b29c-fe86f1bae1ad"
      },
      "outputs": [
        {
          "output_type": "stream",
          "name": "stdout",
          "text": [
            "    JokeId                                           JokeText  \\\n",
            "0        0  A man visits the doctor. The doctor says \"I ha...   \n",
            "1        1  This couple had an excellent relationship goin...   \n",
            "2        2  Q. What's 200 feet long and has 4 teeth? \\n\\nA...   \n",
            "4        4  Q.\\tWhat's O. J. Simpson's Internet address? \\...   \n",
            "5        5  Bill & Hillary are on a trip back to Arkansas....   \n",
            "7        7  Q. Did you hear about the dyslexic devil worsh...   \n",
            "10      10  Q. What do a hurricane, a tornado, and a redne...   \n",
            "12      12  They asked the Japanese visitor if they have e...   \n",
            "14      14  Q:  What did the blind person say when given s...   \n",
            "15      15  Q. What is orange and sounds like a parrot?  \\...   \n",
            "18      18  Q: If a person who speaks three languages is c...   \n",
            "22      22  Q: What is the Australian word for a boomerang...   \n",
            "23      23  What do you get when you run over a parakeet w...   \n",
            "24      24  Two kindergarten girls were talking outside: o...   \n",
            "31      31  A man arrives at the gates of heaven. St. Pete...   \n",
            "36      36  A Jewish young man was seeing a psychiatrist f...   \n",
            "38      38  What is the difference between men and women:\\...   \n",
            "48      48  Three engineering students were gathered toget...   \n",
            "51      51  Q: What do Monica Lewinsky and Bob Dole have i...   \n",
            "52      52  One Sunday morning William burst into the livi...   \n",
            "54      54  A woman has twins, and gives them up for adopt...   \n",
            "55      55  A man and Cindy Crawford get stranded on a des...   \n",
            "56      56  Why are there so many Jones's in the phone boo...   \n",
            "58      58  The Chukcha (Russian Eskimo) phones up the Rus...   \n",
            "59      59  What did the Buddhist say to the hot dog vendo...   \n",
            "60      60  During a recent publicity outing, Hillary snea...   \n",
            "62      62  An engineer, a physicist and a mathematician a...   \n",
            "63      63  What is the rallying cry of the International ...   \n",
            "65      65  A lawyer opened the door of his BMW, when sudd...   \n",
            "66      66  Once upon a time, two brooms fell in love and ...   \n",
            "67      67  A man piloting a hot air balloon discovers he ...   \n",
            "68      68  This guys wife asks, \"Honey if I died would yo...   \n",
            "69      69  Employer to applicant: \"In this job we need so...   \n",
            "70      70  At a recent Sacramento PC Users Group meeting,...   \n",
            "71      71  On the first day of college, the Dean addresse...   \n",
            "75      75  There once was a man and a woman that both  go...   \n",
            "76      76  If pro- is the opposite of con- then congress ...   \n",
            "78      78  Q: Ever wonder why the IRS calls it Form 1040?...   \n",
            "80      80  An Asian man goes into a New York CityBank to ...   \n",
            "82      82  What a woman says:\\n\\n\"This place is a mess!  ...   \n",
            "86      86  A man, recently completing a routine physical ...   \n",
            "87      87  A Czechoslovakian man felt his eyesight was gr...   \n",
            "91      91  Early one morning a mother went to her sleepin...   \n",
            "92      92  Reaching the end of a job interview, the human...   \n",
            "93      93  Two atoms are walking down the street when one...   \n",
            "94      94  Just a thought ..\\n\\nBefore criticizing someon...   \n",
            "95      95  Two attorneys went into a diner and ordered tw...   \n",
            "98      98  A bus station is where a bus stops.\\nA train s...   \n",
            "\n",
            "                                             combined  Cluster  \n",
            "0   0 A man visits the doctor. The doctor says \"I ...        1  \n",
            "1   1 This couple had an excellent relationship go...        1  \n",
            "2   2 Q. What's 200 feet long and has 4 teeth? \\n\\...        1  \n",
            "4   4 Q.\\tWhat's O. J. Simpson's Internet address?...        1  \n",
            "5   5 Bill & Hillary are on a trip back to Arkansa...        1  \n",
            "7   7 Q. Did you hear about the dyslexic devil wor...        1  \n",
            "10  10 Q. What do a hurricane, a tornado, and a re...        1  \n",
            "12  12 They asked the Japanese visitor if they hav...        1  \n",
            "14  14 Q:  What did the blind person say when give...        1  \n",
            "15  15 Q. What is orange and sounds like a parrot?...        1  \n",
            "18  18 Q: If a person who speaks three languages i...        1  \n",
            "22  22 Q: What is the Australian word for a boomer...        1  \n",
            "23  23 What do you get when you run over a parakee...        1  \n",
            "24  24 Two kindergarten girls were talking outside...        1  \n",
            "31  31 A man arrives at the gates of heaven. St. P...        1  \n",
            "36  36 A Jewish young man was seeing a psychiatris...        1  \n",
            "38  38 What is the difference between men and wome...        1  \n",
            "48  48 Three engineering students were gathered to...        1  \n",
            "51  51 Q: What do Monica Lewinsky and Bob Dole hav...        1  \n",
            "52  52 One Sunday morning William burst into the l...        1  \n",
            "54  54 A woman has twins, and gives them up for ad...        1  \n",
            "55  55 A man and Cindy Crawford get stranded on a ...        1  \n",
            "56  56 Why are there so many Jones's in the phone ...        1  \n",
            "58  58 The Chukcha (Russian Eskimo) phones up the ...        1  \n",
            "59  59 What did the Buddhist say to the hot dog ve...        1  \n",
            "60  60 During a recent publicity outing, Hillary s...        1  \n",
            "62  62 An engineer, a physicist and a mathematicia...        1  \n",
            "63  63 What is the rallying cry of the Internation...        1  \n",
            "65  65 A lawyer opened the door of his BMW, when s...        1  \n",
            "66  66 Once upon a time, two brooms fell in love a...        1  \n",
            "67  67 A man piloting a hot air balloon discovers ...        1  \n",
            "68  68 This guys wife asks, \"Honey if I died would...        1  \n",
            "69  69 Employer to applicant: \"In this job we need...        1  \n",
            "70  70 At a recent Sacramento PC Users Group meeti...        1  \n",
            "71  71 On the first day of college, the Dean addre...        1  \n",
            "75  75 There once was a man and a woman that both ...        1  \n",
            "76  76 If pro- is the opposite of con- then congre...        1  \n",
            "78  78 Q: Ever wonder why the IRS calls it Form 10...        1  \n",
            "80  80 An Asian man goes into a New York CityBank ...        1  \n",
            "82  82 What a woman says:\\n\\n\"This place is a mess...        1  \n",
            "86  86 A man, recently completing a routine physic...        1  \n",
            "87  87 A Czechoslovakian man felt his eyesight was...        1  \n",
            "91  91 Early one morning a mother went to her slee...        1  \n",
            "92  92 Reaching the end of a job interview, the hu...        1  \n",
            "93  93 Two atoms are walking down the street when ...        1  \n",
            "94  94 Just a thought ..\\n\\nBefore criticizing som...        1  \n",
            "95  95 Two attorneys went into a diner and ordered...        1  \n",
            "98  98 A bus station is where a bus stops.\\nA trai...        1  \n"
          ]
        }
      ],
      "source": [
        "# Example: Get bundle recommendations for joke with ID 1\n",
        "bundle_recommendations = get_bundle_recommendations(1)\n",
        "print(bundle_recommendations)"
      ]
    },
    {
      "cell_type": "markdown",
      "metadata": {
        "id": "9JJrDnoWGWRX"
      },
      "source": [
        "### 3. Colloborative Filtering"
      ]
    },
    {
      "cell_type": "code",
      "execution_count": null,
      "metadata": {
        "id": "-Xr-MTBuGc4P"
      },
      "outputs": [],
      "source": [
        "import numpy as np\n",
        "from scipy.sparse.linalg import svds"
      ]
    },
    {
      "cell_type": "code",
      "execution_count": null,
      "metadata": {
        "colab": {
          "base_uri": "https://localhost:8080/"
        },
        "id": "Y3IkgLO2GmFx",
        "outputId": "80d6aa4f-f78b-4115-dd8f-3a318a84f8e4"
      },
      "outputs": [
        {
          "output_type": "stream",
          "name": "stdout",
          "text": [
            "Jokes DataFrame:\n",
            "   JokeId                                           JokeText  \\\n",
            "0       0  A man visits the doctor. The doctor says \"I ha...   \n",
            "1       1  This couple had an excellent relationship goin...   \n",
            "2       2  Q. What's 200 feet long and has 4 teeth? \\n\\nA...   \n",
            "3       3  Q. What's the difference between a man and a t...   \n",
            "4       4  Q.\\tWhat's O. J. Simpson's Internet address? \\...   \n",
            "\n",
            "                                            combined  Cluster  \n",
            "0  0 A man visits the doctor. The doctor says \"I ...        1  \n",
            "1  1 This couple had an excellent relationship go...        1  \n",
            "2  2 Q. What's 200 feet long and has 4 teeth? \\n\\...        1  \n",
            "3  3 Q. What's the difference between a man and a...        3  \n",
            "4  4 Q.\\tWhat's O. J. Simpson's Internet address?...        1  \n",
            "\n",
            "User Ratings DataFrame:\n",
            "   JokeId  User1  User2  User3  User4  User5  User6  User7  User8  User9  ...  \\\n",
            "0       0   5.10  -8.79  -3.50   7.14  -8.79   9.22  -4.03   3.11  -3.64  ...   \n",
            "1       1   4.90  -0.87  -2.91  -3.88  -0.58   9.37  -1.55   0.92  -3.35  ...   \n",
            "2       2   1.75   1.99  -2.18  -3.06  -0.58  -3.93  -3.64   7.52  -6.46  ...   \n",
            "3       3  -4.17  -4.61  -0.10   0.05   8.98   9.27  -6.99   0.49  -3.40  ...   \n",
            "4       4   5.15   5.39   7.52   6.26   7.67   3.45   5.44  -0.58   1.26  ...   \n",
            "\n",
            "   User36701  User36702  User36703  User36704  User36705  User36706  \\\n",
            "0        NaN        NaN        NaN        NaN        NaN        NaN   \n",
            "1        NaN        NaN        NaN      -5.63        NaN      -6.07   \n",
            "2        NaN        NaN        NaN        NaN        NaN       4.08   \n",
            "3        NaN        NaN        NaN        NaN        NaN        NaN   \n",
            "4       2.28      -0.49        5.1      -0.29      -3.54      -1.36   \n",
            "\n",
            "   User36707  User36708  User36709  User36710  \n",
            "0        NaN        NaN       2.91        NaN  \n",
            "1        NaN      -1.60      -4.56        NaN  \n",
            "2        NaN        NaN       8.98        NaN  \n",
            "3        NaN        NaN        NaN        NaN  \n",
            "4       7.48      -5.78       0.73       2.62  \n",
            "\n",
            "[5 rows x 36711 columns]\n"
          ]
        }
      ],
      "source": [
        "# Display the first few rows of each DataFrame to understand the structure\n",
        "print(\"Jokes DataFrame:\")\n",
        "print(dfJk.head())\n",
        "\n",
        "print(\"\\nUser Ratings DataFrame:\")\n",
        "print(dfJkRts.head())"
      ]
    },
    {
      "cell_type": "markdown",
      "metadata": {
        "id": "bRBDFnx7VeFm"
      },
      "source": [
        "Next, prepare data for the Surprise Library."
      ]
    },
    {
      "cell_type": "markdown",
      "metadata": {
        "id": "fy7PuS9RWLM5"
      },
      "source": [
        "We need to transform this wide format into a long format that the Surprise library can understand."
      ]
    },
    {
      "cell_type": "code",
      "execution_count": null,
      "metadata": {
        "colab": {
          "base_uri": "https://localhost:8080/"
        },
        "id": "l_R-8dWaWK78",
        "outputId": "89abbb1b-4884-41ab-a32b-f8417a9fdc5c"
      },
      "outputs": [
        {
          "output_type": "stream",
          "name": "stdout",
          "text": [
            "\n",
            "Transformed User Ratings DataFrame:\n",
            "   JokeId  user_id  rating\n",
            "0       0        1    5.10\n",
            "1       1        1    4.90\n",
            "2       2        1    1.75\n",
            "3       3        1   -4.17\n",
            "4       4        1    5.15\n"
          ]
        }
      ],
      "source": [
        "# Transform the user rating data from wide to long format\n",
        "dfJkRts_long = dfJkRts.melt(id_vars=['JokeId'], var_name='user_id', value_name='rating')\n",
        "\n",
        "# Convert the user_id to a consistent format\n",
        "dfJkRts_long['user_id'] = dfJkRts_long['user_id'].str.extract('(\\d+)').astype(int)\n",
        "\n",
        "# Handle missing or invalid values\n",
        "dfJkRts_long.dropna(subset=['rating'], inplace=True)\n",
        "dfJkRtss_long = dfJkRts_long[dfJkRts_long['rating'] > 0]\n",
        "\n",
        "# Display the transformed DataFrame\n",
        "print(\"\\nTransformed User Ratings DataFrame:\")\n",
        "print(dfJkRts_long.head())\n",
        "\n"
      ]
    },
    {
      "cell_type": "code",
      "execution_count": null,
      "metadata": {
        "colab": {
          "base_uri": "https://localhost:8080/"
        },
        "id": "qIKQ3iQuA3sp",
        "outputId": "933bbcdc-b50b-4dda-e8fd-cd5083b433c8"
      },
      "outputs": [
        {
          "output_type": "stream",
          "name": "stdout",
          "text": [
            "Collecting scikit-surprise\n",
            "  Downloading scikit_surprise-1.1.4.tar.gz (154 kB)\n",
            "\u001b[?25l     \u001b[90m━━━━━━━━━━━━━━━━━━━━━━━━━━━━━━━━━━━━━━━━\u001b[0m \u001b[32m0.0/154.4 kB\u001b[0m \u001b[31m?\u001b[0m eta \u001b[36m-:--:--\u001b[0m\r\u001b[2K     \u001b[90m━━━━━━━━━━━━━━━━━━━━━━━━━━━━━━━━━━━━━━━━\u001b[0m \u001b[32m154.4/154.4 kB\u001b[0m \u001b[31m4.7 MB/s\u001b[0m eta \u001b[36m0:00:00\u001b[0m\n",
            "\u001b[?25h  Installing build dependencies ... \u001b[?25l\u001b[?25hdone\n",
            "  Getting requirements to build wheel ... \u001b[?25l\u001b[?25hdone\n",
            "  Preparing metadata (pyproject.toml) ... \u001b[?25l\u001b[?25hdone\n",
            "Requirement already satisfied: joblib>=1.2.0 in /usr/local/lib/python3.10/dist-packages (from scikit-surprise) (1.4.2)\n",
            "Requirement already satisfied: numpy>=1.19.5 in /usr/local/lib/python3.10/dist-packages (from scikit-surprise) (1.26.4)\n",
            "Requirement already satisfied: scipy>=1.6.0 in /usr/local/lib/python3.10/dist-packages (from scikit-surprise) (1.13.1)\n",
            "Building wheels for collected packages: scikit-surprise\n",
            "  Building wheel for scikit-surprise (pyproject.toml) ... \u001b[?25l\u001b[?25hdone\n",
            "  Created wheel for scikit-surprise: filename=scikit_surprise-1.1.4-cp310-cp310-linux_x86_64.whl size=2357272 sha256=2a92c75c6d50f4d2435253710d29ea54a81deba07d6d89fa3c5ec5889671b102\n",
            "  Stored in directory: /root/.cache/pip/wheels/4b/3f/df/6acbf0a40397d9bf3ff97f582cc22fb9ce66adde75bc71fd54\n",
            "Successfully built scikit-surprise\n",
            "Installing collected packages: scikit-surprise\n",
            "Successfully installed scikit-surprise-1.1.4\n"
          ]
        }
      ],
      "source": [
        "!pip install scikit-surprise"
      ]
    },
    {
      "cell_type": "code",
      "execution_count": null,
      "metadata": {
        "id": "aGqQ5WCrVjg_"
      },
      "outputs": [],
      "source": [
        "from surprise import Dataset, Reader\n",
        "from surprise.model_selection import train_test_split\n",
        "\n",
        "# Define the rating scale and load the data into Surprise dataset\n",
        "reader = Reader(rating_scale=(1, 5))\n",
        "data = Dataset.load_from_df(dfJkRts_long[['user_id', 'JokeId', 'rating']], reader)\n",
        "\n",
        "# Split the data into training and test sets\n",
        "trainset, testset = train_test_split(data, test_size=0.25)\n"
      ]
    },
    {
      "cell_type": "code",
      "execution_count": null,
      "metadata": {
        "colab": {
          "base_uri": "https://localhost:8080/"
        },
        "id": "GleevYNpM1-H",
        "outputId": "e4167732-4e36-4a8d-dd07-af1d71745c33"
      },
      "outputs": [
        {
          "output_type": "stream",
          "name": "stdout",
          "text": [
            "RMSE: 5.3062\n",
            "RMSE: 5.306195738927242\n"
          ]
        }
      ],
      "source": [
        "from surprise import Dataset, Reader, NMF, accuracy\n",
        "# Define the NMF model\n",
        "model = NMF(n_factors=15, n_epochs=50, random_state=10)\n",
        "\n",
        "# Fit the model to the training data\n",
        "model.fit(trainset)\n",
        "\n",
        "# Test the model on the test data\n",
        "predictions = model.test(testset)\n",
        "\n",
        "# Evaluate the accuracy of the model\n",
        "rmse = accuracy.rmse(predictions)\n",
        "print(f'RMSE: {rmse}')"
      ]
    },
    {
      "cell_type": "markdown",
      "metadata": {
        "id": "6n2wqDiKW8UG"
      },
      "source": [
        "#### Build Model"
      ]
    },
    {
      "cell_type": "code",
      "execution_count": null,
      "metadata": {
        "colab": {
          "base_uri": "https://localhost:8080/"
        },
        "id": "PCwxGlZyXEP5",
        "outputId": "8e0f0953-8d3f-4685-f730-9256853528b2"
      },
      "outputs": [
        {
          "output_type": "stream",
          "name": "stdout",
          "text": [
            "RMSE: 4.8715\n",
            "RMSE: 4.871519129782608\n"
          ]
        }
      ],
      "source": [
        "from surprise import SVD, accuracy\n",
        "\n",
        "# Define the SVD model\n",
        "model = SVD()\n",
        "\n",
        "# Fit the model to the training data\n",
        "model.fit(trainset)\n",
        "\n",
        "# Test the model on the test data\n",
        "predictions = model.test(testset)\n",
        "\n",
        "# Evaluate the accuracy of the model\n",
        "rmse = accuracy.rmse(predictions)\n",
        "print(f'RMSE: {rmse}')"
      ]
    },
    {
      "cell_type": "code",
      "execution_count": null,
      "metadata": {
        "colab": {
          "base_uri": "https://localhost:8080/"
        },
        "id": "TP7pX_xCGkXT",
        "outputId": "be2b8752-93ec-4e44-d7bc-6a25c4e30afc"
      },
      "outputs": [
        {
          "output_type": "stream",
          "name": "stdout",
          "text": [
            "4.922540325104562\n",
            "{'n_epochs': 10, 'lr_all': 0.005, 'reg_all': 0.4}\n"
          ]
        }
      ],
      "source": [
        "# Tune hyperparameters\n",
        "\n",
        "from surprise.model_selection import GridSearchCV\n",
        "\n",
        "param_grid = {'n_epochs': [5, 10], 'lr_all': [0.002, 0.005],\n",
        "              'reg_all': [0.4]}\n",
        "gs = GridSearchCV(SVD, param_grid, measures=['rmse', 'mae'], cv=2)\n",
        "\n",
        "gs.fit(data)\n",
        "\n",
        "# best RMSE score\n",
        "print(gs.best_score['rmse'])\n",
        "\n",
        "# combination of parameters that gave the best RMSE score\n",
        "print(gs.best_params['rmse'])"
      ]
    },
    {
      "cell_type": "code",
      "execution_count": null,
      "metadata": {
        "colab": {
          "base_uri": "https://localhost:8080/"
        },
        "id": "FplBNsSPDlF8",
        "outputId": "b69db3c2-ca9a-4368-dfb8-baf859742220"
      },
      "outputs": [
        {
          "output_type": "stream",
          "name": "stdout",
          "text": [
            "    JokeId                                           JokeText  \\\n",
            "0        0  A man visits the doctor. The doctor says \"I ha...   \n",
            "4        4  Q.\\tWhat's O. J. Simpson's Internet address? \\...   \n",
            "26      26  Clinton returns from a vacation in Arkansas an...   \n",
            "31      31  A man arrives at the gates of heaven. St. Pete...   \n",
            "34      34  An explorer in the deepest Amazon suddenly fin...   \n",
            "35      35  A guy walks into a bar, orders a beer and says...   \n",
            "42      42  Arnold Swartzeneger and Sylvester Stallone are...   \n",
            "47      47  The graduate with a Science degree asks, \"Why ...   \n",
            "53      53  The Pope dies and, naturally, goes to heaven. ...   \n",
            "63      63  What is the rallying cry of the International ...   \n",
            "\n",
            "                                             combined  Cluster  \n",
            "0   0 A man visits the doctor. The doctor says \"I ...        1  \n",
            "4   4 Q.\\tWhat's O. J. Simpson's Internet address?...        1  \n",
            "26  26 Clinton returns from a vacation in Arkansas...        0  \n",
            "31  31 A man arrives at the gates of heaven. St. P...        1  \n",
            "34  34 An explorer in the deepest Amazon suddenly ...        0  \n",
            "35  35 A guy walks into a bar, orders a beer and s...        0  \n",
            "42  42 Arnold Swartzeneger and Sylvester Stallone ...        0  \n",
            "47  47 The graduate with a Science degree asks, \"W...        2  \n",
            "53  53 The Pope dies and, naturally, goes to heave...        4  \n",
            "63  63 What is the rallying cry of the Internation...        1  \n"
          ]
        }
      ],
      "source": [
        "# Function to get collaborative filtering recommendations\n",
        "def get_collaborative_recommendations(user_id, dfJokes, model, top_n=10):\n",
        "    # Predict ratings for all jokes for the given user\n",
        "    joke_ids = dfJokes['JokeId'].unique()\n",
        "    predictions = [model.predict(user_id, joke_id) for joke_id in joke_ids]\n",
        "\n",
        "    # Sort predictions by estimated rating\n",
        "    predictions.sort(key=lambda x: x.est, reverse=True)\n",
        "\n",
        "    # Get the top N joke ids\n",
        "    top_jokes = [pred.iid for pred in predictions[:top_n]]\n",
        "\n",
        "    # Return the top N recommended jokes\n",
        "    return dfJokes[dfJokes['JokeId'].isin(top_jokes)]\n",
        "\n",
        "# Example: Get collaborative filtering recommendations for user with ID 1\n",
        "collab_recommendations = get_collaborative_recommendations(1, dfJk, model)\n",
        "print(collab_recommendations)"
      ]
    },
    {
      "cell_type": "markdown",
      "metadata": {
        "id": "HRvyFnMAHYEp"
      },
      "source": [
        "#### Predict"
      ]
    },
    {
      "cell_type": "markdown",
      "metadata": {
        "id": "25hMDBI_H1A2"
      },
      "source": [
        "Let's first see which jokes user #3 has already viewed."
      ]
    },
    {
      "cell_type": "code",
      "execution_count": null,
      "metadata": {
        "colab": {
          "base_uri": "https://localhost:8080/",
          "height": 419
        },
        "id": "e-XpAZ0FHaWQ",
        "outputId": "bc7d8f7e-efd4-42fa-b970-f26659c7dea1"
      },
      "outputs": [
        {
          "output_type": "execute_result",
          "data": {
            "text/plain": [
              "     JokeId  user_id  rating\n",
              "200       0        3   -3.50\n",
              "201       1        3   -2.91\n",
              "202       2        3   -2.18\n",
              "203       3        3   -0.10\n",
              "204       4        3    7.52\n",
              "..      ...      ...     ...\n",
              "295      95        3    3.98\n",
              "296      96        3   -6.46\n",
              "297      97        3   -6.89\n",
              "298      98        3   -2.33\n",
              "299      99        3   -7.38\n",
              "\n",
              "[100 rows x 3 columns]"
            ],
            "text/html": [
              "\n",
              "  <div id=\"df-b83a4d4e-c886-4192-a12c-4248dc8522c4\" class=\"colab-df-container\">\n",
              "    <div>\n",
              "<style scoped>\n",
              "    .dataframe tbody tr th:only-of-type {\n",
              "        vertical-align: middle;\n",
              "    }\n",
              "\n",
              "    .dataframe tbody tr th {\n",
              "        vertical-align: top;\n",
              "    }\n",
              "\n",
              "    .dataframe thead th {\n",
              "        text-align: right;\n",
              "    }\n",
              "</style>\n",
              "<table border=\"1\" class=\"dataframe\">\n",
              "  <thead>\n",
              "    <tr style=\"text-align: right;\">\n",
              "      <th></th>\n",
              "      <th>JokeId</th>\n",
              "      <th>user_id</th>\n",
              "      <th>rating</th>\n",
              "    </tr>\n",
              "  </thead>\n",
              "  <tbody>\n",
              "    <tr>\n",
              "      <th>200</th>\n",
              "      <td>0</td>\n",
              "      <td>3</td>\n",
              "      <td>-3.50</td>\n",
              "    </tr>\n",
              "    <tr>\n",
              "      <th>201</th>\n",
              "      <td>1</td>\n",
              "      <td>3</td>\n",
              "      <td>-2.91</td>\n",
              "    </tr>\n",
              "    <tr>\n",
              "      <th>202</th>\n",
              "      <td>2</td>\n",
              "      <td>3</td>\n",
              "      <td>-2.18</td>\n",
              "    </tr>\n",
              "    <tr>\n",
              "      <th>203</th>\n",
              "      <td>3</td>\n",
              "      <td>3</td>\n",
              "      <td>-0.10</td>\n",
              "    </tr>\n",
              "    <tr>\n",
              "      <th>204</th>\n",
              "      <td>4</td>\n",
              "      <td>3</td>\n",
              "      <td>7.52</td>\n",
              "    </tr>\n",
              "    <tr>\n",
              "      <th>...</th>\n",
              "      <td>...</td>\n",
              "      <td>...</td>\n",
              "      <td>...</td>\n",
              "    </tr>\n",
              "    <tr>\n",
              "      <th>295</th>\n",
              "      <td>95</td>\n",
              "      <td>3</td>\n",
              "      <td>3.98</td>\n",
              "    </tr>\n",
              "    <tr>\n",
              "      <th>296</th>\n",
              "      <td>96</td>\n",
              "      <td>3</td>\n",
              "      <td>-6.46</td>\n",
              "    </tr>\n",
              "    <tr>\n",
              "      <th>297</th>\n",
              "      <td>97</td>\n",
              "      <td>3</td>\n",
              "      <td>-6.89</td>\n",
              "    </tr>\n",
              "    <tr>\n",
              "      <th>298</th>\n",
              "      <td>98</td>\n",
              "      <td>3</td>\n",
              "      <td>-2.33</td>\n",
              "    </tr>\n",
              "    <tr>\n",
              "      <th>299</th>\n",
              "      <td>99</td>\n",
              "      <td>3</td>\n",
              "      <td>-7.38</td>\n",
              "    </tr>\n",
              "  </tbody>\n",
              "</table>\n",
              "<p>100 rows × 3 columns</p>\n",
              "</div>\n",
              "    <div class=\"colab-df-buttons\">\n",
              "\n",
              "  <div class=\"colab-df-container\">\n",
              "    <button class=\"colab-df-convert\" onclick=\"convertToInteractive('df-b83a4d4e-c886-4192-a12c-4248dc8522c4')\"\n",
              "            title=\"Convert this dataframe to an interactive table.\"\n",
              "            style=\"display:none;\">\n",
              "\n",
              "  <svg xmlns=\"http://www.w3.org/2000/svg\" height=\"24px\" viewBox=\"0 -960 960 960\">\n",
              "    <path d=\"M120-120v-720h720v720H120Zm60-500h600v-160H180v160Zm220 220h160v-160H400v160Zm0 220h160v-160H400v160ZM180-400h160v-160H180v160Zm440 0h160v-160H620v160ZM180-180h160v-160H180v160Zm440 0h160v-160H620v160Z\"/>\n",
              "  </svg>\n",
              "    </button>\n",
              "\n",
              "  <style>\n",
              "    .colab-df-container {\n",
              "      display:flex;\n",
              "      gap: 12px;\n",
              "    }\n",
              "\n",
              "    .colab-df-convert {\n",
              "      background-color: #E8F0FE;\n",
              "      border: none;\n",
              "      border-radius: 50%;\n",
              "      cursor: pointer;\n",
              "      display: none;\n",
              "      fill: #1967D2;\n",
              "      height: 32px;\n",
              "      padding: 0 0 0 0;\n",
              "      width: 32px;\n",
              "    }\n",
              "\n",
              "    .colab-df-convert:hover {\n",
              "      background-color: #E2EBFA;\n",
              "      box-shadow: 0px 1px 2px rgba(60, 64, 67, 0.3), 0px 1px 3px 1px rgba(60, 64, 67, 0.15);\n",
              "      fill: #174EA6;\n",
              "    }\n",
              "\n",
              "    .colab-df-buttons div {\n",
              "      margin-bottom: 4px;\n",
              "    }\n",
              "\n",
              "    [theme=dark] .colab-df-convert {\n",
              "      background-color: #3B4455;\n",
              "      fill: #D2E3FC;\n",
              "    }\n",
              "\n",
              "    [theme=dark] .colab-df-convert:hover {\n",
              "      background-color: #434B5C;\n",
              "      box-shadow: 0px 1px 3px 1px rgba(0, 0, 0, 0.15);\n",
              "      filter: drop-shadow(0px 1px 2px rgba(0, 0, 0, 0.3));\n",
              "      fill: #FFFFFF;\n",
              "    }\n",
              "  </style>\n",
              "\n",
              "    <script>\n",
              "      const buttonEl =\n",
              "        document.querySelector('#df-b83a4d4e-c886-4192-a12c-4248dc8522c4 button.colab-df-convert');\n",
              "      buttonEl.style.display =\n",
              "        google.colab.kernel.accessAllowed ? 'block' : 'none';\n",
              "\n",
              "      async function convertToInteractive(key) {\n",
              "        const element = document.querySelector('#df-b83a4d4e-c886-4192-a12c-4248dc8522c4');\n",
              "        const dataTable =\n",
              "          await google.colab.kernel.invokeFunction('convertToInteractive',\n",
              "                                                    [key], {});\n",
              "        if (!dataTable) return;\n",
              "\n",
              "        const docLinkHtml = 'Like what you see? Visit the ' +\n",
              "          '<a target=\"_blank\" href=https://colab.research.google.com/notebooks/data_table.ipynb>data table notebook</a>'\n",
              "          + ' to learn more about interactive tables.';\n",
              "        element.innerHTML = '';\n",
              "        dataTable['output_type'] = 'display_data';\n",
              "        await google.colab.output.renderOutput(dataTable, element);\n",
              "        const docLink = document.createElement('div');\n",
              "        docLink.innerHTML = docLinkHtml;\n",
              "        element.appendChild(docLink);\n",
              "      }\n",
              "    </script>\n",
              "  </div>\n",
              "\n",
              "\n",
              "<div id=\"df-eba214ee-11e1-4200-ae9f-f68ecb3f5358\">\n",
              "  <button class=\"colab-df-quickchart\" onclick=\"quickchart('df-eba214ee-11e1-4200-ae9f-f68ecb3f5358')\"\n",
              "            title=\"Suggest charts\"\n",
              "            style=\"display:none;\">\n",
              "\n",
              "<svg xmlns=\"http://www.w3.org/2000/svg\" height=\"24px\"viewBox=\"0 0 24 24\"\n",
              "     width=\"24px\">\n",
              "    <g>\n",
              "        <path d=\"M19 3H5c-1.1 0-2 .9-2 2v14c0 1.1.9 2 2 2h14c1.1 0 2-.9 2-2V5c0-1.1-.9-2-2-2zM9 17H7v-7h2v7zm4 0h-2V7h2v10zm4 0h-2v-4h2v4z\"/>\n",
              "    </g>\n",
              "</svg>\n",
              "  </button>\n",
              "\n",
              "<style>\n",
              "  .colab-df-quickchart {\n",
              "      --bg-color: #E8F0FE;\n",
              "      --fill-color: #1967D2;\n",
              "      --hover-bg-color: #E2EBFA;\n",
              "      --hover-fill-color: #174EA6;\n",
              "      --disabled-fill-color: #AAA;\n",
              "      --disabled-bg-color: #DDD;\n",
              "  }\n",
              "\n",
              "  [theme=dark] .colab-df-quickchart {\n",
              "      --bg-color: #3B4455;\n",
              "      --fill-color: #D2E3FC;\n",
              "      --hover-bg-color: #434B5C;\n",
              "      --hover-fill-color: #FFFFFF;\n",
              "      --disabled-bg-color: #3B4455;\n",
              "      --disabled-fill-color: #666;\n",
              "  }\n",
              "\n",
              "  .colab-df-quickchart {\n",
              "    background-color: var(--bg-color);\n",
              "    border: none;\n",
              "    border-radius: 50%;\n",
              "    cursor: pointer;\n",
              "    display: none;\n",
              "    fill: var(--fill-color);\n",
              "    height: 32px;\n",
              "    padding: 0;\n",
              "    width: 32px;\n",
              "  }\n",
              "\n",
              "  .colab-df-quickchart:hover {\n",
              "    background-color: var(--hover-bg-color);\n",
              "    box-shadow: 0 1px 2px rgba(60, 64, 67, 0.3), 0 1px 3px 1px rgba(60, 64, 67, 0.15);\n",
              "    fill: var(--button-hover-fill-color);\n",
              "  }\n",
              "\n",
              "  .colab-df-quickchart-complete:disabled,\n",
              "  .colab-df-quickchart-complete:disabled:hover {\n",
              "    background-color: var(--disabled-bg-color);\n",
              "    fill: var(--disabled-fill-color);\n",
              "    box-shadow: none;\n",
              "  }\n",
              "\n",
              "  .colab-df-spinner {\n",
              "    border: 2px solid var(--fill-color);\n",
              "    border-color: transparent;\n",
              "    border-bottom-color: var(--fill-color);\n",
              "    animation:\n",
              "      spin 1s steps(1) infinite;\n",
              "  }\n",
              "\n",
              "  @keyframes spin {\n",
              "    0% {\n",
              "      border-color: transparent;\n",
              "      border-bottom-color: var(--fill-color);\n",
              "      border-left-color: var(--fill-color);\n",
              "    }\n",
              "    20% {\n",
              "      border-color: transparent;\n",
              "      border-left-color: var(--fill-color);\n",
              "      border-top-color: var(--fill-color);\n",
              "    }\n",
              "    30% {\n",
              "      border-color: transparent;\n",
              "      border-left-color: var(--fill-color);\n",
              "      border-top-color: var(--fill-color);\n",
              "      border-right-color: var(--fill-color);\n",
              "    }\n",
              "    40% {\n",
              "      border-color: transparent;\n",
              "      border-right-color: var(--fill-color);\n",
              "      border-top-color: var(--fill-color);\n",
              "    }\n",
              "    60% {\n",
              "      border-color: transparent;\n",
              "      border-right-color: var(--fill-color);\n",
              "    }\n",
              "    80% {\n",
              "      border-color: transparent;\n",
              "      border-right-color: var(--fill-color);\n",
              "      border-bottom-color: var(--fill-color);\n",
              "    }\n",
              "    90% {\n",
              "      border-color: transparent;\n",
              "      border-bottom-color: var(--fill-color);\n",
              "    }\n",
              "  }\n",
              "</style>\n",
              "\n",
              "  <script>\n",
              "    async function quickchart(key) {\n",
              "      const quickchartButtonEl =\n",
              "        document.querySelector('#' + key + ' button');\n",
              "      quickchartButtonEl.disabled = true;  // To prevent multiple clicks.\n",
              "      quickchartButtonEl.classList.add('colab-df-spinner');\n",
              "      try {\n",
              "        const charts = await google.colab.kernel.invokeFunction(\n",
              "            'suggestCharts', [key], {});\n",
              "      } catch (error) {\n",
              "        console.error('Error during call to suggestCharts:', error);\n",
              "      }\n",
              "      quickchartButtonEl.classList.remove('colab-df-spinner');\n",
              "      quickchartButtonEl.classList.add('colab-df-quickchart-complete');\n",
              "    }\n",
              "    (() => {\n",
              "      let quickchartButtonEl =\n",
              "        document.querySelector('#df-eba214ee-11e1-4200-ae9f-f68ecb3f5358 button');\n",
              "      quickchartButtonEl.style.display =\n",
              "        google.colab.kernel.accessAllowed ? 'block' : 'none';\n",
              "    })();\n",
              "  </script>\n",
              "</div>\n",
              "\n",
              "    </div>\n",
              "  </div>\n"
            ],
            "application/vnd.google.colaboratory.intrinsic+json": {
              "type": "dataframe",
              "summary": "{\n  \"name\": \"dfJkRts_long[dfJkRts_long['user_id'] == 3]\",\n  \"rows\": 100,\n  \"fields\": [\n    {\n      \"column\": \"JokeId\",\n      \"properties\": {\n        \"dtype\": \"number\",\n        \"std\": 29,\n        \"min\": 0,\n        \"max\": 99,\n        \"num_unique_values\": 100,\n        \"samples\": [\n          83,\n          53,\n          70\n        ],\n        \"semantic_type\": \"\",\n        \"description\": \"\"\n      }\n    },\n    {\n      \"column\": \"user_id\",\n      \"properties\": {\n        \"dtype\": \"number\",\n        \"std\": 0,\n        \"min\": 3,\n        \"max\": 3,\n        \"num_unique_values\": 1,\n        \"samples\": [\n          3\n        ],\n        \"semantic_type\": \"\",\n        \"description\": \"\"\n      }\n    },\n    {\n      \"column\": \"rating\",\n      \"properties\": {\n        \"dtype\": \"number\",\n        \"std\": 4.873948760004716,\n        \"min\": -9.66,\n        \"max\": 8.88,\n        \"num_unique_values\": 89,\n        \"samples\": [\n          -2.14\n        ],\n        \"semantic_type\": \"\",\n        \"description\": \"\"\n      }\n    }\n  ]\n}"
            }
          },
          "metadata": {},
          "execution_count": 29
        }
      ],
      "source": [
        "dfJkRts_long[dfJkRts_long['user_id'] == 3]"
      ]
    },
    {
      "cell_type": "code",
      "execution_count": null,
      "metadata": {
        "colab": {
          "base_uri": "https://localhost:8080/"
        },
        "id": "JgChAh9xICa_",
        "outputId": "7a73f950-c934-4101-b728-b2b9ac7efcec"
      },
      "outputs": [
        {
          "output_type": "execute_result",
          "data": {
            "text/plain": [
              "Prediction(uid=1, iid=80, r_ui=None, est=4.253064712998293, details={'was_impossible': False})"
            ]
          },
          "metadata": {},
          "execution_count": 30
        }
      ],
      "source": [
        "model.predict(1, 80)"
      ]
    }
  ],
  "metadata": {
    "colab": {
      "provenance": [],
      "authorship_tag": "ABX9TyPnXXmLfKCcNieBf5N9bIu6",
      "include_colab_link": true
    },
    "kernelspec": {
      "display_name": "Python 3",
      "name": "python3"
    },
    "language_info": {
      "name": "python"
    }
  },
  "nbformat": 4,
  "nbformat_minor": 0
}