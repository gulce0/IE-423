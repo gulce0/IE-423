{
  "cells": [
    {
      "cell_type": "markdown",
      "metadata": {
        "id": "view-in-github",
        "colab_type": "text"
      },
      "source": [
        "<a href=\"https://colab.research.google.com/github/gulce0/IE-423/blob/main/Task6_Gulce.ipynb\" target=\"_parent\"><img src=\"https://colab.research.google.com/assets/colab-badge.svg\" alt=\"Open In Colab\"/></a>"
      ]
    },
    {
      "cell_type": "markdown",
      "metadata": {
        "id": "HP_GsEZsc51_"
      },
      "source": [
        "## <font color='#475468'> Customer Segmentation:</font>\n",
        "### <font color='#475468'> Can you segment customers by purchasing behavior?</font>"
      ]
    },
    {
      "cell_type": "markdown",
      "metadata": {
        "id": "2NnO6Edic52A"
      },
      "source": [
        "## Initialize"
      ]
    },
    {
      "cell_type": "code",
      "execution_count": 1,
      "metadata": {
        "id": "ldQXelu2c52A"
      },
      "outputs": [],
      "source": [
        "import pandas as pd\n",
        "import matplotlib.pyplot as plt\n",
        "\n",
        "from sklearn.preprocessing import scale"
      ]
    },
    {
      "cell_type": "markdown",
      "metadata": {
        "id": "PW7o33CPc52C"
      },
      "source": [
        "## Load Data"
      ]
    },
    {
      "cell_type": "code",
      "source": [
        "from google.colab import drive\n",
        "drive.mount('/content/drive')"
      ],
      "metadata": {
        "colab": {
          "base_uri": "https://localhost:8080/"
        },
        "id": "CgrdUKAzdakJ",
        "outputId": "e1131b8f-4e20-47eb-f13e-960e64110e1b"
      },
      "execution_count": 2,
      "outputs": [
        {
          "output_type": "stream",
          "name": "stdout",
          "text": [
            "Mounted at /content/drive\n"
          ]
        }
      ]
    },
    {
      "cell_type": "code",
      "execution_count": 3,
      "metadata": {
        "id": "u-qEe59Ic52D"
      },
      "outputs": [],
      "source": [
        "dfBlc =  pd.read_csv('/content/drive/MyDrive/Colab Notebooks/data/blackfriday/train.csv', encoding = \"ISO-8859-1\")"
      ]
    },
    {
      "cell_type": "code",
      "execution_count": 4,
      "metadata": {
        "id": "48BjaTRKc52E",
        "outputId": "d93aecc2-e51a-4a47-8497-b173b3698516",
        "colab": {
          "base_uri": "https://localhost:8080/",
          "height": 206
        }
      },
      "outputs": [
        {
          "output_type": "execute_result",
          "data": {
            "text/plain": [
              "   User_ID Product_ID Gender   Age  Occupation City_Category  \\\n",
              "0  1000001  P00069042      F  0-17          10             A   \n",
              "1  1000001  P00248942      F  0-17          10             A   \n",
              "2  1000001  P00087842      F  0-17          10             A   \n",
              "3  1000001  P00085442      F  0-17          10             A   \n",
              "4  1000002  P00285442      M   55+          16             C   \n",
              "\n",
              "  Stay_In_Current_City_Years  Marital_Status  Product_Category_1  \\\n",
              "0                          2               0                   3   \n",
              "1                          2               0                   1   \n",
              "2                          2               0                  12   \n",
              "3                          2               0                  12   \n",
              "4                         4+               0                   8   \n",
              "\n",
              "   Product_Category_2  Product_Category_3  Purchase  \n",
              "0                 NaN                 NaN      8370  \n",
              "1                 6.0                14.0     15200  \n",
              "2                 NaN                 NaN      1422  \n",
              "3                14.0                 NaN      1057  \n",
              "4                 NaN                 NaN      7969  "
            ],
            "text/html": [
              "\n",
              "  <div id=\"df-38fa0289-5b13-4baa-ad15-6e4c246c8335\" class=\"colab-df-container\">\n",
              "    <div>\n",
              "<style scoped>\n",
              "    .dataframe tbody tr th:only-of-type {\n",
              "        vertical-align: middle;\n",
              "    }\n",
              "\n",
              "    .dataframe tbody tr th {\n",
              "        vertical-align: top;\n",
              "    }\n",
              "\n",
              "    .dataframe thead th {\n",
              "        text-align: right;\n",
              "    }\n",
              "</style>\n",
              "<table border=\"1\" class=\"dataframe\">\n",
              "  <thead>\n",
              "    <tr style=\"text-align: right;\">\n",
              "      <th></th>\n",
              "      <th>User_ID</th>\n",
              "      <th>Product_ID</th>\n",
              "      <th>Gender</th>\n",
              "      <th>Age</th>\n",
              "      <th>Occupation</th>\n",
              "      <th>City_Category</th>\n",
              "      <th>Stay_In_Current_City_Years</th>\n",
              "      <th>Marital_Status</th>\n",
              "      <th>Product_Category_1</th>\n",
              "      <th>Product_Category_2</th>\n",
              "      <th>Product_Category_3</th>\n",
              "      <th>Purchase</th>\n",
              "    </tr>\n",
              "  </thead>\n",
              "  <tbody>\n",
              "    <tr>\n",
              "      <th>0</th>\n",
              "      <td>1000001</td>\n",
              "      <td>P00069042</td>\n",
              "      <td>F</td>\n",
              "      <td>0-17</td>\n",
              "      <td>10</td>\n",
              "      <td>A</td>\n",
              "      <td>2</td>\n",
              "      <td>0</td>\n",
              "      <td>3</td>\n",
              "      <td>NaN</td>\n",
              "      <td>NaN</td>\n",
              "      <td>8370</td>\n",
              "    </tr>\n",
              "    <tr>\n",
              "      <th>1</th>\n",
              "      <td>1000001</td>\n",
              "      <td>P00248942</td>\n",
              "      <td>F</td>\n",
              "      <td>0-17</td>\n",
              "      <td>10</td>\n",
              "      <td>A</td>\n",
              "      <td>2</td>\n",
              "      <td>0</td>\n",
              "      <td>1</td>\n",
              "      <td>6.0</td>\n",
              "      <td>14.0</td>\n",
              "      <td>15200</td>\n",
              "    </tr>\n",
              "    <tr>\n",
              "      <th>2</th>\n",
              "      <td>1000001</td>\n",
              "      <td>P00087842</td>\n",
              "      <td>F</td>\n",
              "      <td>0-17</td>\n",
              "      <td>10</td>\n",
              "      <td>A</td>\n",
              "      <td>2</td>\n",
              "      <td>0</td>\n",
              "      <td>12</td>\n",
              "      <td>NaN</td>\n",
              "      <td>NaN</td>\n",
              "      <td>1422</td>\n",
              "    </tr>\n",
              "    <tr>\n",
              "      <th>3</th>\n",
              "      <td>1000001</td>\n",
              "      <td>P00085442</td>\n",
              "      <td>F</td>\n",
              "      <td>0-17</td>\n",
              "      <td>10</td>\n",
              "      <td>A</td>\n",
              "      <td>2</td>\n",
              "      <td>0</td>\n",
              "      <td>12</td>\n",
              "      <td>14.0</td>\n",
              "      <td>NaN</td>\n",
              "      <td>1057</td>\n",
              "    </tr>\n",
              "    <tr>\n",
              "      <th>4</th>\n",
              "      <td>1000002</td>\n",
              "      <td>P00285442</td>\n",
              "      <td>M</td>\n",
              "      <td>55+</td>\n",
              "      <td>16</td>\n",
              "      <td>C</td>\n",
              "      <td>4+</td>\n",
              "      <td>0</td>\n",
              "      <td>8</td>\n",
              "      <td>NaN</td>\n",
              "      <td>NaN</td>\n",
              "      <td>7969</td>\n",
              "    </tr>\n",
              "  </tbody>\n",
              "</table>\n",
              "</div>\n",
              "    <div class=\"colab-df-buttons\">\n",
              "\n",
              "  <div class=\"colab-df-container\">\n",
              "    <button class=\"colab-df-convert\" onclick=\"convertToInteractive('df-38fa0289-5b13-4baa-ad15-6e4c246c8335')\"\n",
              "            title=\"Convert this dataframe to an interactive table.\"\n",
              "            style=\"display:none;\">\n",
              "\n",
              "  <svg xmlns=\"http://www.w3.org/2000/svg\" height=\"24px\" viewBox=\"0 -960 960 960\">\n",
              "    <path d=\"M120-120v-720h720v720H120Zm60-500h600v-160H180v160Zm220 220h160v-160H400v160Zm0 220h160v-160H400v160ZM180-400h160v-160H180v160Zm440 0h160v-160H620v160ZM180-180h160v-160H180v160Zm440 0h160v-160H620v160Z\"/>\n",
              "  </svg>\n",
              "    </button>\n",
              "\n",
              "  <style>\n",
              "    .colab-df-container {\n",
              "      display:flex;\n",
              "      gap: 12px;\n",
              "    }\n",
              "\n",
              "    .colab-df-convert {\n",
              "      background-color: #E8F0FE;\n",
              "      border: none;\n",
              "      border-radius: 50%;\n",
              "      cursor: pointer;\n",
              "      display: none;\n",
              "      fill: #1967D2;\n",
              "      height: 32px;\n",
              "      padding: 0 0 0 0;\n",
              "      width: 32px;\n",
              "    }\n",
              "\n",
              "    .colab-df-convert:hover {\n",
              "      background-color: #E2EBFA;\n",
              "      box-shadow: 0px 1px 2px rgba(60, 64, 67, 0.3), 0px 1px 3px 1px rgba(60, 64, 67, 0.15);\n",
              "      fill: #174EA6;\n",
              "    }\n",
              "\n",
              "    .colab-df-buttons div {\n",
              "      margin-bottom: 4px;\n",
              "    }\n",
              "\n",
              "    [theme=dark] .colab-df-convert {\n",
              "      background-color: #3B4455;\n",
              "      fill: #D2E3FC;\n",
              "    }\n",
              "\n",
              "    [theme=dark] .colab-df-convert:hover {\n",
              "      background-color: #434B5C;\n",
              "      box-shadow: 0px 1px 3px 1px rgba(0, 0, 0, 0.15);\n",
              "      filter: drop-shadow(0px 1px 2px rgba(0, 0, 0, 0.3));\n",
              "      fill: #FFFFFF;\n",
              "    }\n",
              "  </style>\n",
              "\n",
              "    <script>\n",
              "      const buttonEl =\n",
              "        document.querySelector('#df-38fa0289-5b13-4baa-ad15-6e4c246c8335 button.colab-df-convert');\n",
              "      buttonEl.style.display =\n",
              "        google.colab.kernel.accessAllowed ? 'block' : 'none';\n",
              "\n",
              "      async function convertToInteractive(key) {\n",
              "        const element = document.querySelector('#df-38fa0289-5b13-4baa-ad15-6e4c246c8335');\n",
              "        const dataTable =\n",
              "          await google.colab.kernel.invokeFunction('convertToInteractive',\n",
              "                                                    [key], {});\n",
              "        if (!dataTable) return;\n",
              "\n",
              "        const docLinkHtml = 'Like what you see? Visit the ' +\n",
              "          '<a target=\"_blank\" href=https://colab.research.google.com/notebooks/data_table.ipynb>data table notebook</a>'\n",
              "          + ' to learn more about interactive tables.';\n",
              "        element.innerHTML = '';\n",
              "        dataTable['output_type'] = 'display_data';\n",
              "        await google.colab.output.renderOutput(dataTable, element);\n",
              "        const docLink = document.createElement('div');\n",
              "        docLink.innerHTML = docLinkHtml;\n",
              "        element.appendChild(docLink);\n",
              "      }\n",
              "    </script>\n",
              "  </div>\n",
              "\n",
              "\n",
              "<div id=\"df-0de63324-7803-466d-a2b0-6dd9290b3ecd\">\n",
              "  <button class=\"colab-df-quickchart\" onclick=\"quickchart('df-0de63324-7803-466d-a2b0-6dd9290b3ecd')\"\n",
              "            title=\"Suggest charts\"\n",
              "            style=\"display:none;\">\n",
              "\n",
              "<svg xmlns=\"http://www.w3.org/2000/svg\" height=\"24px\"viewBox=\"0 0 24 24\"\n",
              "     width=\"24px\">\n",
              "    <g>\n",
              "        <path d=\"M19 3H5c-1.1 0-2 .9-2 2v14c0 1.1.9 2 2 2h14c1.1 0 2-.9 2-2V5c0-1.1-.9-2-2-2zM9 17H7v-7h2v7zm4 0h-2V7h2v10zm4 0h-2v-4h2v4z\"/>\n",
              "    </g>\n",
              "</svg>\n",
              "  </button>\n",
              "\n",
              "<style>\n",
              "  .colab-df-quickchart {\n",
              "      --bg-color: #E8F0FE;\n",
              "      --fill-color: #1967D2;\n",
              "      --hover-bg-color: #E2EBFA;\n",
              "      --hover-fill-color: #174EA6;\n",
              "      --disabled-fill-color: #AAA;\n",
              "      --disabled-bg-color: #DDD;\n",
              "  }\n",
              "\n",
              "  [theme=dark] .colab-df-quickchart {\n",
              "      --bg-color: #3B4455;\n",
              "      --fill-color: #D2E3FC;\n",
              "      --hover-bg-color: #434B5C;\n",
              "      --hover-fill-color: #FFFFFF;\n",
              "      --disabled-bg-color: #3B4455;\n",
              "      --disabled-fill-color: #666;\n",
              "  }\n",
              "\n",
              "  .colab-df-quickchart {\n",
              "    background-color: var(--bg-color);\n",
              "    border: none;\n",
              "    border-radius: 50%;\n",
              "    cursor: pointer;\n",
              "    display: none;\n",
              "    fill: var(--fill-color);\n",
              "    height: 32px;\n",
              "    padding: 0;\n",
              "    width: 32px;\n",
              "  }\n",
              "\n",
              "  .colab-df-quickchart:hover {\n",
              "    background-color: var(--hover-bg-color);\n",
              "    box-shadow: 0 1px 2px rgba(60, 64, 67, 0.3), 0 1px 3px 1px rgba(60, 64, 67, 0.15);\n",
              "    fill: var(--button-hover-fill-color);\n",
              "  }\n",
              "\n",
              "  .colab-df-quickchart-complete:disabled,\n",
              "  .colab-df-quickchart-complete:disabled:hover {\n",
              "    background-color: var(--disabled-bg-color);\n",
              "    fill: var(--disabled-fill-color);\n",
              "    box-shadow: none;\n",
              "  }\n",
              "\n",
              "  .colab-df-spinner {\n",
              "    border: 2px solid var(--fill-color);\n",
              "    border-color: transparent;\n",
              "    border-bottom-color: var(--fill-color);\n",
              "    animation:\n",
              "      spin 1s steps(1) infinite;\n",
              "  }\n",
              "\n",
              "  @keyframes spin {\n",
              "    0% {\n",
              "      border-color: transparent;\n",
              "      border-bottom-color: var(--fill-color);\n",
              "      border-left-color: var(--fill-color);\n",
              "    }\n",
              "    20% {\n",
              "      border-color: transparent;\n",
              "      border-left-color: var(--fill-color);\n",
              "      border-top-color: var(--fill-color);\n",
              "    }\n",
              "    30% {\n",
              "      border-color: transparent;\n",
              "      border-left-color: var(--fill-color);\n",
              "      border-top-color: var(--fill-color);\n",
              "      border-right-color: var(--fill-color);\n",
              "    }\n",
              "    40% {\n",
              "      border-color: transparent;\n",
              "      border-right-color: var(--fill-color);\n",
              "      border-top-color: var(--fill-color);\n",
              "    }\n",
              "    60% {\n",
              "      border-color: transparent;\n",
              "      border-right-color: var(--fill-color);\n",
              "    }\n",
              "    80% {\n",
              "      border-color: transparent;\n",
              "      border-right-color: var(--fill-color);\n",
              "      border-bottom-color: var(--fill-color);\n",
              "    }\n",
              "    90% {\n",
              "      border-color: transparent;\n",
              "      border-bottom-color: var(--fill-color);\n",
              "    }\n",
              "  }\n",
              "</style>\n",
              "\n",
              "  <script>\n",
              "    async function quickchart(key) {\n",
              "      const quickchartButtonEl =\n",
              "        document.querySelector('#' + key + ' button');\n",
              "      quickchartButtonEl.disabled = true;  // To prevent multiple clicks.\n",
              "      quickchartButtonEl.classList.add('colab-df-spinner');\n",
              "      try {\n",
              "        const charts = await google.colab.kernel.invokeFunction(\n",
              "            'suggestCharts', [key], {});\n",
              "      } catch (error) {\n",
              "        console.error('Error during call to suggestCharts:', error);\n",
              "      }\n",
              "      quickchartButtonEl.classList.remove('colab-df-spinner');\n",
              "      quickchartButtonEl.classList.add('colab-df-quickchart-complete');\n",
              "    }\n",
              "    (() => {\n",
              "      let quickchartButtonEl =\n",
              "        document.querySelector('#df-0de63324-7803-466d-a2b0-6dd9290b3ecd button');\n",
              "      quickchartButtonEl.style.display =\n",
              "        google.colab.kernel.accessAllowed ? 'block' : 'none';\n",
              "    })();\n",
              "  </script>\n",
              "</div>\n",
              "\n",
              "    </div>\n",
              "  </div>\n"
            ],
            "application/vnd.google.colaboratory.intrinsic+json": {
              "type": "dataframe",
              "variable_name": "dfBlc"
            }
          },
          "metadata": {},
          "execution_count": 4
        }
      ],
      "source": [
        "dfBlc.head()"
      ]
    },
    {
      "cell_type": "markdown",
      "metadata": {
        "id": "gyUWmrhdc52H"
      },
      "source": [
        "## Prepare Data"
      ]
    },
    {
      "cell_type": "code",
      "source": [
        "# Aggregate data by User_ID with total purchase amount and product count\n",
        "df_agg = (dfBlc.groupby('User_ID').agg({'Product_ID': 'count', 'Purchase': 'sum'})\n",
        "          .rename(columns={'Product_ID': 'product_count', 'Purchase': 'total_purchase'})\n",
        "         )\n",
        "\n",
        "# Ensure no missing values\n",
        "df_agg = df_agg.dropna()\n",
        "df_agg"
      ],
      "metadata": {
        "id": "S3-FENQiLaSd",
        "colab": {
          "base_uri": "https://localhost:8080/",
          "height": 455
        },
        "outputId": "f8af87d2-be8d-4a7c-f707-6ad51cadd374"
      },
      "execution_count": 37,
      "outputs": [
        {
          "output_type": "execute_result",
          "data": {
            "text/plain": [
              "         product_count  total_purchase\n",
              "User_ID                               \n",
              "1000001             35          334093\n",
              "1000002             77          810472\n",
              "1000003             29          341635\n",
              "1000004             14          206468\n",
              "1000005            106          821001\n",
              "...                ...             ...\n",
              "1006036            514         4116058\n",
              "1006037            122         1119538\n",
              "1006038             12           90034\n",
              "1006039             74          590319\n",
              "1006040            180         1653299\n",
              "\n",
              "[5891 rows x 2 columns]"
            ],
            "text/html": [
              "\n",
              "  <div id=\"df-ab75e483-7011-42e5-8702-7841ec5cc8f5\" class=\"colab-df-container\">\n",
              "    <div>\n",
              "<style scoped>\n",
              "    .dataframe tbody tr th:only-of-type {\n",
              "        vertical-align: middle;\n",
              "    }\n",
              "\n",
              "    .dataframe tbody tr th {\n",
              "        vertical-align: top;\n",
              "    }\n",
              "\n",
              "    .dataframe thead th {\n",
              "        text-align: right;\n",
              "    }\n",
              "</style>\n",
              "<table border=\"1\" class=\"dataframe\">\n",
              "  <thead>\n",
              "    <tr style=\"text-align: right;\">\n",
              "      <th></th>\n",
              "      <th>product_count</th>\n",
              "      <th>total_purchase</th>\n",
              "    </tr>\n",
              "    <tr>\n",
              "      <th>User_ID</th>\n",
              "      <th></th>\n",
              "      <th></th>\n",
              "    </tr>\n",
              "  </thead>\n",
              "  <tbody>\n",
              "    <tr>\n",
              "      <th>1000001</th>\n",
              "      <td>35</td>\n",
              "      <td>334093</td>\n",
              "    </tr>\n",
              "    <tr>\n",
              "      <th>1000002</th>\n",
              "      <td>77</td>\n",
              "      <td>810472</td>\n",
              "    </tr>\n",
              "    <tr>\n",
              "      <th>1000003</th>\n",
              "      <td>29</td>\n",
              "      <td>341635</td>\n",
              "    </tr>\n",
              "    <tr>\n",
              "      <th>1000004</th>\n",
              "      <td>14</td>\n",
              "      <td>206468</td>\n",
              "    </tr>\n",
              "    <tr>\n",
              "      <th>1000005</th>\n",
              "      <td>106</td>\n",
              "      <td>821001</td>\n",
              "    </tr>\n",
              "    <tr>\n",
              "      <th>...</th>\n",
              "      <td>...</td>\n",
              "      <td>...</td>\n",
              "    </tr>\n",
              "    <tr>\n",
              "      <th>1006036</th>\n",
              "      <td>514</td>\n",
              "      <td>4116058</td>\n",
              "    </tr>\n",
              "    <tr>\n",
              "      <th>1006037</th>\n",
              "      <td>122</td>\n",
              "      <td>1119538</td>\n",
              "    </tr>\n",
              "    <tr>\n",
              "      <th>1006038</th>\n",
              "      <td>12</td>\n",
              "      <td>90034</td>\n",
              "    </tr>\n",
              "    <tr>\n",
              "      <th>1006039</th>\n",
              "      <td>74</td>\n",
              "      <td>590319</td>\n",
              "    </tr>\n",
              "    <tr>\n",
              "      <th>1006040</th>\n",
              "      <td>180</td>\n",
              "      <td>1653299</td>\n",
              "    </tr>\n",
              "  </tbody>\n",
              "</table>\n",
              "<p>5891 rows × 2 columns</p>\n",
              "</div>\n",
              "    <div class=\"colab-df-buttons\">\n",
              "\n",
              "  <div class=\"colab-df-container\">\n",
              "    <button class=\"colab-df-convert\" onclick=\"convertToInteractive('df-ab75e483-7011-42e5-8702-7841ec5cc8f5')\"\n",
              "            title=\"Convert this dataframe to an interactive table.\"\n",
              "            style=\"display:none;\">\n",
              "\n",
              "  <svg xmlns=\"http://www.w3.org/2000/svg\" height=\"24px\" viewBox=\"0 -960 960 960\">\n",
              "    <path d=\"M120-120v-720h720v720H120Zm60-500h600v-160H180v160Zm220 220h160v-160H400v160Zm0 220h160v-160H400v160ZM180-400h160v-160H180v160Zm440 0h160v-160H620v160ZM180-180h160v-160H180v160Zm440 0h160v-160H620v160Z\"/>\n",
              "  </svg>\n",
              "    </button>\n",
              "\n",
              "  <style>\n",
              "    .colab-df-container {\n",
              "      display:flex;\n",
              "      gap: 12px;\n",
              "    }\n",
              "\n",
              "    .colab-df-convert {\n",
              "      background-color: #E8F0FE;\n",
              "      border: none;\n",
              "      border-radius: 50%;\n",
              "      cursor: pointer;\n",
              "      display: none;\n",
              "      fill: #1967D2;\n",
              "      height: 32px;\n",
              "      padding: 0 0 0 0;\n",
              "      width: 32px;\n",
              "    }\n",
              "\n",
              "    .colab-df-convert:hover {\n",
              "      background-color: #E2EBFA;\n",
              "      box-shadow: 0px 1px 2px rgba(60, 64, 67, 0.3), 0px 1px 3px 1px rgba(60, 64, 67, 0.15);\n",
              "      fill: #174EA6;\n",
              "    }\n",
              "\n",
              "    .colab-df-buttons div {\n",
              "      margin-bottom: 4px;\n",
              "    }\n",
              "\n",
              "    [theme=dark] .colab-df-convert {\n",
              "      background-color: #3B4455;\n",
              "      fill: #D2E3FC;\n",
              "    }\n",
              "\n",
              "    [theme=dark] .colab-df-convert:hover {\n",
              "      background-color: #434B5C;\n",
              "      box-shadow: 0px 1px 3px 1px rgba(0, 0, 0, 0.15);\n",
              "      filter: drop-shadow(0px 1px 2px rgba(0, 0, 0, 0.3));\n",
              "      fill: #FFFFFF;\n",
              "    }\n",
              "  </style>\n",
              "\n",
              "    <script>\n",
              "      const buttonEl =\n",
              "        document.querySelector('#df-ab75e483-7011-42e5-8702-7841ec5cc8f5 button.colab-df-convert');\n",
              "      buttonEl.style.display =\n",
              "        google.colab.kernel.accessAllowed ? 'block' : 'none';\n",
              "\n",
              "      async function convertToInteractive(key) {\n",
              "        const element = document.querySelector('#df-ab75e483-7011-42e5-8702-7841ec5cc8f5');\n",
              "        const dataTable =\n",
              "          await google.colab.kernel.invokeFunction('convertToInteractive',\n",
              "                                                    [key], {});\n",
              "        if (!dataTable) return;\n",
              "\n",
              "        const docLinkHtml = 'Like what you see? Visit the ' +\n",
              "          '<a target=\"_blank\" href=https://colab.research.google.com/notebooks/data_table.ipynb>data table notebook</a>'\n",
              "          + ' to learn more about interactive tables.';\n",
              "        element.innerHTML = '';\n",
              "        dataTable['output_type'] = 'display_data';\n",
              "        await google.colab.output.renderOutput(dataTable, element);\n",
              "        const docLink = document.createElement('div');\n",
              "        docLink.innerHTML = docLinkHtml;\n",
              "        element.appendChild(docLink);\n",
              "      }\n",
              "    </script>\n",
              "  </div>\n",
              "\n",
              "\n",
              "<div id=\"df-6693bc7c-db5a-442f-8e4c-ad933ad384cf\">\n",
              "  <button class=\"colab-df-quickchart\" onclick=\"quickchart('df-6693bc7c-db5a-442f-8e4c-ad933ad384cf')\"\n",
              "            title=\"Suggest charts\"\n",
              "            style=\"display:none;\">\n",
              "\n",
              "<svg xmlns=\"http://www.w3.org/2000/svg\" height=\"24px\"viewBox=\"0 0 24 24\"\n",
              "     width=\"24px\">\n",
              "    <g>\n",
              "        <path d=\"M19 3H5c-1.1 0-2 .9-2 2v14c0 1.1.9 2 2 2h14c1.1 0 2-.9 2-2V5c0-1.1-.9-2-2-2zM9 17H7v-7h2v7zm4 0h-2V7h2v10zm4 0h-2v-4h2v4z\"/>\n",
              "    </g>\n",
              "</svg>\n",
              "  </button>\n",
              "\n",
              "<style>\n",
              "  .colab-df-quickchart {\n",
              "      --bg-color: #E8F0FE;\n",
              "      --fill-color: #1967D2;\n",
              "      --hover-bg-color: #E2EBFA;\n",
              "      --hover-fill-color: #174EA6;\n",
              "      --disabled-fill-color: #AAA;\n",
              "      --disabled-bg-color: #DDD;\n",
              "  }\n",
              "\n",
              "  [theme=dark] .colab-df-quickchart {\n",
              "      --bg-color: #3B4455;\n",
              "      --fill-color: #D2E3FC;\n",
              "      --hover-bg-color: #434B5C;\n",
              "      --hover-fill-color: #FFFFFF;\n",
              "      --disabled-bg-color: #3B4455;\n",
              "      --disabled-fill-color: #666;\n",
              "  }\n",
              "\n",
              "  .colab-df-quickchart {\n",
              "    background-color: var(--bg-color);\n",
              "    border: none;\n",
              "    border-radius: 50%;\n",
              "    cursor: pointer;\n",
              "    display: none;\n",
              "    fill: var(--fill-color);\n",
              "    height: 32px;\n",
              "    padding: 0;\n",
              "    width: 32px;\n",
              "  }\n",
              "\n",
              "  .colab-df-quickchart:hover {\n",
              "    background-color: var(--hover-bg-color);\n",
              "    box-shadow: 0 1px 2px rgba(60, 64, 67, 0.3), 0 1px 3px 1px rgba(60, 64, 67, 0.15);\n",
              "    fill: var(--button-hover-fill-color);\n",
              "  }\n",
              "\n",
              "  .colab-df-quickchart-complete:disabled,\n",
              "  .colab-df-quickchart-complete:disabled:hover {\n",
              "    background-color: var(--disabled-bg-color);\n",
              "    fill: var(--disabled-fill-color);\n",
              "    box-shadow: none;\n",
              "  }\n",
              "\n",
              "  .colab-df-spinner {\n",
              "    border: 2px solid var(--fill-color);\n",
              "    border-color: transparent;\n",
              "    border-bottom-color: var(--fill-color);\n",
              "    animation:\n",
              "      spin 1s steps(1) infinite;\n",
              "  }\n",
              "\n",
              "  @keyframes spin {\n",
              "    0% {\n",
              "      border-color: transparent;\n",
              "      border-bottom-color: var(--fill-color);\n",
              "      border-left-color: var(--fill-color);\n",
              "    }\n",
              "    20% {\n",
              "      border-color: transparent;\n",
              "      border-left-color: var(--fill-color);\n",
              "      border-top-color: var(--fill-color);\n",
              "    }\n",
              "    30% {\n",
              "      border-color: transparent;\n",
              "      border-left-color: var(--fill-color);\n",
              "      border-top-color: var(--fill-color);\n",
              "      border-right-color: var(--fill-color);\n",
              "    }\n",
              "    40% {\n",
              "      border-color: transparent;\n",
              "      border-right-color: var(--fill-color);\n",
              "      border-top-color: var(--fill-color);\n",
              "    }\n",
              "    60% {\n",
              "      border-color: transparent;\n",
              "      border-right-color: var(--fill-color);\n",
              "    }\n",
              "    80% {\n",
              "      border-color: transparent;\n",
              "      border-right-color: var(--fill-color);\n",
              "      border-bottom-color: var(--fill-color);\n",
              "    }\n",
              "    90% {\n",
              "      border-color: transparent;\n",
              "      border-bottom-color: var(--fill-color);\n",
              "    }\n",
              "  }\n",
              "</style>\n",
              "\n",
              "  <script>\n",
              "    async function quickchart(key) {\n",
              "      const quickchartButtonEl =\n",
              "        document.querySelector('#' + key + ' button');\n",
              "      quickchartButtonEl.disabled = true;  // To prevent multiple clicks.\n",
              "      quickchartButtonEl.classList.add('colab-df-spinner');\n",
              "      try {\n",
              "        const charts = await google.colab.kernel.invokeFunction(\n",
              "            'suggestCharts', [key], {});\n",
              "      } catch (error) {\n",
              "        console.error('Error during call to suggestCharts:', error);\n",
              "      }\n",
              "      quickchartButtonEl.classList.remove('colab-df-spinner');\n",
              "      quickchartButtonEl.classList.add('colab-df-quickchart-complete');\n",
              "    }\n",
              "    (() => {\n",
              "      let quickchartButtonEl =\n",
              "        document.querySelector('#df-6693bc7c-db5a-442f-8e4c-ad933ad384cf button');\n",
              "      quickchartButtonEl.style.display =\n",
              "        google.colab.kernel.accessAllowed ? 'block' : 'none';\n",
              "    })();\n",
              "  </script>\n",
              "</div>\n",
              "\n",
              "  <div id=\"id_33cf62fc-3e6a-4967-9613-f096bba1867b\">\n",
              "    <style>\n",
              "      .colab-df-generate {\n",
              "        background-color: #E8F0FE;\n",
              "        border: none;\n",
              "        border-radius: 50%;\n",
              "        cursor: pointer;\n",
              "        display: none;\n",
              "        fill: #1967D2;\n",
              "        height: 32px;\n",
              "        padding: 0 0 0 0;\n",
              "        width: 32px;\n",
              "      }\n",
              "\n",
              "      .colab-df-generate:hover {\n",
              "        background-color: #E2EBFA;\n",
              "        box-shadow: 0px 1px 2px rgba(60, 64, 67, 0.3), 0px 1px 3px 1px rgba(60, 64, 67, 0.15);\n",
              "        fill: #174EA6;\n",
              "      }\n",
              "\n",
              "      [theme=dark] .colab-df-generate {\n",
              "        background-color: #3B4455;\n",
              "        fill: #D2E3FC;\n",
              "      }\n",
              "\n",
              "      [theme=dark] .colab-df-generate:hover {\n",
              "        background-color: #434B5C;\n",
              "        box-shadow: 0px 1px 3px 1px rgba(0, 0, 0, 0.15);\n",
              "        filter: drop-shadow(0px 1px 2px rgba(0, 0, 0, 0.3));\n",
              "        fill: #FFFFFF;\n",
              "      }\n",
              "    </style>\n",
              "    <button class=\"colab-df-generate\" onclick=\"generateWithVariable('df_agg')\"\n",
              "            title=\"Generate code using this dataframe.\"\n",
              "            style=\"display:none;\">\n",
              "\n",
              "  <svg xmlns=\"http://www.w3.org/2000/svg\" height=\"24px\"viewBox=\"0 0 24 24\"\n",
              "       width=\"24px\">\n",
              "    <path d=\"M7,19H8.4L18.45,9,17,7.55,7,17.6ZM5,21V16.75L18.45,3.32a2,2,0,0,1,2.83,0l1.4,1.43a1.91,1.91,0,0,1,.58,1.4,1.91,1.91,0,0,1-.58,1.4L9.25,21ZM18.45,9,17,7.55Zm-12,3A5.31,5.31,0,0,0,4.9,8.1,5.31,5.31,0,0,0,1,6.5,5.31,5.31,0,0,0,4.9,4.9,5.31,5.31,0,0,0,6.5,1,5.31,5.31,0,0,0,8.1,4.9,5.31,5.31,0,0,0,12,6.5,5.46,5.46,0,0,0,6.5,12Z\"/>\n",
              "  </svg>\n",
              "    </button>\n",
              "    <script>\n",
              "      (() => {\n",
              "      const buttonEl =\n",
              "        document.querySelector('#id_33cf62fc-3e6a-4967-9613-f096bba1867b button.colab-df-generate');\n",
              "      buttonEl.style.display =\n",
              "        google.colab.kernel.accessAllowed ? 'block' : 'none';\n",
              "\n",
              "      buttonEl.onclick = () => {\n",
              "        google.colab.notebook.generateWithVariable('df_agg');\n",
              "      }\n",
              "      })();\n",
              "    </script>\n",
              "  </div>\n",
              "\n",
              "    </div>\n",
              "  </div>\n"
            ],
            "application/vnd.google.colaboratory.intrinsic+json": {
              "type": "dataframe",
              "variable_name": "df_agg",
              "summary": "{\n  \"name\": \"df_agg\",\n  \"rows\": 5891,\n  \"fields\": [\n    {\n      \"column\": \"User_ID\",\n      \"properties\": {\n        \"dtype\": \"number\",\n        \"std\": 1743,\n        \"min\": 1000001,\n        \"max\": 1006040,\n        \"num_unique_values\": 5891,\n        \"samples\": [\n          1005508,\n          1005718,\n          1005135\n        ],\n        \"semantic_type\": \"\",\n        \"description\": \"\"\n      }\n    },\n    {\n      \"column\": \"product_count\",\n      \"properties\": {\n        \"dtype\": \"number\",\n        \"std\": 107,\n        \"min\": 6,\n        \"max\": 1026,\n        \"num_unique_values\": 482,\n        \"samples\": [\n          671,\n          482,\n          61\n        ],\n        \"semantic_type\": \"\",\n        \"description\": \"\"\n      }\n    },\n    {\n      \"column\": \"total_purchase\",\n      \"properties\": {\n        \"dtype\": \"number\",\n        \"std\": 943644,\n        \"min\": 46681,\n        \"max\": 10536909,\n        \"num_unique_values\": 5876,\n        \"samples\": [\n          1719342,\n          345260,\n          389087\n        ],\n        \"semantic_type\": \"\",\n        \"description\": \"\"\n      }\n    }\n  ]\n}"
            }
          },
          "metadata": {},
          "execution_count": 37
        }
      ]
    },
    {
      "cell_type": "code",
      "source": [
        "# Scale data\n",
        "X = df_agg\n",
        "X[X.columns] = scale(X[X.columns])\n",
        "\n",
        "# Check the scaled data\n",
        "print(X.head())"
      ],
      "metadata": {
        "colab": {
          "base_uri": "https://localhost:8080/"
        },
        "id": "4ep68D6WUymw",
        "outputId": "6885aaac-96c5-4502-ba3a-f61ec342c834"
      },
      "execution_count": 6,
      "outputs": [
        {
          "output_type": "stream",
          "name": "stdout",
          "text": [
            "         product_count  total_purchase\n",
            "User_ID                               \n",
            "1000001      -0.544633       -0.562679\n",
            "1000002      -0.152772       -0.057807\n",
            "1000003      -0.600613       -0.554686\n",
            "1000004      -0.740563       -0.697937\n",
            "1000005       0.117798       -0.046648\n"
          ]
        }
      ]
    },
    {
      "cell_type": "markdown",
      "source": [
        "*The scaled total_purchase and product_count values give an indication of the relative spending behavior of users. Higher positive values indicate higher spending compared to the mean, while lower (negative) values indicate lower spending compared to the mean.*"
      ],
      "metadata": {
        "id": "vFq3nWZ3DNA1"
      }
    },
    {
      "cell_type": "markdown",
      "source": [
        "*By Scaling values of these columns have been transformed to have a mean of 0 and a standard deviation of 1. This is typically done to standardize the range of independent variables or features of data.*"
      ],
      "metadata": {
        "id": "Y8lXwNDYENEv"
      }
    },
    {
      "cell_type": "code",
      "source": [
        "# Visualize scatter plot\n",
        "plt.scatter(df_agg['product_count'], df_agg['total_purchase'])\n",
        "plt.xlabel('Product Count')\n",
        "plt.ylabel('Total Purchase')\n",
        "plt.title('Scatter Plot of Product Count vs. Total Spending of User')\n",
        "plt.show()"
      ],
      "metadata": {
        "colab": {
          "base_uri": "https://localhost:8080/",
          "height": 472
        },
        "id": "w7LLYeNGLndr",
        "outputId": "ea4cf6de-dd69-4acd-e9c0-505fa32b8a97"
      },
      "execution_count": 7,
      "outputs": [
        {
          "output_type": "display_data",
          "data": {
            "text/plain": [
              "<Figure size 640x480 with 1 Axes>"
            ],
            "image/png": "[encoded data removed]"
          },
          "metadata": {}
        }
      ]
    },
    {
      "cell_type": "markdown",
      "source": [
        "*Each point depicts customer. As the number of products purchased increases, the total spending also tends to increase. Most users purchase fewer products and have lower total spending. However, there are some users with a higher product count and correspondingly higher total spending*."
      ],
      "metadata": {
        "id": "jmJFFiCVFmVe"
      }
    },
    {
      "cell_type": "markdown",
      "metadata": {
        "id": "pQh1HHZCc52K"
      },
      "source": [
        "*For further analysis, i will do customer segmentation.*"
      ]
    },
    {
      "cell_type": "markdown",
      "metadata": {
        "id": "6dd1J7v6c52K"
      },
      "source": [
        "### K-Means Clustering"
      ]
    },
    {
      "cell_type": "markdown",
      "metadata": {
        "id": "KHauY9X8c52K"
      },
      "source": [
        "In order to segment the customers, let's start by randomly assigning them to 'n' clusters.  Thereafter, each customer is reassigned to another cluster that it is closer to, and this process is repeated until no more improvements are possible.  This method is known as **K-Means Clustering**."
      ]
    },
    {
      "cell_type": "code",
      "source": [
        "from sklearn.cluster import KMeans\n",
        "\n",
        "# Use the elbow method to find the optimal number of clusters\n",
        "inertia = []\n",
        "for n in range(1, 11):\n",
        "    kmeans = KMeans(n_clusters=n, random_state=42)\n",
        "    kmeans.fit(X)\n",
        "    inertia.append(kmeans.inertia_)\n",
        "\n",
        "plt.plot(range(1, 11), inertia, marker='o')\n",
        "plt.xlabel('Number of clusters')\n",
        "plt.ylabel('Inertia')\n",
        "plt.title('Elbow Method')\n",
        "plt.show()"
      ],
      "metadata": {
        "colab": {
          "base_uri": "https://localhost:8080/",
          "height": 839
        },
        "id": "Zf5mswsjGOJk",
        "outputId": "4f5dad09-4a76-4aa3-8677-ec5c184c0cc4"
      },
      "execution_count": 8,
      "outputs": [
        {
          "output_type": "stream",
          "name": "stderr",
          "text": [
            "/usr/local/lib/python3.10/dist-packages/sklearn/cluster/_kmeans.py:870: FutureWarning: The default value of `n_init` will change from 10 to 'auto' in 1.4. Set the value of `n_init` explicitly to suppress the warning\n",
            "  warnings.warn(\n",
            "/usr/local/lib/python3.10/dist-packages/sklearn/cluster/_kmeans.py:870: FutureWarning: The default value of `n_init` will change from 10 to 'auto' in 1.4. Set the value of `n_init` explicitly to suppress the warning\n",
            "  warnings.warn(\n",
            "/usr/local/lib/python3.10/dist-packages/sklearn/cluster/_kmeans.py:870: FutureWarning: The default value of `n_init` will change from 10 to 'auto' in 1.4. Set the value of `n_init` explicitly to suppress the warning\n",
            "  warnings.warn(\n",
            "/usr/local/lib/python3.10/dist-packages/sklearn/cluster/_kmeans.py:870: FutureWarning: The default value of `n_init` will change from 10 to 'auto' in 1.4. Set the value of `n_init` explicitly to suppress the warning\n",
            "  warnings.warn(\n",
            "/usr/local/lib/python3.10/dist-packages/sklearn/cluster/_kmeans.py:870: FutureWarning: The default value of `n_init` will change from 10 to 'auto' in 1.4. Set the value of `n_init` explicitly to suppress the warning\n",
            "  warnings.warn(\n",
            "/usr/local/lib/python3.10/dist-packages/sklearn/cluster/_kmeans.py:870: FutureWarning: The default value of `n_init` will change from 10 to 'auto' in 1.4. Set the value of `n_init` explicitly to suppress the warning\n",
            "  warnings.warn(\n",
            "/usr/local/lib/python3.10/dist-packages/sklearn/cluster/_kmeans.py:870: FutureWarning: The default value of `n_init` will change from 10 to 'auto' in 1.4. Set the value of `n_init` explicitly to suppress the warning\n",
            "  warnings.warn(\n",
            "/usr/local/lib/python3.10/dist-packages/sklearn/cluster/_kmeans.py:870: FutureWarning: The default value of `n_init` will change from 10 to 'auto' in 1.4. Set the value of `n_init` explicitly to suppress the warning\n",
            "  warnings.warn(\n",
            "/usr/local/lib/python3.10/dist-packages/sklearn/cluster/_kmeans.py:870: FutureWarning: The default value of `n_init` will change from 10 to 'auto' in 1.4. Set the value of `n_init` explicitly to suppress the warning\n",
            "  warnings.warn(\n",
            "/usr/local/lib/python3.10/dist-packages/sklearn/cluster/_kmeans.py:870: FutureWarning: The default value of `n_init` will change from 10 to 'auto' in 1.4. Set the value of `n_init` explicitly to suppress the warning\n",
            "  warnings.warn(\n"
          ]
        },
        {
          "output_type": "display_data",
          "data": {
            "text/plain": [
              "<Figure size 640x480 with 1 Axes>"
            ],
            "image/png": "[encoded data removed]"
          },
          "metadata": {}
        }
      ]
    },
    {
      "cell_type": "markdown",
      "source": [
        "*It looks like the optimal number of clusters is around 3 or 4, where the inertia starts to decrease more slowly.*"
      ],
      "metadata": {
        "id": "4aTp3fF5G2Dw"
      }
    },
    {
      "cell_type": "code",
      "execution_count": 14,
      "metadata": {
        "id": "pxUTgZS_c52M",
        "colab": {
          "base_uri": "https://localhost:8080/"
        },
        "outputId": "3c1535c3-b83e-4d8f-8315-a49ef0f6c65f"
      },
      "outputs": [
        {
          "output_type": "stream",
          "name": "stderr",
          "text": [
            "/usr/local/lib/python3.10/dist-packages/sklearn/cluster/_kmeans.py:870: FutureWarning: The default value of `n_init` will change from 10 to 'auto' in 1.4. Set the value of `n_init` explicitly to suppress the warning\n",
            "  warnings.warn(\n"
          ]
        }
      ],
      "source": [
        "# Build k-Means Clustering model\n",
        "from sklearn.cluster import KMeans\n",
        "\n",
        "optimal_clusters = 3\n",
        "kmeans = KMeans(n_clusters=optimal_clusters, random_state=42)\n",
        "# Regenerate kMeans_labels with the current X\n",
        "kMeans_labels = kmeans.fit_predict(X)\n",
        "\n",
        "# Assign the cluster labels to your DataFrame\n",
        "df_agg['cluster'] = kMeans_labels  # Add this line to create the 'cluster' column\n",
        "\n"
      ]
    },
    {
      "cell_type": "code",
      "source": [
        "# Visualize the clusters\n",
        "\n",
        "plt.scatter(X['product_count'],X['total_purchase'],c=kMeans_labels)\n",
        "plt.xlabel('product_count')\n",
        "plt.ylabel('total_purchase')\n",
        "plt.title('K-Means Clustering')\n",
        "plt.show()\n",
        "\n"
      ],
      "metadata": {
        "colab": {
          "base_uri": "https://localhost:8080/",
          "height": 472
        },
        "id": "SdP_MmayHxBN",
        "outputId": "a1881e77-d8de-435a-9877-ef95f764a194"
      },
      "execution_count": 15,
      "outputs": [
        {
          "output_type": "display_data",
          "data": {
            "text/plain": [
              "<Figure size 640x480 with 1 Axes>"
            ],
            "image/png": "[encoded data removed]"
          },
          "metadata": {}
        }
      ]
    },
    {
      "cell_type": "markdown",
      "source": [
        "*The different colors represent different clusters identified by the k-means algorithm. Purple cluster has users with low product counts and low total purchases. This suggests these users are either new or infrequent buyers. Users in yellow cluster have a moderate number of product counts and total purchases. These users might be occasional buyers. Users in green cluster have high product counts and high total purchases. These are your most active and high-value customers.*\n"
      ],
      "metadata": {
        "id": "r8c_Pb72Z6Tz"
      }
    },
    {
      "cell_type": "markdown",
      "metadata": {
        "id": "UXJ1VArQc52M"
      },
      "source": [
        "*Since we don't have a ground-truth to calculate an accuracy score (like we did in Supervised Learning), we will need to measure how similar an object is to its own cluster (cohesion) compared to other clusters (separation).  This is known as the Silhouette Score. The silhouette ranges from −1 to +1, where a high value indicates that the object is well matched to its own cluster and poorly matched to neighboring clusters.*"
      ]
    },
    {
      "cell_type": "code",
      "source": [
        "cluster_counts = df_agg['cluster'].value_counts()\n",
        "print(cluster_counts)"
      ],
      "metadata": {
        "colab": {
          "base_uri": "https://localhost:8080/"
        },
        "id": "Z-DiLMa6bNWf",
        "outputId": "f136dcc7-7715-41e5-9431-7e7959ac91a5"
      },
      "execution_count": 16,
      "outputs": [
        {
          "output_type": "stream",
          "name": "stdout",
          "text": [
            "cluster\n",
            "0    4343\n",
            "1    1240\n",
            "2     308\n",
            "Name: count, dtype: int64\n"
          ]
        }
      ]
    },
    {
      "cell_type": "code",
      "execution_count": 17,
      "metadata": {
        "colab": {
          "base_uri": "https://localhost:8080/"
        },
        "id": "oKVGHGIYc52W",
        "outputId": "1a768d5b-433c-44c1-b293-fe4e2af5077e"
      },
      "outputs": [
        {
          "output_type": "stream",
          "name": "stdout",
          "text": [
            "Silhouette Score: 0.7235224544767868\n",
            "Cluster 0 Statistics:\n",
            "       product_count  total_purchase  cluster\n",
            "count    4343.000000     4343.000000   4343.0\n",
            "mean       -0.460255       -0.468224      0.0\n",
            "std         0.257643        0.287491      0.0\n",
            "min        -0.815204       -0.867281      0.0\n",
            "25%        -0.675253       -0.709395      0.0\n",
            "50%        -0.535303       -0.545477      0.0\n",
            "75%        -0.283393       -0.270358      0.0\n",
            "max         0.416359        0.434376      0.0\n",
            "\n",
            "\n",
            "Cluster 1 Statistics:\n",
            "       product_count  total_purchase  cluster\n",
            "count    1240.000000     1240.000000   1240.0\n",
            "mean        0.820438        0.868928      1.0\n",
            "std         0.511825        0.498399      0.0\n",
            "min        -0.022152       -0.010715      1.0\n",
            "25%         0.397698        0.459480      1.0\n",
            "50%         0.724249        0.770373      1.0\n",
            "75%         1.181420        1.217516      1.0\n",
            "max         2.459632        2.189421      1.0\n",
            "\n",
            "\n",
            "Cluster 2 Statistics:\n",
            "       product_count  total_purchase  cluster\n",
            "count     308.000000      308.000000    308.0\n",
            "mean        3.186828        3.103978      2.0\n",
            "std         1.135066        1.095601      0.0\n",
            "min         1.675911        1.678088      2.0\n",
            "25%         2.363999        2.335720      2.0\n",
            "50%         2.926133        2.851818      2.0\n",
            "75%         3.663204        3.501620      2.0\n",
            "max         8.701413       10.250378      2.0\n",
            "\n",
            "\n"
          ]
        }
      ],
      "source": [
        "# Evaluate quality of clusters\n",
        "from sklearn.metrics import silhouette_score\n",
        "\n",
        "# Evaluate silhouette score\n",
        "silhouette_avg = silhouette_score(X, df_agg['cluster'])\n",
        "print(f\"Silhouette Score: {silhouette_avg}\")\n",
        "\n",
        "# Describe each cluster\n",
        "for cluster in range(optimal_clusters):\n",
        "    cluster_data = df_agg[df_agg['cluster'] == cluster]\n",
        "    print(f\"Cluster {cluster} Statistics:\")\n",
        "    print(cluster_data.describe())\n",
        "    print(\"\\n\")"
      ]
    },
    {
      "cell_type": "markdown",
      "source": [
        "*These clusters can be used to segment customers into different categories:*\n",
        "\n",
        "*Cluster 0: Low-spending customers.*\n",
        "\n",
        "*Cluster 1: Moderate-spending customers.*\n",
        "\n",
        "*Cluster 2: High-spending customers.*"
      ],
      "metadata": {
        "id": "HerswW_6c15n"
      }
    },
    {
      "cell_type": "markdown",
      "source": [
        "We want to make Silhouette Score closer to 1 as far as possible."
      ],
      "metadata": {
        "id": "pXtBRojQIEXv"
      }
    },
    {
      "cell_type": "code",
      "execution_count": 18,
      "metadata": {
        "id": "HjcYe5uBc52W"
      },
      "outputs": [],
      "source": [
        "# Function for K-means Clustering\n",
        "def cluster_kMeans(X, k):\n",
        "    mdlKmcRtc = KMeans(n_clusters=k, random_state=1)\n",
        "    mdlKmcRtc.fit(X)\n",
        "    kMeans_labels = mdlKmcRtc.labels_\n",
        "    kMeans_sil_score = silhouette_score(X, mdlKmcRtc.labels_)\n",
        "    return (kMeans_labels, kMeans_sil_score)"
      ]
    },
    {
      "cell_type": "code",
      "execution_count": 19,
      "metadata": {
        "colab": {
          "base_uri": "https://localhost:8080/"
        },
        "id": "uL8Ui6l-c52W",
        "outputId": "7ace5e20-660e-4428-c59a-c33d0a69df44"
      },
      "outputs": [
        {
          "output_type": "stream",
          "name": "stderr",
          "text": [
            "/usr/local/lib/python3.10/dist-packages/sklearn/cluster/_kmeans.py:870: FutureWarning: The default value of `n_init` will change from 10 to 'auto' in 1.4. Set the value of `n_init` explicitly to suppress the warning\n",
            "  warnings.warn(\n"
          ]
        },
        {
          "output_type": "stream",
          "name": "stdout",
          "text": [
            "k:  2 \t\t Silhouette Score:  0.7091940905884171\n"
          ]
        },
        {
          "output_type": "stream",
          "name": "stderr",
          "text": [
            "/usr/local/lib/python3.10/dist-packages/sklearn/cluster/_kmeans.py:870: FutureWarning: The default value of `n_init` will change from 10 to 'auto' in 1.4. Set the value of `n_init` explicitly to suppress the warning\n",
            "  warnings.warn(\n"
          ]
        },
        {
          "output_type": "stream",
          "name": "stdout",
          "text": [
            "k:  3 \t\t Silhouette Score:  0.7235224544767868\n"
          ]
        },
        {
          "output_type": "stream",
          "name": "stderr",
          "text": [
            "/usr/local/lib/python3.10/dist-packages/sklearn/cluster/_kmeans.py:870: FutureWarning: The default value of `n_init` will change from 10 to 'auto' in 1.4. Set the value of `n_init` explicitly to suppress the warning\n",
            "  warnings.warn(\n"
          ]
        },
        {
          "output_type": "stream",
          "name": "stdout",
          "text": [
            "k:  4 \t\t Silhouette Score:  0.6945716841470113\n"
          ]
        },
        {
          "output_type": "stream",
          "name": "stderr",
          "text": [
            "/usr/local/lib/python3.10/dist-packages/sklearn/cluster/_kmeans.py:870: FutureWarning: The default value of `n_init` will change from 10 to 'auto' in 1.4. Set the value of `n_init` explicitly to suppress the warning\n",
            "  warnings.warn(\n"
          ]
        },
        {
          "output_type": "stream",
          "name": "stdout",
          "text": [
            "k:  5 \t\t Silhouette Score:  0.5934971094598123\n"
          ]
        },
        {
          "output_type": "stream",
          "name": "stderr",
          "text": [
            "/usr/local/lib/python3.10/dist-packages/sklearn/cluster/_kmeans.py:870: FutureWarning: The default value of `n_init` will change from 10 to 'auto' in 1.4. Set the value of `n_init` explicitly to suppress the warning\n",
            "  warnings.warn(\n"
          ]
        },
        {
          "output_type": "stream",
          "name": "stdout",
          "text": [
            "k:  6 \t\t Silhouette Score:  0.6036069780841257\n"
          ]
        }
      ],
      "source": [
        "# Iterate over different values of k to determine best silhouette score\n",
        "\n",
        "for k in [2, 3, 4, 5, 6]:\n",
        "    kMeans_labels, kMeans_sil_score = cluster_kMeans(X,k)\n",
        "    print('k: ',k,'\\t\\t', 'Silhouette Score: ', kMeans_sil_score)"
      ]
    },
    {
      "cell_type": "markdown",
      "metadata": {
        "id": "3JUxIaZAc52X"
      },
      "source": [
        "The best cluster size seems to be '3' at which the Silhouette Score is 0.72."
      ]
    },
    {
      "cell_type": "markdown",
      "metadata": {
        "id": "S5GLBXFRc52X"
      },
      "source": [
        "Let's see if we can improve the customer segmentation by starting with each customer in its own cluster and then *Hierarchically* grouping them together... (This is only possible when the dataset is small)"
      ]
    },
    {
      "cell_type": "markdown",
      "metadata": {
        "id": "WwEF4vDwc52X"
      },
      "source": [
        "### Hierarchical Clustering"
      ]
    },
    {
      "cell_type": "markdown",
      "metadata": {
        "id": "lwF5lSK4c52X"
      },
      "source": [
        "***Hierarchical clustering***, *as the name suggests is an algorithm that builds hierarchy of clusters. This algorithm starts with all the data points assigned to a cluster of their own. Then two nearest clusters are merged into the same cluster. In the end, this algorithm terminates when there is only a single cluster left.*"
      ]
    },
    {
      "cell_type": "code",
      "execution_count": 20,
      "metadata": {
        "id": "XvxYX2WOc52Y"
      },
      "outputs": [],
      "source": [
        "# Generate linkages between data points\n",
        "from scipy.cluster import hierarchy\n",
        "\n",
        "Z = hierarchy.linkage(X, 'ward')"
      ]
    },
    {
      "cell_type": "code",
      "execution_count": 21,
      "metadata": {
        "colab": {
          "base_uri": "https://localhost:8080/",
          "height": 493
        },
        "id": "OWqtsBlvc52Y",
        "outputId": "7165ac87-8e80-4081-990c-4d747582039b"
      },
      "outputs": [
        {
          "output_type": "execute_result",
          "data": {
            "text/plain": [
              "Text(0.5, 1.0, 'Hierarchical Clustering')"
            ]
          },
          "metadata": {},
          "execution_count": 21
        },
        {
          "output_type": "display_data",
          "data": {
            "text/plain": [
              "<Figure size 640x480 with 1 Axes>"
            ],
            "image/png": "[encoded data removed]"
          },
          "metadata": {}
        }
      ],
      "source": [
        "# Visualize Dendrogram of Clusters\n",
        "\n",
        "hierarchy.dendrogram(Z)\n",
        "plt.xlabel('Cluster Size')\n",
        "plt.ylabel('Distance')\n",
        "plt.title('Hierarchical Clustering')"
      ]
    },
    {
      "cell_type": "markdown",
      "source": [
        "The dendrogram suggests that there are three distinct clusters.\n",
        "\n",
        "*Cluster 1 (Orange): This cluster includes data points that are merged together at a lower level of dissimilarity. It represents one of the main groups of data points.*\n",
        "\n",
        "*Cluster 2 (Green): This cluster includes another main group of data points merged together at a lower level of dissimilarity but distinct from the first cluster.*\n",
        "\n",
        "*Cluster 3: This is the third cluster that is significantly different from the first two clusters. It might be the smaller cluster or a distinct group that is merged into the larger clusters at a higher level of dissimilarity.*"
      ],
      "metadata": {
        "id": "52XYraMQrCem"
      }
    },
    {
      "cell_type": "code",
      "execution_count": 22,
      "metadata": {
        "id": "pR1uzbnFc52Z"
      },
      "outputs": [],
      "source": [
        "# Build Hierarchical Clustering model\n",
        "from sklearn.cluster import AgglomerativeClustering\n",
        "\n",
        "mdlHrcRtc = AgglomerativeClustering(n_clusters=3)\n",
        "mdlHrcRtc.fit(X)\n",
        "hClust_labels = mdlHrcRtc.labels_"
      ]
    },
    {
      "cell_type": "code",
      "execution_count": 23,
      "metadata": {
        "colab": {
          "base_uri": "https://localhost:8080/"
        },
        "id": "KQP6PEW-c52Z",
        "outputId": "5f5f5cb5-5564-4268-ff11-5c0c20ade948"
      },
      "outputs": [
        {
          "output_type": "execute_result",
          "data": {
            "text/plain": [
              "0.7235224544767868"
            ]
          },
          "metadata": {},
          "execution_count": 23
        }
      ],
      "source": [
        "silhouette_score(X, mdlHrcRtc.labels_)"
      ]
    },
    {
      "cell_type": "code",
      "execution_count": 36,
      "metadata": {
        "colab": {
          "base_uri": "https://localhost:8080/",
          "height": 489
        },
        "id": "i6iUPixcc52Z",
        "outputId": "3eb473d9-9ba8-48f0-ff9a-ec2b778ab150"
      },
      "outputs": [
        {
          "output_type": "execute_result",
          "data": {
            "text/plain": [
              "Text(0.5, 1.0, 'Hierarchical Clustering')"
            ]
          },
          "metadata": {},
          "execution_count": 36
        },
        {
          "output_type": "display_data",
          "data": {
            "text/plain": [
              "<Figure size 640x480 with 1 Axes>"
            ],
            "image/png": "[encoded data removed]"
          },
          "metadata": {}
        }
      ],
      "source": [
        "# Display Hierarchical cluster on scatter plot\n",
        "\n",
        "plt.scatter(X['product_count'],X['total_purchase'],c=hClust_labels)\n",
        "plt.xlabel('product_count')\n",
        "plt.ylabel('total_purchase')\n",
        "plt.title('Hierarchical Clustering')"
      ]
    },
    {
      "cell_type": "code",
      "execution_count": 25,
      "metadata": {
        "id": "ft2Ns_uqc52a"
      },
      "outputs": [],
      "source": [
        "# Function for Hierarchical Clustering\n",
        "def cluster_hierarchy(X, k):\n",
        "    mdlHrcRtc = AgglomerativeClustering(n_clusters=k)\n",
        "    mdlHrcRtc.fit(X)\n",
        "    hClust_labels = mdlHrcRtc.labels_\n",
        "    hClust_sil_score = silhouette_score(X, mdlHrcRtc.labels_)\n",
        "    return (hClust_labels, hClust_sil_score)"
      ]
    },
    {
      "cell_type": "code",
      "execution_count": 26,
      "metadata": {
        "colab": {
          "base_uri": "https://localhost:8080/"
        },
        "id": "D6baEFytc52a",
        "outputId": "359812cf-cd9e-4837-ecfb-5e134e2dac25"
      },
      "outputs": [
        {
          "output_type": "stream",
          "name": "stdout",
          "text": [
            "k:  2 \t\t Silhouette Score:  0.707684223229526\n",
            "k:  3 \t\t Silhouette Score:  0.7235224544767868\n",
            "k:  4 \t\t Silhouette Score:  0.5705100900778021\n",
            "k:  5 \t\t Silhouette Score:  0.5707743033286051\n",
            "k:  6 \t\t Silhouette Score:  0.5823889450230307\n"
          ]
        }
      ],
      "source": [
        "# Iterate over different values of k to determine best silhouette score\n",
        "\n",
        "for k in [2, 3, 4, 5, 6]:\n",
        "    hClust_labels, hClust_sil_score = cluster_hierarchy(X,k)\n",
        "    print('k: ',k,'\\t\\t', 'Silhouette Score: ', hClust_sil_score)"
      ]
    },
    {
      "cell_type": "markdown",
      "metadata": {
        "id": "PoFPVV6Uc52a"
      },
      "source": [
        "In Hierarchical Clustering, the ideal cluster size is '3'. Silhouette Score is seems to be same as K-Means Clustering. Both have value of 0.723522 which is interesting."
      ]
    },
    {
      "cell_type": "markdown",
      "metadata": {
        "id": "uuFymLHqc52b"
      },
      "source": [
        "![utexas_ds_orie_divider_gray.png](data:image/png;base64,iVBORw0KGgoAAAANSUhEUgAAB0YAAAAKCAYAAAAgjz0QAAAAAXNSR0IArs4c6QAAAHhlWElmTU0AKgAAAAgABAEaAAUAAAABAAAAPgEbAAUAAAABAAAARgEoAAMAAAABAAIAAIdpAAQAAAABAAAATgAAAAAAAACWAAAAAQAAAJYAAAABAAOgAQADAAAAAQABAACgAgAEAAAAAQAAB0agAwAEAAAAAQAAAAoAAAAAoOuQ6gAAAAlwSFlzAAAXEgAAFxIBZ5/SUgAAAbBJREFUeAHt2bEVAiEURcHFsxyKMLU6jcyogQKsxzo01h6IEAqwgb9DQnwHsrdtDgECBAgQIECAAAECBAgQIECAAAECBAgQIECAAAECBIILpNVXa73knM/BW+URIECAAAECBAgQIECAAAECBAgQIECAAAECBAgQIHAwgd77u7X23Vd3KeU+r+vBDOQSIECAAAECBAgQIECAAAECBAgQIECAAAECBAgQIBBcYG6ht5n4OAXvlEeAAAECBAgQIECAAAECBAgQIECAAAECBAgQIECAAIHNMOoTECBAgAABAgQIECBAgAABAgQIECBAgAABAgQIECAQXsAwGv6JBRIgQIAAAQIECBAgQIAAAQIECBAgQIAAAQIECBAgYBj1BwgQIECAAAECBAgQIECAAAECBAgQIECAAAECBAgQCC9gGA3/xAIJECBAgAABAgQIECBAgAABAgQIECBAgAABAgQIENgXwRjjlVJ64iBAgAABAgQIECBAgAABAgQIECBAgAABAgQIECBAgEAkgbmDfiL1aCFAgAABAgQIECBAgAABAgQIECBAgAABAgQIECBAgMBfgR+MbQ+c2cysKQAAAABJRU5ErkJggg==)"
      ]
    },
    {
      "cell_type": "markdown",
      "metadata": {
        "id": "P69-I7noc52b"
      },
      "source": [
        "### DBScan Clustering and Anomaly Detection"
      ]
    },
    {
      "cell_type": "markdown",
      "metadata": {
        "id": "Zxd7eTdQc52b"
      },
      "source": [
        "*DBScan stands for Density-Based Spatial Clustering of Applications with Noise.  Given a set of points in some space, it groups together points that are closely packed together (points with many nearby neighbors), marking as outliers points that lie alone in low-density regions (whose nearest neighbors are too far away).*"
      ]
    },
    {
      "cell_type": "code",
      "execution_count": 27,
      "metadata": {
        "id": "Q574S_nJc52b"
      },
      "outputs": [],
      "source": [
        "# Build DBScan model\n",
        "\n",
        "from sklearn.cluster import DBSCAN\n",
        "\n",
        "mdlDbsRtc = DBSCAN(eps=0.2)\n",
        "mdlDbsRtc.fit(X)\n",
        "dbscan_labels = mdlDbsRtc.labels_"
      ]
    },
    {
      "cell_type": "code",
      "execution_count": 28,
      "metadata": {
        "colab": {
          "base_uri": "https://localhost:8080/"
        },
        "id": "BIzxpBr0c52c",
        "outputId": "40bbb133-1742-4ad1-ff55-3404c23dcdd8"
      },
      "outputs": [
        {
          "output_type": "execute_result",
          "data": {
            "text/plain": [
              "0.6855644978722631"
            ]
          },
          "metadata": {},
          "execution_count": 28
        }
      ],
      "source": [
        "silhouette_score(X, dbscan_labels)"
      ]
    },
    {
      "cell_type": "code",
      "source": [
        "# calculate number of clusters\n",
        "dbscan_clusters = len(set(dbscan_labels)) - (1 if -1 in dbscan_labels else 0)\n",
        "dbscan_clusters"
      ],
      "metadata": {
        "id": "K22rn9PpYfgs",
        "colab": {
          "base_uri": "https://localhost:8080/"
        },
        "outputId": "8e66c49a-0f70-4d55-fd26-c50ffa433d75"
      },
      "execution_count": 29,
      "outputs": [
        {
          "output_type": "execute_result",
          "data": {
            "text/plain": [
              "6"
            ]
          },
          "metadata": {},
          "execution_count": 29
        }
      ]
    },
    {
      "cell_type": "code",
      "source": [
        "# calculate number of anomalies\n",
        "dbscan_anomalies = list(dbscan_labels).count(-1)\n",
        "dbscan_anomalies"
      ],
      "metadata": {
        "id": "jEylZ2h7Z2lR",
        "colab": {
          "base_uri": "https://localhost:8080/"
        },
        "outputId": "b7e594d2-7e4f-41a3-827f-eb8ed4f623cb"
      },
      "execution_count": 30,
      "outputs": [
        {
          "output_type": "execute_result",
          "data": {
            "text/plain": [
              "61"
            ]
          },
          "metadata": {},
          "execution_count": 30
        }
      ]
    },
    {
      "cell_type": "code",
      "execution_count": 33,
      "metadata": {
        "colab": {
          "base_uri": "https://localhost:8080/",
          "height": 489
        },
        "id": "MiqufZn5c52c",
        "outputId": "bda1df64-12ab-46a5-e34a-fc089ac46fae"
      },
      "outputs": [
        {
          "output_type": "execute_result",
          "data": {
            "text/plain": [
              "Text(0.5, 1.0, 'DBScan Clustering')"
            ]
          },
          "metadata": {},
          "execution_count": 33
        },
        {
          "output_type": "display_data",
          "data": {
            "text/plain": [
              "<Figure size 640x480 with 1 Axes>"
            ],
            "image/png": "[encoded data removed]"
          },
          "metadata": {}
        }
      ],
      "source": [
        "# Display DBScan cluster on scatter plot\n",
        "\n",
        "plt.scatter(X['product_count'],X['total_purchase'],c=dbscan_labels)\n",
        "plt.xlabel('product_count')\n",
        "plt.ylabel('total_purchase')\n",
        "plt.title('DBScan Clustering')"
      ]
    },
    {
      "cell_type": "code",
      "execution_count": 34,
      "metadata": {
        "id": "FEz72CEUc52c"
      },
      "outputs": [],
      "source": [
        "# Function for DBScan Clustering\n",
        "\n",
        "def cluster_dbscan(X, e):\n",
        "    mdlDbsRtc = DBSCAN(eps=e)\n",
        "    mdlDbsRtc.fit(X)\n",
        "    dbscan_labels = mdlDbsRtc.labels_\n",
        "    dbscan_sil_score = silhouette_score(X, dbscan_labels)\n",
        "\n",
        "    # count number of clusters and noise points\n",
        "    dbscan_clusters = len(set(dbscan_labels)) - (1 if -1 in dbscan_labels else 0)\n",
        "    dbscan_anomalies = list(dbscan_labels).count(-1)\n",
        "    return(dbscan_clusters, dbscan_anomalies, dbscan_sil_score)"
      ]
    },
    {
      "cell_type": "code",
      "execution_count": 35,
      "metadata": {
        "colab": {
          "base_uri": "https://localhost:8080/"
        },
        "id": "Jl3u8SeKc52c",
        "outputId": "87477ea5-a32a-4d2f-fd6c-9758173bdd3b"
      },
      "outputs": [
        {
          "output_type": "stream",
          "name": "stdout",
          "text": [
            "eps:  0.1 \t Clusters:  11 \t Noise:  264 \t Silhouette Score:  0.6479245357472734\n",
            "eps:  0.2 \t Clusters:  6 \t Noise:  61 \t Silhouette Score:  0.6855644978722631\n",
            "eps:  0.3 \t Clusters:  3 \t Noise:  40 \t Silhouette Score:  0.7206435039604375\n",
            "eps:  0.4 \t Clusters:  5 \t Noise:  20 \t Silhouette Score:  0.7157999212429719\n",
            "eps:  0.5 \t Clusters:  5 \t Noise:  15 \t Silhouette Score:  0.7174777450209849\n",
            "eps:  0.6 \t Clusters:  5 \t Noise:  7 \t Silhouette Score:  0.718611678036434\n",
            "eps:  0.7 \t Clusters:  4 \t Noise:  6 \t Silhouette Score:  0.7207170281481906\n"
          ]
        }
      ],
      "source": [
        "# Iterate over different values of eps to determine best silhouette score\n",
        "\n",
        "for eps in [0.1, 0.2, 0.3, 0.4, 0.5, 0.6, 0.7]:\n",
        "    dbscan_clusters, dbscan_anomalies, dbscan_sil_score = cluster_dbscan(X, eps)\n",
        "    print('eps: ',eps,'\\t', 'Clusters: ', dbscan_clusters, '\\t', 'Noise: ', dbscan_anomalies, '\\t', 'Silhouette Score: ', dbscan_sil_score)"
      ]
    },
    {
      "cell_type": "markdown",
      "metadata": {
        "id": "jSp97HI7c52d"
      },
      "source": [
        "*The highest Silhouette Score in the DBScan model is for a cluster size '42. However, the Hierarchical Clustering and K-Means models gave better results.Even though we may not choose DBScan in this case, it is still useful in determining outliers.*  "
      ]
    },
    {
      "cell_type": "markdown",
      "metadata": {
        "id": "QR-hmESfc52d"
      },
      "source": [
        "![utexas_ds_orie_divider_gray.png](data:image/png;base64,iVBORw0KGgoAAAANSUhEUgAAB0YAAAAKCAYAAAAgjz0QAAAAAXNSR0IArs4c6QAAAHhlWElmTU0AKgAAAAgABAEaAAUAAAABAAAAPgEbAAUAAAABAAAARgEoAAMAAAABAAIAAIdpAAQAAAABAAAATgAAAAAAAACWAAAAAQAAAJYAAAABAAOgAQADAAAAAQABAACgAgAEAAAAAQAAB0agAwAEAAAAAQAAAAoAAAAAoOuQ6gAAAAlwSFlzAAAXEgAAFxIBZ5/SUgAAAbBJREFUeAHt2bEVAiEURcHFsxyKMLU6jcyogQKsxzo01h6IEAqwgb9DQnwHsrdtDgECBAgQIECAAAECBAgQIECAAAECBAgQIECAAAECBIILpNVXa73knM/BW+URIECAAAECBAgQIECAAAECBAgQIECAAAECBAgQIHAwgd77u7X23Vd3KeU+r+vBDOQSIECAAAECBAgQIECAAAECBAgQIECAAAECBAgQIBBcYG6ht5n4OAXvlEeAAAECBAgQIECAAAECBAgQIECAAAECBAgQIECAAIHNMOoTECBAgAABAgQIECBAgAABAgQIECBAgAABAgQIECAQXsAwGv6JBRIgQIAAAQIECBAgQIAAAQIECBAgQIAAAQIECBAgYBj1BwgQIECAAAECBAgQIECAAAECBAgQIECAAAECBAgQCC9gGA3/xAIJECBAgAABAgQIECBAgAABAgQIECBAgAABAgQIENgXwRjjlVJ64iBAgAABAgQIECBAgAABAgQIECBAgAABAgQIECBAgEAkgbmDfiL1aCFAgAABAgQIECBAgAABAgQIECBAgAABAgQIECBAgMBfgR+MbQ+c2cysKQAAAABJRU5ErkJggg==)"
      ]
    }
  ],
  "metadata": {
    "kernelspec": {
      "display_name": "Python 3",
      "language": "python",
      "name": "python3"
    },
    "language_info": {
      "codemirror_mode": {
        "name": "ipython",
        "version": 3
      },
      "file_extension": ".py",
      "mimetype": "text/x-python",
      "name": "python",
      "nbconvert_exporter": "python",
      "pygments_lexer": "ipython3",
      "version": "3.7.1"
    },
    "colab": {
      "provenance": [],
      "include_colab_link": true
    }
  },
  "nbformat": 4,
  "nbformat_minor": 0
}