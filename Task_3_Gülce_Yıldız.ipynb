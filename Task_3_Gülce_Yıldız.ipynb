{
  "nbformat": 4,
  "nbformat_minor": 0,
  "metadata": {
    "colab": {
      "provenance": [],
      "authorship_tag": "ABX9TyOMP75bJ0ZmFwdxIWw0fBir",
      "include_colab_link": true
    },
    "kernelspec": {
      "name": "python3",
      "display_name": "Python 3"
    },
    "language_info": {
      "name": "python"
    }
  },
  "cells": [
    {
      "cell_type": "markdown",
      "metadata": {
        "id": "view-in-github",
        "colab_type": "text"
      },
      "source": [
        "<a href=\"https://colab.research.google.com/github/gulce0/IE-423/blob/main/Task_3_G%C3%BClce_Y%C4%B1ld%C4%B1z.ipynb\" target=\"_parent\"><img src=\"https://colab.research.google.com/assets/colab-badge.svg\" alt=\"Open In Colab\"/></a>"
      ]
    },
    {
      "cell_type": "code",
      "execution_count": null,
      "metadata": {
        "id": "NhHNdoYTsdo6"
      },
      "outputs": [],
      "source": [
        "import pandas as pd\n",
        "import numpy as np\n",
        "\n",
        "import sklearn\n",
        "from sklearn.model_selection import train_test_split\n",
        "from sklearn.metrics import mean_absolute_error\n",
        "\n",
        "import warnings\n",
        "warnings.simplefilter(action='ignore', category=FutureWarning)"
      ]
    },
    {
      "cell_type": "markdown",
      "source": [
        "### Loading Data\n",
        "\n",
        "\n"
      ],
      "metadata": {
        "id": "6hGtD6FLuI0c"
      }
    },
    {
      "cell_type": "code",
      "source": [
        "from google.colab import drive\n",
        "drive.mount('/content/drive')"
      ],
      "metadata": {
        "colab": {
          "base_uri": "https://localhost:8080/"
        },
        "id": "G_1R1Yr_uP8H",
        "outputId": "dae03550-1522-499f-e26e-5635dc6bd471"
      },
      "execution_count": null,
      "outputs": [
        {
          "output_type": "stream",
          "name": "stdout",
          "text": [
            "Drive already mounted at /content/drive; to attempt to forcibly remount, call drive.mount(\"/content/drive\", force_remount=True).\n"
          ]
        }
      ]
    },
    {
      "cell_type": "code",
      "source": [
        "dfCust = pd.read_csv('/content/drive/MyDrive/Colab Notebooks/data/blackfriday/train.csv')\n",
        "\n",
        "# Check for missing values in the target variable\n",
        "print(dfCust['Purchase'].isnull().sum())\n",
        "\n",
        "\n",
        "# Select target as a series and features as dataframe\n",
        "y = dfCust.loc[:,['Purchase']].values.ravel()\n",
        "X = dfCust.drop(['Purchase'],axis=1)\n",
        "\n",
        "# Split into training and test sets\n",
        "X_train, X_test, y_train, y_test = train_test_split(X,y,train_size=0.8, test_size=0.2,random_state=1)"
      ],
      "metadata": {
        "colab": {
          "base_uri": "https://localhost:8080/"
        },
        "id": "SwrNBShMuSF5",
        "outputId": "0528d94e-c8a8-435d-aa66-a07d138aeb5d"
      },
      "execution_count": null,
      "outputs": [
        {
          "output_type": "stream",
          "name": "stdout",
          "text": [
            "0\n"
          ]
        }
      ]
    },
    {
      "cell_type": "markdown",
      "source": [
        "### Building Random Forest Model"
      ],
      "metadata": {
        "id": "WFtljx6svhAo"
      }
    },
    {
      "cell_type": "code",
      "source": [
        "from sklearn.ensemble import RandomForestRegressor\n",
        "\n",
        "# Function for building and scoring Random Forest models\n",
        "def get_random_forest_mae(X_trn, X_tst, y_trn, y_tst):\n",
        "    mdlRfsCust = RandomForestRegressor(random_state=1)\n",
        "    mdlRfsCust.fit(X_trn, y_trn)\n",
        "    y_tst_prd = mdlRfsCust.predict(X_tst)\n",
        "    mae = mean_absolute_error(y_tst, y_tst_prd)\n",
        "    return (mae)"
      ],
      "metadata": {
        "id": "nSRMWyFpvpYG"
      },
      "execution_count": null,
      "outputs": []
    },
    {
      "cell_type": "markdown",
      "source": [
        "We cannot build a model with all feature since some of the columns are non-numeric Specifically, the \"Gender\" column is non-numeric because it contains categorical data (e.g., \"Male\" and \"Female\"). I need to encode these categorical columns into numeric format. Additionally i need to handle ***numerical and non-numerical features*** in different cases."
      ],
      "metadata": {
        "id": "tf_Vwkd5xMmA"
      }
    },
    {
      "cell_type": "markdown",
      "source": [
        "### ***1. Numerical Features***"
      ],
      "metadata": {
        "id": "88AMT82yvc4R"
      }
    },
    {
      "cell_type": "code",
      "source": [
        "# Select numeric features\n",
        "cols_num = [col for col in X.columns if X[col].dtype in ['int64', 'float64']]\n",
        "Xnum = X[cols_num]\n",
        "\n",
        "# Split numeric features into training and test sets\n",
        "Xnum_train, Xnum_test, y_train, y_test = train_test_split(Xnum,y,train_size=0.8, test_size=0.2,random_state=1)"
      ],
      "metadata": {
        "id": "PddSXf3BwSAR"
      },
      "execution_count": null,
      "outputs": []
    },
    {
      "cell_type": "code",
      "source": [
        "Xnum.head()"
      ],
      "metadata": {
        "colab": {
          "base_uri": "https://localhost:8080/",
          "height": 206
        },
        "id": "gUvU30lEv1Yi",
        "outputId": "18b2e417-9266-4ed7-b650-010ffabcce65"
      },
      "execution_count": 94,
      "outputs": [
        {
          "output_type": "execute_result",
          "data": {
            "text/plain": [
              "   User_ID  Occupation  Marital_Status  Product_Category_1  \\\n",
              "0  1000001          10               0                   3   \n",
              "1  1000001          10               0                   1   \n",
              "2  1000001          10               0                  12   \n",
              "3  1000001          10               0                  12   \n",
              "4  1000002          16               0                   8   \n",
              "\n",
              "   Product_Category_2  Product_Category_3  \n",
              "0                 NaN                 NaN  \n",
              "1                 6.0                14.0  \n",
              "2                 NaN                 NaN  \n",
              "3                14.0                 NaN  \n",
              "4                 NaN                 NaN  "
            ],
            "text/html": [
              "\n",
              "  <div id=\"df-1b01558a-d4ff-458e-a890-60dec12f34c9\" class=\"colab-df-container\">\n",
              "    <div>\n",
              "<style scoped>\n",
              "    .dataframe tbody tr th:only-of-type {\n",
              "        vertical-align: middle;\n",
              "    }\n",
              "\n",
              "    .dataframe tbody tr th {\n",
              "        vertical-align: top;\n",
              "    }\n",
              "\n",
              "    .dataframe thead th {\n",
              "        text-align: right;\n",
              "    }\n",
              "</style>\n",
              "<table border=\"1\" class=\"dataframe\">\n",
              "  <thead>\n",
              "    <tr style=\"text-align: right;\">\n",
              "      <th></th>\n",
              "      <th>User_ID</th>\n",
              "      <th>Occupation</th>\n",
              "      <th>Marital_Status</th>\n",
              "      <th>Product_Category_1</th>\n",
              "      <th>Product_Category_2</th>\n",
              "      <th>Product_Category_3</th>\n",
              "    </tr>\n",
              "  </thead>\n",
              "  <tbody>\n",
              "    <tr>\n",
              "      <th>0</th>\n",
              "      <td>1000001</td>\n",
              "      <td>10</td>\n",
              "      <td>0</td>\n",
              "      <td>3</td>\n",
              "      <td>NaN</td>\n",
              "      <td>NaN</td>\n",
              "    </tr>\n",
              "    <tr>\n",
              "      <th>1</th>\n",
              "      <td>1000001</td>\n",
              "      <td>10</td>\n",
              "      <td>0</td>\n",
              "      <td>1</td>\n",
              "      <td>6.0</td>\n",
              "      <td>14.0</td>\n",
              "    </tr>\n",
              "    <tr>\n",
              "      <th>2</th>\n",
              "      <td>1000001</td>\n",
              "      <td>10</td>\n",
              "      <td>0</td>\n",
              "      <td>12</td>\n",
              "      <td>NaN</td>\n",
              "      <td>NaN</td>\n",
              "    </tr>\n",
              "    <tr>\n",
              "      <th>3</th>\n",
              "      <td>1000001</td>\n",
              "      <td>10</td>\n",
              "      <td>0</td>\n",
              "      <td>12</td>\n",
              "      <td>14.0</td>\n",
              "      <td>NaN</td>\n",
              "    </tr>\n",
              "    <tr>\n",
              "      <th>4</th>\n",
              "      <td>1000002</td>\n",
              "      <td>16</td>\n",
              "      <td>0</td>\n",
              "      <td>8</td>\n",
              "      <td>NaN</td>\n",
              "      <td>NaN</td>\n",
              "    </tr>\n",
              "  </tbody>\n",
              "</table>\n",
              "</div>\n",
              "    <div class=\"colab-df-buttons\">\n",
              "\n",
              "  <div class=\"colab-df-container\">\n",
              "    <button class=\"colab-df-convert\" onclick=\"convertToInteractive('df-1b01558a-d4ff-458e-a890-60dec12f34c9')\"\n",
              "            title=\"Convert this dataframe to an interactive table.\"\n",
              "            style=\"display:none;\">\n",
              "\n",
              "  <svg xmlns=\"http://www.w3.org/2000/svg\" height=\"24px\" viewBox=\"0 -960 960 960\">\n",
              "    <path d=\"M120-120v-720h720v720H120Zm60-500h600v-160H180v160Zm220 220h160v-160H400v160Zm0 220h160v-160H400v160ZM180-400h160v-160H180v160Zm440 0h160v-160H620v160ZM180-180h160v-160H180v160Zm440 0h160v-160H620v160Z\"/>\n",
              "  </svg>\n",
              "    </button>\n",
              "\n",
              "  <style>\n",
              "    .colab-df-container {\n",
              "      display:flex;\n",
              "      gap: 12px;\n",
              "    }\n",
              "\n",
              "    .colab-df-convert {\n",
              "      background-color: #E8F0FE;\n",
              "      border: none;\n",
              "      border-radius: 50%;\n",
              "      cursor: pointer;\n",
              "      display: none;\n",
              "      fill: #1967D2;\n",
              "      height: 32px;\n",
              "      padding: 0 0 0 0;\n",
              "      width: 32px;\n",
              "    }\n",
              "\n",
              "    .colab-df-convert:hover {\n",
              "      background-color: #E2EBFA;\n",
              "      box-shadow: 0px 1px 2px rgba(60, 64, 67, 0.3), 0px 1px 3px 1px rgba(60, 64, 67, 0.15);\n",
              "      fill: #174EA6;\n",
              "    }\n",
              "\n",
              "    .colab-df-buttons div {\n",
              "      margin-bottom: 4px;\n",
              "    }\n",
              "\n",
              "    [theme=dark] .colab-df-convert {\n",
              "      background-color: #3B4455;\n",
              "      fill: #D2E3FC;\n",
              "    }\n",
              "\n",
              "    [theme=dark] .colab-df-convert:hover {\n",
              "      background-color: #434B5C;\n",
              "      box-shadow: 0px 1px 3px 1px rgba(0, 0, 0, 0.15);\n",
              "      filter: drop-shadow(0px 1px 2px rgba(0, 0, 0, 0.3));\n",
              "      fill: #FFFFFF;\n",
              "    }\n",
              "  </style>\n",
              "\n",
              "    <script>\n",
              "      const buttonEl =\n",
              "        document.querySelector('#df-1b01558a-d4ff-458e-a890-60dec12f34c9 button.colab-df-convert');\n",
              "      buttonEl.style.display =\n",
              "        google.colab.kernel.accessAllowed ? 'block' : 'none';\n",
              "\n",
              "      async function convertToInteractive(key) {\n",
              "        const element = document.querySelector('#df-1b01558a-d4ff-458e-a890-60dec12f34c9');\n",
              "        const dataTable =\n",
              "          await google.colab.kernel.invokeFunction('convertToInteractive',\n",
              "                                                    [key], {});\n",
              "        if (!dataTable) return;\n",
              "\n",
              "        const docLinkHtml = 'Like what you see? Visit the ' +\n",
              "          '<a target=\"_blank\" href=https://colab.research.google.com/notebooks/data_table.ipynb>data table notebook</a>'\n",
              "          + ' to learn more about interactive tables.';\n",
              "        element.innerHTML = '';\n",
              "        dataTable['output_type'] = 'display_data';\n",
              "        await google.colab.output.renderOutput(dataTable, element);\n",
              "        const docLink = document.createElement('div');\n",
              "        docLink.innerHTML = docLinkHtml;\n",
              "        element.appendChild(docLink);\n",
              "      }\n",
              "    </script>\n",
              "  </div>\n",
              "\n",
              "\n",
              "<div id=\"df-856f83b5-54a3-45d4-af43-ec68c8fcb1cf\">\n",
              "  <button class=\"colab-df-quickchart\" onclick=\"quickchart('df-856f83b5-54a3-45d4-af43-ec68c8fcb1cf')\"\n",
              "            title=\"Suggest charts\"\n",
              "            style=\"display:none;\">\n",
              "\n",
              "<svg xmlns=\"http://www.w3.org/2000/svg\" height=\"24px\"viewBox=\"0 0 24 24\"\n",
              "     width=\"24px\">\n",
              "    <g>\n",
              "        <path d=\"M19 3H5c-1.1 0-2 .9-2 2v14c0 1.1.9 2 2 2h14c1.1 0 2-.9 2-2V5c0-1.1-.9-2-2-2zM9 17H7v-7h2v7zm4 0h-2V7h2v10zm4 0h-2v-4h2v4z\"/>\n",
              "    </g>\n",
              "</svg>\n",
              "  </button>\n",
              "\n",
              "<style>\n",
              "  .colab-df-quickchart {\n",
              "      --bg-color: #E8F0FE;\n",
              "      --fill-color: #1967D2;\n",
              "      --hover-bg-color: #E2EBFA;\n",
              "      --hover-fill-color: #174EA6;\n",
              "      --disabled-fill-color: #AAA;\n",
              "      --disabled-bg-color: #DDD;\n",
              "  }\n",
              "\n",
              "  [theme=dark] .colab-df-quickchart {\n",
              "      --bg-color: #3B4455;\n",
              "      --fill-color: #D2E3FC;\n",
              "      --hover-bg-color: #434B5C;\n",
              "      --hover-fill-color: #FFFFFF;\n",
              "      --disabled-bg-color: #3B4455;\n",
              "      --disabled-fill-color: #666;\n",
              "  }\n",
              "\n",
              "  .colab-df-quickchart {\n",
              "    background-color: var(--bg-color);\n",
              "    border: none;\n",
              "    border-radius: 50%;\n",
              "    cursor: pointer;\n",
              "    display: none;\n",
              "    fill: var(--fill-color);\n",
              "    height: 32px;\n",
              "    padding: 0;\n",
              "    width: 32px;\n",
              "  }\n",
              "\n",
              "  .colab-df-quickchart:hover {\n",
              "    background-color: var(--hover-bg-color);\n",
              "    box-shadow: 0 1px 2px rgba(60, 64, 67, 0.3), 0 1px 3px 1px rgba(60, 64, 67, 0.15);\n",
              "    fill: var(--button-hover-fill-color);\n",
              "  }\n",
              "\n",
              "  .colab-df-quickchart-complete:disabled,\n",
              "  .colab-df-quickchart-complete:disabled:hover {\n",
              "    background-color: var(--disabled-bg-color);\n",
              "    fill: var(--disabled-fill-color);\n",
              "    box-shadow: none;\n",
              "  }\n",
              "\n",
              "  .colab-df-spinner {\n",
              "    border: 2px solid var(--fill-color);\n",
              "    border-color: transparent;\n",
              "    border-bottom-color: var(--fill-color);\n",
              "    animation:\n",
              "      spin 1s steps(1) infinite;\n",
              "  }\n",
              "\n",
              "  @keyframes spin {\n",
              "    0% {\n",
              "      border-color: transparent;\n",
              "      border-bottom-color: var(--fill-color);\n",
              "      border-left-color: var(--fill-color);\n",
              "    }\n",
              "    20% {\n",
              "      border-color: transparent;\n",
              "      border-left-color: var(--fill-color);\n",
              "      border-top-color: var(--fill-color);\n",
              "    }\n",
              "    30% {\n",
              "      border-color: transparent;\n",
              "      border-left-color: var(--fill-color);\n",
              "      border-top-color: var(--fill-color);\n",
              "      border-right-color: var(--fill-color);\n",
              "    }\n",
              "    40% {\n",
              "      border-color: transparent;\n",
              "      border-right-color: var(--fill-color);\n",
              "      border-top-color: var(--fill-color);\n",
              "    }\n",
              "    60% {\n",
              "      border-color: transparent;\n",
              "      border-right-color: var(--fill-color);\n",
              "    }\n",
              "    80% {\n",
              "      border-color: transparent;\n",
              "      border-right-color: var(--fill-color);\n",
              "      border-bottom-color: var(--fill-color);\n",
              "    }\n",
              "    90% {\n",
              "      border-color: transparent;\n",
              "      border-bottom-color: var(--fill-color);\n",
              "    }\n",
              "  }\n",
              "</style>\n",
              "\n",
              "  <script>\n",
              "    async function quickchart(key) {\n",
              "      const quickchartButtonEl =\n",
              "        document.querySelector('#' + key + ' button');\n",
              "      quickchartButtonEl.disabled = true;  // To prevent multiple clicks.\n",
              "      quickchartButtonEl.classList.add('colab-df-spinner');\n",
              "      try {\n",
              "        const charts = await google.colab.kernel.invokeFunction(\n",
              "            'suggestCharts', [key], {});\n",
              "      } catch (error) {\n",
              "        console.error('Error during call to suggestCharts:', error);\n",
              "      }\n",
              "      quickchartButtonEl.classList.remove('colab-df-spinner');\n",
              "      quickchartButtonEl.classList.add('colab-df-quickchart-complete');\n",
              "    }\n",
              "    (() => {\n",
              "      let quickchartButtonEl =\n",
              "        document.querySelector('#df-856f83b5-54a3-45d4-af43-ec68c8fcb1cf button');\n",
              "      quickchartButtonEl.style.display =\n",
              "        google.colab.kernel.accessAllowed ? 'block' : 'none';\n",
              "    })();\n",
              "  </script>\n",
              "</div>\n",
              "\n",
              "    </div>\n",
              "  </div>\n"
            ],
            "application/vnd.google.colaboratory.intrinsic+json": {
              "type": "dataframe",
              "variable_name": "Xnum"
            }
          },
          "metadata": {},
          "execution_count": 94
        }
      ]
    },
    {
      "cell_type": "code",
      "source": [
        "Xnum.describe(include = 'all')"
      ],
      "metadata": {
        "id": "lKdtjirtv_34"
      },
      "execution_count": null,
      "outputs": []
    },
    {
      "cell_type": "code",
      "source": [
        "Xnum.info()"
      ],
      "metadata": {
        "id": "yl9snwn5wHnt"
      },
      "execution_count": null,
      "outputs": []
    },
    {
      "cell_type": "code",
      "source": [
        "# Count number of missing values in each column of the training data\n",
        "Xnum_train.isna().sum()"
      ],
      "metadata": {
        "colab": {
          "base_uri": "https://localhost:8080/"
        },
        "id": "Owdts9GqwUso",
        "outputId": "3885fe77-5b0f-4ccb-ac84-5e368f41022b"
      },
      "execution_count": null,
      "outputs": [
        {
          "output_type": "execute_result",
          "data": {
            "text/plain": [
              "User_ID                    0\n",
              "Occupation                 0\n",
              "Marital_Status             0\n",
              "Product_Category_1         0\n",
              "Product_Category_2    138892\n",
              "Product_Category_3    306504\n",
              "dtype: int64"
            ]
          },
          "metadata": {},
          "execution_count": 59
        }
      ]
    },
    {
      "cell_type": "markdown",
      "source": [
        "We see that some of the numeric columns have **missing values**. There are 2 ways to handle this issue."
      ],
      "metadata": {
        "id": "Vz_FAXLawhzK"
      }
    },
    {
      "cell_type": "markdown",
      "source": [
        "#### *Approach A:  Drop Columns with Missing Values*"
      ],
      "metadata": {
        "id": "JKUdfan6vt9w"
      }
    },
    {
      "cell_type": "code",
      "source": [
        "# Identify columns with missing values and then drop such columns\n",
        "cols_num_null = [col for col in Xnum_train.columns\n",
        "    if Xnum_train[col].isnull().any()]\n",
        "Xnum_train_drpnull = Xnum_train.drop(cols_num_null, axis=1)\n",
        "Xnum_test_drpnull = Xnum_test.drop(cols_num_null, axis=1)"
      ],
      "metadata": {
        "id": "WRAzpraKwzVD"
      },
      "execution_count": null,
      "outputs": []
    },
    {
      "cell_type": "code",
      "source": [
        "print('MAE from Approach A (Drop features with missing values):')\n",
        "print(get_random_forest_mae(Xnum_train_drpnull, Xnum_test_drpnull, y_train, y_test))"
      ],
      "metadata": {
        "colab": {
          "base_uri": "https://localhost:8080/"
        },
        "id": "q68llctRyM9M",
        "outputId": "afc9ee5c-e996-4cf8-a311-d1589f0ae200"
      },
      "execution_count": null,
      "outputs": [
        {
          "output_type": "stream",
          "name": "stdout",
          "text": [
            "MAE from Approach A (Drop features with missing values):\n",
            "2091.2402741391948\n"
          ]
        }
      ]
    },
    {
      "cell_type": "markdown",
      "source": [
        "After dropping missing values in numeric features, the MAE obtained is  $2091."
      ],
      "metadata": {
        "id": "An6jqLkazBQ4"
      }
    },
    {
      "cell_type": "markdown",
      "source": [
        "#### *Approach B: Filling Missing Values by Imputation*"
      ],
      "metadata": {
        "id": "-UmqVTKBzRfI"
      }
    },
    {
      "cell_type": "markdown",
      "source": [
        "Imputation means missing values with some number such as mean value or back, forward values along each column."
      ],
      "metadata": {
        "id": "jv_PCs4ozd0_"
      }
    },
    {
      "cell_type": "code",
      "source": [
        "# Replace with specific value (0, bfill, ffill)\n",
        "Xnum_train_repnull = Xnum_train.fillna(method = 'ffill')\n",
        "Xnum_test_repnull = Xnum_test.fillna(method = 'ffill')\n",
        "\n",
        "# If 'ffill' couldn't fill all NaNs, use 'bfill' to fill NaNs from the back\n",
        "Xnum_train_repnull = Xnum_train_repnull.fillna(method='bfill')\n",
        "Xnum_test_repnull = Xnum_test_repnull.fillna(method='bfill')\n",
        "\n",
        "# Check if there are still any missing values after filling\n",
        "print(\"Missing values in Xnum_train_repnull:\", Xnum_train_repnull.isnull().sum().sum())\n",
        "print(\"Missing values in Xnum_test_repnull:\", Xnum_test_repnull.isnull().sum().sum())\n",
        "\n",
        "print('MAE from Approach B :(Replace missing values with forward fill, if ffill does not work bfill technique is used):')\n",
        "print(get_random_forest_mae(Xnum_train_repnull, Xnum_test_repnull, y_train, y_test))"
      ],
      "metadata": {
        "colab": {
          "base_uri": "https://localhost:8080/"
        },
        "id": "AcZSoHx5-q5c",
        "outputId": "b97aaef7-814f-4338-8e55-4327d4cba4c2"
      },
      "execution_count": null,
      "outputs": [
        {
          "output_type": "stream",
          "name": "stdout",
          "text": [
            "Missing values in Xnum_train_repnull: 0\n",
            "Missing values in Xnum_test_repnull: 0\n",
            "MAE from Approach 2 (Replace missing values with forward fill, if ffill does not work bfill technique is used):\n",
            "2272.049645096092\n"
          ]
        }
      ]
    },
    {
      "cell_type": "markdown",
      "source": [
        "After filling missing values with back-forward values, the MAE obtained is: $2272"
      ],
      "metadata": {
        "id": "rAzNGW9g_ons"
      }
    },
    {
      "cell_type": "code",
      "source": [
        "# Replace with mean value\n",
        "Xnum_train_repnull = Xnum_train.fillna(Xnum_train.mean())\n",
        "Xnum_test_repnull = Xnum_test.fillna(Xnum_train.mean())\n",
        "\n",
        "print('MAE from Approach B (Replace missing values with mean):')\n",
        "print(get_random_forest_mae(Xnum_train_repnull, Xnum_test_repnull, y_train, y_test))"
      ],
      "metadata": {
        "colab": {
          "base_uri": "https://localhost:8080/"
        },
        "id": "3ZWZuxVYz3LC",
        "outputId": "2f7c67b4-a9e9-4cc2-e68d-4924c246f19f"
      },
      "execution_count": null,
      "outputs": [
        {
          "output_type": "stream",
          "name": "stdout",
          "text": [
            "MAE from Approach B (Replace missing values with mean):\n",
            "2193.456214200903\n"
          ]
        }
      ]
    },
    {
      "cell_type": "code",
      "source": [
        "# Going forward, let us replace all missing numeric values with the column mean\n",
        "X_train[cols_num]=Xnum_train_repnull[cols_num]\n",
        "X_test[cols_num]=Xnum_test_repnull[cols_num]\n",
        "\n",
        "# Handle categorical features (example: encoding)\n",
        "X['Gender'] = X['Gender'].map({'M': 1, 'F': 0})\n",
        "X = pd.get_dummies(X, columns=['Age', 'City_Category', 'Stay_In_Current_City_Years', 'Marital_Status'])"
      ],
      "metadata": {
        "id": "m2YtUrkVBz2o"
      },
      "execution_count": null,
      "outputs": []
    },
    {
      "cell_type": "markdown",
      "source": [
        "After filling missing values with mean value, the MAE obtained is: $2193"
      ],
      "metadata": {
        "id": "FvyqQWd609M7"
      }
    },
    {
      "cell_type": "markdown",
      "source": [
        "Dropping columns with missing values gives better MAE results than filling missing values with imputation. It probably means that columns with missing values do not contribute much to the prediction or are noisy, removing them can actually improve the model's performance."
      ],
      "metadata": {
        "id": "LvhsSj4g2XFc"
      }
    },
    {
      "cell_type": "markdown",
      "source": [
        "###  ***2. Non-Numerical Features***"
      ],
      "metadata": {
        "id": "3NlMDxik23hF"
      }
    },
    {
      "cell_type": "markdown",
      "source": [
        "We have handled numerival features so far. Now we need to work with non-numerical features. Converting them to numeric features is necessary."
      ],
      "metadata": {
        "id": "l3uq_jIi3JYj"
      }
    },
    {
      "cell_type": "code",
      "source": [
        "# Select non-numeric features\n",
        "cols_obj = [col for col in X.columns if X[col].dtype == 'object']\n",
        "cols_obj"
      ],
      "metadata": {
        "colab": {
          "base_uri": "https://localhost:8080/"
        },
        "id": "CAmkUXUC3Yfx",
        "outputId": "b83f2bb7-b360-4138-c928-27e9e2b5633b"
      },
      "execution_count": null,
      "outputs": [
        {
          "output_type": "execute_result",
          "data": {
            "text/plain": [
              "['Product_ID']"
            ]
          },
          "metadata": {},
          "execution_count": 78
        }
      ]
    },
    {
      "cell_type": "markdown",
      "source": [
        "Since there are many values to be label encoded and it is not possible to handle all of them, we need to take only categorical features to label."
      ],
      "metadata": {
        "id": "uOEKt66D3lmS"
      }
    },
    {
      "cell_type": "code",
      "source": [
        "# Select categorical features\n",
        "cols_cat = [col for col in X.columns if X[col].dtype == 'object' and X[col].nunique()<10]\n",
        "cols_cat"
      ],
      "metadata": {
        "colab": {
          "base_uri": "https://localhost:8080/"
        },
        "id": "EDJ1cHnb36zD",
        "outputId": "3722b404-4d99-4973-bd4d-587953673212"
      },
      "execution_count": null,
      "outputs": [
        {
          "output_type": "execute_result",
          "data": {
            "text/plain": [
              "[]"
            ]
          },
          "metadata": {},
          "execution_count": 79
        }
      ]
    },
    {
      "cell_type": "code",
      "source": [
        "# Label encoding on only categorical features\n",
        "\n",
        "from sklearn.preprocessing import LabelEncoder\n",
        "\n",
        "Xle_train = X_train.copy()\n",
        "Xle_test = X_test.copy()\n",
        "\n",
        "# Apply label encoder to each column with categorical data\n",
        "label_encoder = LabelEncoder()\n",
        "for col in cols_cat:\n",
        "    Xle_train[col] = label_encoder.fit_transform(X_train[col])\n",
        "    Xle_test[col] = label_encoder.transform(X_test[col])\n",
        "\n",
        "print(\"Number of NaNs in Xle_train:\", Xle_train.isna().sum().sum())\n",
        "print(\"Number of NaNs in Xle_test:\", Xle_test.isna().sum().sum())"
      ],
      "metadata": {
        "colab": {
          "base_uri": "https://localhost:8080/"
        },
        "id": "1Mhj13vK6plf",
        "outputId": "0f18be34-2a21-4de8-d4fb-0b403ebabf08"
      },
      "execution_count": null,
      "outputs": [
        {
          "output_type": "stream",
          "name": "stdout",
          "text": [
            "Number of NaNs in Xle_train: 0\n",
            "Number of NaNs in Xle_test: 0\n"
          ]
        }
      ]
    },
    {
      "cell_type": "code",
      "source": [
        "# Encode and Build/Score using all Categorical columns\n",
        "\n",
        "mae = get_random_forest_mae(Xle_train[cols_num + cols_cat], Xle_test[cols_num + cols_cat], y_train, y_test)\n",
        "print(\"MAE from Label Encoding all Categorical columns:\")\n",
        "print(mae)"
      ],
      "metadata": {
        "colab": {
          "base_uri": "https://localhost:8080/"
        },
        "id": "SafQUyFe64z0",
        "outputId": "508943ad-0e0b-4f21-ac04-ad22269190bb"
      },
      "execution_count": 84,
      "outputs": [
        {
          "output_type": "stream",
          "name": "stdout",
          "text": [
            "MAE from Label Encoding all Categorical columns:\n",
            "2193.456214200903\n"
          ]
        }
      ]
    },
    {
      "cell_type": "markdown",
      "source": [
        "So, by including the Categorical features, the MAE is further reduced to to $2154 which is the best result so far."
      ],
      "metadata": {
        "id": "tBDa0-jXEDN9"
      }
    },
    {
      "cell_type": "markdown",
      "source": [
        "### Building Gradient Boosted Tree Model"
      ],
      "metadata": {
        "id": "TsJtI24QEX3T"
      }
    },
    {
      "cell_type": "markdown",
      "source": [
        "While the Random Forest model is - as the name suggests - \"Random\", what if consequent decision trees are added to the ensemble in such a way that the loss function (Mean Squared Error) is minimized?  This is what a gradient descent function helps with in the **Gradient Boosting** model. GBMs are a type of ensemble learning method, where multiple models (in this case, decision trees) are combined to produce a stronger model.\n"
      ],
      "metadata": {
        "id": "9SSbvx89au1S"
      }
    },
    {
      "cell_type": "code",
      "source": [
        "from xgboost import XGBRegressor\n",
        "\n",
        "#Build and score default Gradient Boosting Model\n",
        "mdlXgbCust = XGBRegressor()\n",
        "mdlXgbCust.fit(Xle_train[cols_num + cols_cat], y_train)\n",
        "y_test_pred = mdlXgbCust.predict(Xle_test[cols_num + cols_cat])\n",
        "mae = mean_absolute_error(y_test_pred, y_test)\n",
        "\n",
        "print(\"MAE from default XGBoost model:\")\n",
        "print(mae)"
      ],
      "metadata": {
        "colab": {
          "base_uri": "https://localhost:8080/"
        },
        "id": "ASsUI7gUEl80",
        "outputId": "5e7a567e-9c30-4346-ae65-9d67fcd866f1"
      },
      "execution_count": null,
      "outputs": [
        {
          "output_type": "stream",
          "name": "stdout",
          "text": [
            "MAE from default XGBoost model:\n",
            "2090.9818629360047\n"
          ]
        }
      ]
    },
    {
      "cell_type": "markdown",
      "source": [
        "This result is the best one so far. Selecting trees to add to the ensemble using gradient descent combined with proper parameter tuning helps to significantly improve the result."
      ],
      "metadata": {
        "id": "0nEgRJ4Fe3LF"
      }
    },
    {
      "cell_type": "code",
      "source": [
        "#Build and score a tuned Gradient Boosting Model\n",
        "mdlXgbCust = XGBRegressor(n_estimators=5000, learning_rate=0.01, max_depth=5)\n",
        "mdlXgbCust.fit(Xle_train[cols_num + cols_cat], y_train)\n",
        "y_test_pred = mdlXgbCust.predict(Xle_test[cols_num + cols_cat])\n",
        "mae = mean_absolute_error(y_test_pred, y_test)\n",
        "\n",
        "print(\"MAE from tuned XGBoost model:\")\n",
        "print(mae)"
      ],
      "metadata": {
        "colab": {
          "base_uri": "https://localhost:8080/"
        },
        "id": "Bn86MZIgE3in",
        "outputId": "2bd7a309-5a93-4649-b0f7-a6f0e58d3655"
      },
      "execution_count": null,
      "outputs": [
        {
          "output_type": "stream",
          "name": "stdout",
          "text": [
            "MAE from tuned XGBoost model:\n",
            "2100.3951026451473\n"
          ]
        }
      ]
    },
    {
      "cell_type": "code",
      "source": [
        "learning_rates = [0.010, 0.10, 0.15, 0.2]\n",
        "results = {}\n",
        "\n",
        "for lr in learning_rates:\n",
        "    mdlXgbCust = XGBRegressor(n_estimators=5000, learning_rate=lr, max_depth=5)\n",
        "    mdlXgbCust.fit(Xle_train[cols_num + cols_cat], y_train)\n",
        "    y_test_pred = mdlXgbCust.predict(Xle_test[cols_num + cols_cat])\n",
        "    mae = mean_absolute_error(y_test_pred, y_test)\n",
        "    results[lr] = mae\n",
        "    print(f\"MAE from XGBoost model with learning rate={lr}: {mae}\")"
      ],
      "metadata": {
        "colab": {
          "base_uri": "https://localhost:8080/"
        },
        "id": "8QQBAlpksAZX",
        "outputId": "69e1b9b0-c87c-4d63-f171-f9a67a93c10a"
      },
      "execution_count": 93,
      "outputs": [
        {
          "output_type": "stream",
          "name": "stdout",
          "text": [
            "MAE from XGBoost model with learning rate=0.01: 2131.6561527874064\n",
            "MAE from XGBoost model with learning rate=0.1: 2074.5299500587153\n",
            "MAE from XGBoost model with learning rate=0.15: 2074.9357661700788\n",
            "MAE from XGBoost model with learning rate=0.2: 2077.673734991848\n"
          ]
        }
      ]
    },
    {
      "cell_type": "markdown",
      "source": [
        "When the learning rate is increased from 0.01 to 0.1, there is a discernible improvement in MAE, suggesting that a higher learning rate is more effective for the model. With a minor increase in MAE from 0.15 to 0.2, further raising the learning rate to 0.15 and 0.2 exhibits diminishing returns.\n",
        "With the lowest MAE (2074.530) among the assessed learning rates, 0.1 seems to be the best choice."
      ],
      "metadata": {
        "id": "vLvgpsrBwZnk"
      }
    },
    {
      "cell_type": "markdown",
      "source": [
        "### Takeaways"
      ],
      "metadata": {
        "id": "0py0Qdscfejc"
      }
    },
    {
      "cell_type": "markdown",
      "source": [
        "MAE from Approach A (Drop features with missing values):\n",
        "2091.2402741391948\n",
        "\n",
        "MAE from Approach B (Replace missing values with mean):\n",
        "2193.456214200903\n",
        "\n",
        "MAE from Approach of Replacing missing values with forward fill, if ffill does not work bfill technique is used:\n",
        "2272.049645096092\n",
        "\n",
        "MAE from Label Encoding all Categorical columns:\n",
        "2193.456214200903\n",
        "\n",
        "MAE from default XGBoost model:\n",
        "2090.9818629360047\n",
        "\n",
        "MAE from XGBoost model with learning rate=0.01: 2131.6561527874064\n",
        "\n",
        "MAE from XGBoost model with learning rate=0.1: 2074.5299500587153\n",
        "\n",
        "MAE from XGBoost model with learning rate=0.15: 2074.9357661700788\n",
        "\n",
        "MAE from XGBoost model with learning rate=0.2: 2077.673734991848"
      ],
      "metadata": {
        "id": "AjJxLnG9smAZ"
      }
    }
  ]
}